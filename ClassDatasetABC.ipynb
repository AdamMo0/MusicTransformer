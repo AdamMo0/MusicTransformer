{
 "cells": [
  {
   "cell_type": "markdown",
   "id": "173e2d6f",
   "metadata": {},
   "source": [
    "# Class for the Dataset"
   ]
  },
  {
   "cell_type": "code",
   "execution_count": 4,
   "id": "13c51df9",
   "metadata": {},
   "outputs": [],
   "source": [
    "import torch\n",
    "from torch.utils.data import Dataset"
   ]
  },
  {
   "cell_type": "markdown",
   "id": "7c43d130",
   "metadata": {},
   "source": [
    "## Defining my own dataset class, provide more freedom to design the problem "
   ]
  },
  {
   "cell_type": "code",
   "execution_count": 8,
   "id": "6d1e10d9",
   "metadata": {},
   "outputs": [],
   "source": [
    "\n",
    "class Dataset_ABC(Dataset):\n",
    "    def __init__(self,\n",
    "                 data,\n",
    "                 input_bars_number = 8, # By default\n",
    "                 target_bars_numbers = 8, # By default\n",
    "                 bos_id=2, # Start Token\n",
    "                 eos_id=3, # End Token\n",
    "                 is_test=False):\n",
    "        \n",
    "        \n",
    "        self.notes = []\n",
    "        self.keys = []\n",
    "        \n",
    "        for (key,notes) in data:\n",
    "            if notes == None:\n",
    "                continue\n",
    " \n",
    "            self.keys.append(key)\n",
    "            self.notes.append(notes)\n",
    "        \n",
    "        self.context_bars_num = context_bars_num\n",
    "        self.target_bars_num = target_bars_num\n",
    "        self.bos_id = bos_id\n",
    "        self.eos_id = eos_id\n",
    "        self.is_test = is_test\n",
    "        \n",
    "        \n",
    "        \n",
    "        \n",
    "    def __len__(self):\n",
    "        return len(self.keys)\n",
    "    \n",
    "    def __getitem__(self,idx):\n",
    "        \n",
    "        notes = self.notes[idx]\n",
    "        keys = self.keys[idx]\n",
    "        \n",
    "        if (not self.is_test):\n",
    "            split_indx = self.context_bars_num\n",
    "\n",
    "            # split notes to input and target\n",
    "            context_notes = notes[split_indx - self.context_bars_num : split_indx]\n",
    "            target_notes = notes[split_indx: split_indx + self.target_bars_num]\n",
    "        else:\n",
    "            context_notes = notes\n",
    "            target_notes = []\n",
    "            \n",
    "        # Tokenization\n",
    "        context_tokens = [self.bos_id] + keys #Start of the token\n",
    "        target_tokens = [self.bos_id]\n",
    "\n",
    "        for bar in context_notes:\n",
    "            context_tokens += bar\n",
    "\n",
    "        for bar in target_notes:\n",
    "            target_tokens += bar\n",
    "\n",
    "        context_tokens += [self.eos_id] # End of the token\n",
    "        target_tokens += [self.eos_id]\n",
    "\n",
    "        # Convert to tensor to be passed to the transformer\n",
    "        context_tokens = torch.tensor(context_tokens, dtype=torch.long)\n",
    "        target_tokens = torch.tensor(target_tokens, dtype=torch.long)\n",
    "\n",
    "        return {\"features\": context_tokens, \"target\": target_tokens}\n",
    "        \n",
    "    "
   ]
  },
  {
   "cell_type": "code",
   "execution_count": null,
   "id": "933f6c58",
   "metadata": {},
   "outputs": [],
   "source": []
  }
 ],
 "metadata": {
  "kernelspec": {
   "display_name": "Python 3 (ipykernel)",
   "language": "python",
   "name": "python3"
  },
  "language_info": {
   "codemirror_mode": {
    "name": "ipython",
    "version": 3
   },
   "file_extension": ".py",
   "mimetype": "text/x-python",
   "name": "python",
   "nbconvert_exporter": "python",
   "pygments_lexer": "ipython3",
   "version": "3.9.13"
  }
 },
 "nbformat": 4,
 "nbformat_minor": 5
}
