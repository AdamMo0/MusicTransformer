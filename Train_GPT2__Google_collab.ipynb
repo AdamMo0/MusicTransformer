{
 "cells": [
  {
   "cell_type": "markdown",
   "metadata": {},
   "source": [
    "# Google Colab Project: Music Composition with GPT-2\n",
    "\n",
    "## Introduction\n",
    "\n",
    "In this project, we explore the fascinating world of music composition using state-of-the-art natural language processing models, specifically GPT-2 (Generative Pre-trained Transformer 2). The goal is to train gpt2 model to generate music compositions in ABC notation.\n",
    "\n",
    "## Project Workflow\n",
    "\n",
    "### Data Loading and Preparation\n",
    "\n",
    "- **Data Source**: The project begins by obtaining a dataset of music compositions in ABC notation. This dataset contains the music pieces that we'll use for training our models.\n",
    "\n",
    "- **Data Preprocessing**: The dataset is preprocessed to clean and format the ABC notation for model training. This includes tokenization and encoding into a suitable format for the models.\n",
    "\n",
    "### GPT-2 Model Training\n",
    "\n",
    "\n",
    "- **Model Selection**: We train the GPT-2 model, a powerful generative language model, using PyTorch.\n",
    "\n",
    "- **Training Procedure**: The GPT-2 model is trained on the preprocessed music data, and multiple runs are logged to track performance. Various hyperparameters are tuned to optimize the model's ability to generate coherent and harmonious music compositions.\n"
   ]
  },
  {
   "cell_type": "code",
   "execution_count": 1,
   "metadata": {
    "colab": {
     "base_uri": "https://localhost:8080/"
    },
    "id": "5n6YGv1LPysa",
    "outputId": "9150f4d3-e6c2-4b13-bcb6-5e641927b8ef"
   },
   "outputs": [
    {
     "name": "stdout",
     "output_type": "stream",
     "text": [
      "Collecting wandb\n",
      "  Downloading wandb-0.15.11-py3-none-any.whl (2.1 MB)\n",
      "\u001b[2K     \u001b[90m━━━━━━━━━━━━━━━━━━━━━━━━━━━━━━━━━━━━━━━━\u001b[0m \u001b[32m2.1/2.1 MB\u001b[0m \u001b[31m19.8 MB/s\u001b[0m eta \u001b[36m0:00:00\u001b[0m\n",
      "\u001b[?25hRequirement already satisfied: Click!=8.0.0,>=7.1 in /usr/local/lib/python3.10/dist-packages (from wandb) (8.1.7)\n",
      "Collecting GitPython!=3.1.29,>=1.0.0 (from wandb)\n",
      "  Downloading GitPython-3.1.37-py3-none-any.whl (190 kB)\n",
      "\u001b[2K     \u001b[90m━━━━━━━━━━━━━━━━━━━━━━━━━━━━━━━━━━━━━━\u001b[0m \u001b[32m190.0/190.0 kB\u001b[0m \u001b[31m21.6 MB/s\u001b[0m eta \u001b[36m0:00:00\u001b[0m\n",
      "\u001b[?25hRequirement already satisfied: requests<3,>=2.0.0 in /usr/local/lib/python3.10/dist-packages (from wandb) (2.31.0)\n",
      "Requirement already satisfied: psutil>=5.0.0 in /usr/local/lib/python3.10/dist-packages (from wandb) (5.9.5)\n",
      "Collecting sentry-sdk>=1.0.0 (from wandb)\n",
      "  Downloading sentry_sdk-1.31.0-py2.py3-none-any.whl (224 kB)\n",
      "\u001b[2K     \u001b[90m━━━━━━━━━━━━━━━━━━━━━━━━━━━━━━━━━━━━━━\u001b[0m \u001b[32m224.8/224.8 kB\u001b[0m \u001b[31m25.9 MB/s\u001b[0m eta \u001b[36m0:00:00\u001b[0m\n",
      "\u001b[?25hCollecting docker-pycreds>=0.4.0 (from wandb)\n",
      "  Downloading docker_pycreds-0.4.0-py2.py3-none-any.whl (9.0 kB)\n",
      "Requirement already satisfied: PyYAML in /usr/local/lib/python3.10/dist-packages (from wandb) (6.0.1)\n",
      "Collecting pathtools (from wandb)\n",
      "  Downloading pathtools-0.1.2.tar.gz (11 kB)\n",
      "  Preparing metadata (setup.py) ... \u001b[?25l\u001b[?25hdone\n",
      "Collecting setproctitle (from wandb)\n",
      "  Downloading setproctitle-1.3.2-cp310-cp310-manylinux_2_5_x86_64.manylinux1_x86_64.manylinux_2_17_x86_64.manylinux2014_x86_64.whl (30 kB)\n",
      "Requirement already satisfied: setuptools in /usr/local/lib/python3.10/dist-packages (from wandb) (67.7.2)\n",
      "Requirement already satisfied: appdirs>=1.4.3 in /usr/local/lib/python3.10/dist-packages (from wandb) (1.4.4)\n",
      "Requirement already satisfied: protobuf!=4.21.0,<5,>=3.19.0 in /usr/local/lib/python3.10/dist-packages (from wandb) (3.20.3)\n",
      "Requirement already satisfied: six>=1.4.0 in /usr/local/lib/python3.10/dist-packages (from docker-pycreds>=0.4.0->wandb) (1.16.0)\n",
      "Collecting gitdb<5,>=4.0.1 (from GitPython!=3.1.29,>=1.0.0->wandb)\n",
      "  Downloading gitdb-4.0.10-py3-none-any.whl (62 kB)\n",
      "\u001b[2K     \u001b[90m━━━━━━━━━━━━━━━━━━━━━━━━━━━━━━━━━━━━━━━━\u001b[0m \u001b[32m62.7/62.7 kB\u001b[0m \u001b[31m7.4 MB/s\u001b[0m eta \u001b[36m0:00:00\u001b[0m\n",
      "\u001b[?25hRequirement already satisfied: charset-normalizer<4,>=2 in /usr/local/lib/python3.10/dist-packages (from requests<3,>=2.0.0->wandb) (3.2.0)\n",
      "Requirement already satisfied: idna<4,>=2.5 in /usr/local/lib/python3.10/dist-packages (from requests<3,>=2.0.0->wandb) (3.4)\n",
      "Requirement already satisfied: urllib3<3,>=1.21.1 in /usr/local/lib/python3.10/dist-packages (from requests<3,>=2.0.0->wandb) (2.0.4)\n",
      "Requirement already satisfied: certifi>=2017.4.17 in /usr/local/lib/python3.10/dist-packages (from requests<3,>=2.0.0->wandb) (2023.7.22)\n",
      "Collecting smmap<6,>=3.0.1 (from gitdb<5,>=4.0.1->GitPython!=3.1.29,>=1.0.0->wandb)\n",
      "  Downloading smmap-5.0.1-py3-none-any.whl (24 kB)\n",
      "Building wheels for collected packages: pathtools\n",
      "  Building wheel for pathtools (setup.py) ... \u001b[?25l\u001b[?25hdone\n",
      "  Created wheel for pathtools: filename=pathtools-0.1.2-py3-none-any.whl size=8791 sha256=d506834138c71cd24ea30e460873ecc99a4e53f30c635de31d97b063917a0721\n",
      "  Stored in directory: /root/.cache/pip/wheels/e7/f3/22/152153d6eb222ee7a56ff8617d80ee5207207a8c00a7aab794\n",
      "Successfully built pathtools\n",
      "Installing collected packages: pathtools, smmap, setproctitle, sentry-sdk, docker-pycreds, gitdb, GitPython, wandb\n",
      "Successfully installed GitPython-3.1.37 docker-pycreds-0.4.0 gitdb-4.0.10 pathtools-0.1.2 sentry-sdk-1.31.0 setproctitle-1.3.2 smmap-5.0.1 wandb-0.15.11\n"
     ]
    },
    {
     "name": "stderr",
     "output_type": "stream",
     "text": [
      "\u001b[34m\u001b[1mwandb\u001b[0m: W&B API key is configured. Use \u001b[1m`wandb login --relogin`\u001b[0m to force relogin\n",
      "\u001b[34m\u001b[1mwandb\u001b[0m: \u001b[33mWARNING\u001b[0m If you're specifying your api key in code, ensure this code is not shared publicly.\n",
      "\u001b[34m\u001b[1mwandb\u001b[0m: \u001b[33mWARNING\u001b[0m Consider setting the WANDB_API_KEY environment variable, or running `wandb login` from the command line.\n",
      "\u001b[34m\u001b[1mwandb\u001b[0m: Appending key for api.wandb.ai to your netrc file: /root/.netrc\n"
     ]
    },
    {
     "name": "stdout",
     "output_type": "stream",
     "text": [
      "Collecting youtokentome\n",
      "  Downloading youtokentome-1.0.6.tar.gz (86 kB)\n",
      "\u001b[?25l     \u001b[90m━━━━━━━━━━━━━━━━━━━━━━━━━━━━━━━━━━━━━━━━\u001b[0m \u001b[32m0.0/86.7 kB\u001b[0m \u001b[31m?\u001b[0m eta \u001b[36m-:--:--\u001b[0m\r",
      "\u001b[2K     \u001b[91m━━━━━━━━━━━━━━━━━━━━━━━━━━━━━━━━━━━━━\u001b[0m\u001b[91m╸\u001b[0m\u001b[90m━━\u001b[0m \u001b[32m81.9/86.7 kB\u001b[0m \u001b[31m2.4 MB/s\u001b[0m eta \u001b[36m0:00:01\u001b[0m\r",
      "\u001b[2K     \u001b[90m━━━━━━━━━━━━━━━━━━━━━━━━━━━━━━━━━━━━━━━━\u001b[0m \u001b[32m86.7/86.7 kB\u001b[0m \u001b[31m2.0 MB/s\u001b[0m eta \u001b[36m0:00:00\u001b[0m\n",
      "\u001b[?25h  Preparing metadata (setup.py) ... \u001b[?25l\u001b[?25hdone\n",
      "Requirement already satisfied: Click>=7.0 in /usr/local/lib/python3.10/dist-packages (from youtokentome) (8.1.7)\n",
      "Building wheels for collected packages: youtokentome\n",
      "  Building wheel for youtokentome (setup.py) ... \u001b[?25l\u001b[?25hdone\n",
      "  Created wheel for youtokentome: filename=youtokentome-1.0.6-cp310-cp310-linux_x86_64.whl size=1948600 sha256=814a8d6cbc3fc708c7399f01decf0c7e62c359bb09f6a5e8a12b7b327bff4d9e\n",
      "  Stored in directory: /root/.cache/pip/wheels/df/85/f8/301d2ba45f43f30bed2fe413efa760bc726b8b660ed9c2900c\n",
      "Successfully built youtokentome\n",
      "Installing collected packages: youtokentome\n",
      "Successfully installed youtokentome-1.0.6\n",
      "Collecting transformers\n",
      "  Downloading transformers-4.33.2-py3-none-any.whl (7.6 MB)\n",
      "\u001b[2K     \u001b[90m━━━━━━━━━━━━━━━━━━━━━━━━━━━━━━━━━━━━━━━━\u001b[0m \u001b[32m7.6/7.6 MB\u001b[0m \u001b[31m47.5 MB/s\u001b[0m eta \u001b[36m0:00:00\u001b[0m\n",
      "\u001b[?25hRequirement already satisfied: filelock in /usr/local/lib/python3.10/dist-packages (from transformers) (3.12.2)\n",
      "Collecting huggingface-hub<1.0,>=0.15.1 (from transformers)\n",
      "  Downloading huggingface_hub-0.17.2-py3-none-any.whl (294 kB)\n",
      "\u001b[2K     \u001b[90m━━━━━━━━━━━━━━━━━━━━━━━━━━━━━━━━━━━━━━\u001b[0m \u001b[32m294.9/294.9 kB\u001b[0m \u001b[31m27.8 MB/s\u001b[0m eta \u001b[36m0:00:00\u001b[0m\n",
      "\u001b[?25hRequirement already satisfied: numpy>=1.17 in /usr/local/lib/python3.10/dist-packages (from transformers) (1.23.5)\n",
      "Requirement already satisfied: packaging>=20.0 in /usr/local/lib/python3.10/dist-packages (from transformers) (23.1)\n",
      "Requirement already satisfied: pyyaml>=5.1 in /usr/local/lib/python3.10/dist-packages (from transformers) (6.0.1)\n",
      "Requirement already satisfied: regex!=2019.12.17 in /usr/local/lib/python3.10/dist-packages (from transformers) (2023.6.3)\n",
      "Requirement already satisfied: requests in /usr/local/lib/python3.10/dist-packages (from transformers) (2.31.0)\n",
      "Collecting tokenizers!=0.11.3,<0.14,>=0.11.1 (from transformers)\n",
      "  Downloading tokenizers-0.13.3-cp310-cp310-manylinux_2_17_x86_64.manylinux2014_x86_64.whl (7.8 MB)\n",
      "\u001b[2K     \u001b[90m━━━━━━━━━━━━━━━━━━━━━━━━━━━━━━━━━━━━━━━━\u001b[0m \u001b[32m7.8/7.8 MB\u001b[0m \u001b[31m85.4 MB/s\u001b[0m eta \u001b[36m0:00:00\u001b[0m\n",
      "\u001b[?25hCollecting safetensors>=0.3.1 (from transformers)\n",
      "  Downloading safetensors-0.3.3-cp310-cp310-manylinux_2_17_x86_64.manylinux2014_x86_64.whl (1.3 MB)\n",
      "\u001b[2K     \u001b[90m━━━━━━━━━━━━━━━━━━━━━━━━━━━━━━━━━━━━━━━━\u001b[0m \u001b[32m1.3/1.3 MB\u001b[0m \u001b[31m70.5 MB/s\u001b[0m eta \u001b[36m0:00:00\u001b[0m\n",
      "\u001b[?25hRequirement already satisfied: tqdm>=4.27 in /usr/local/lib/python3.10/dist-packages (from transformers) (4.66.1)\n",
      "Requirement already satisfied: fsspec in /usr/local/lib/python3.10/dist-packages (from huggingface-hub<1.0,>=0.15.1->transformers) (2023.6.0)\n",
      "Requirement already satisfied: typing-extensions>=3.7.4.3 in /usr/local/lib/python3.10/dist-packages (from huggingface-hub<1.0,>=0.15.1->transformers) (4.5.0)\n",
      "Requirement already satisfied: charset-normalizer<4,>=2 in /usr/local/lib/python3.10/dist-packages (from requests->transformers) (3.2.0)\n",
      "Requirement already satisfied: idna<4,>=2.5 in /usr/local/lib/python3.10/dist-packages (from requests->transformers) (3.4)\n",
      "Requirement already satisfied: urllib3<3,>=1.21.1 in /usr/local/lib/python3.10/dist-packages (from requests->transformers) (2.0.4)\n",
      "Requirement already satisfied: certifi>=2017.4.17 in /usr/local/lib/python3.10/dist-packages (from requests->transformers) (2023.7.22)\n",
      "Installing collected packages: tokenizers, safetensors, huggingface-hub, transformers\n",
      "Successfully installed huggingface-hub-0.17.2 safetensors-0.3.3 tokenizers-0.13.3 transformers-4.33.2\n",
      "Collecting accelerate\n",
      "  Downloading accelerate-0.23.0-py3-none-any.whl (258 kB)\n",
      "\u001b[2K     \u001b[90m━━━━━━━━━━━━━━━━━━━━━━━━━━━━━━━━━━━━━━━\u001b[0m \u001b[32m258.1/258.1 kB\u001b[0m \u001b[31m4.6 MB/s\u001b[0m eta \u001b[36m0:00:00\u001b[0m\n",
      "\u001b[?25hRequirement already satisfied: numpy>=1.17 in /usr/local/lib/python3.10/dist-packages (from accelerate) (1.23.5)\n",
      "Requirement already satisfied: packaging>=20.0 in /usr/local/lib/python3.10/dist-packages (from accelerate) (23.1)\n",
      "Requirement already satisfied: psutil in /usr/local/lib/python3.10/dist-packages (from accelerate) (5.9.5)\n",
      "Requirement already satisfied: pyyaml in /usr/local/lib/python3.10/dist-packages (from accelerate) (6.0.1)\n",
      "Requirement already satisfied: torch>=1.10.0 in /usr/local/lib/python3.10/dist-packages (from accelerate) (2.0.1+cu118)\n",
      "Requirement already satisfied: huggingface-hub in /usr/local/lib/python3.10/dist-packages (from accelerate) (0.17.2)\n",
      "Requirement already satisfied: filelock in /usr/local/lib/python3.10/dist-packages (from torch>=1.10.0->accelerate) (3.12.2)\n",
      "Requirement already satisfied: typing-extensions in /usr/local/lib/python3.10/dist-packages (from torch>=1.10.0->accelerate) (4.5.0)\n",
      "Requirement already satisfied: sympy in /usr/local/lib/python3.10/dist-packages (from torch>=1.10.0->accelerate) (1.12)\n",
      "Requirement already satisfied: networkx in /usr/local/lib/python3.10/dist-packages (from torch>=1.10.0->accelerate) (3.1)\n",
      "Requirement already satisfied: jinja2 in /usr/local/lib/python3.10/dist-packages (from torch>=1.10.0->accelerate) (3.1.2)\n",
      "Requirement already satisfied: triton==2.0.0 in /usr/local/lib/python3.10/dist-packages (from torch>=1.10.0->accelerate) (2.0.0)\n",
      "Requirement already satisfied: cmake in /usr/local/lib/python3.10/dist-packages (from triton==2.0.0->torch>=1.10.0->accelerate) (3.27.4.1)\n",
      "Requirement already satisfied: lit in /usr/local/lib/python3.10/dist-packages (from triton==2.0.0->torch>=1.10.0->accelerate) (16.0.6)\n",
      "Requirement already satisfied: fsspec in /usr/local/lib/python3.10/dist-packages (from huggingface-hub->accelerate) (2023.6.0)\n",
      "Requirement already satisfied: requests in /usr/local/lib/python3.10/dist-packages (from huggingface-hub->accelerate) (2.31.0)\n",
      "Requirement already satisfied: tqdm>=4.42.1 in /usr/local/lib/python3.10/dist-packages (from huggingface-hub->accelerate) (4.66.1)\n",
      "Requirement already satisfied: MarkupSafe>=2.0 in /usr/local/lib/python3.10/dist-packages (from jinja2->torch>=1.10.0->accelerate) (2.1.3)\n",
      "Requirement already satisfied: charset-normalizer<4,>=2 in /usr/local/lib/python3.10/dist-packages (from requests->huggingface-hub->accelerate) (3.2.0)\n",
      "Requirement already satisfied: idna<4,>=2.5 in /usr/local/lib/python3.10/dist-packages (from requests->huggingface-hub->accelerate) (3.4)\n",
      "Requirement already satisfied: urllib3<3,>=1.21.1 in /usr/local/lib/python3.10/dist-packages (from requests->huggingface-hub->accelerate) (2.0.4)\n",
      "Requirement already satisfied: certifi>=2017.4.17 in /usr/local/lib/python3.10/dist-packages (from requests->huggingface-hub->accelerate) (2023.7.22)\n",
      "Requirement already satisfied: mpmath>=0.19 in /usr/local/lib/python3.10/dist-packages (from sympy->torch>=1.10.0->accelerate) (1.3.0)\n",
      "Installing collected packages: accelerate\n",
      "Successfully installed accelerate-0.23.0\n"
     ]
    }
   ],
   "source": [
    "import torch\n",
    "from tqdm import tqdm\n",
    "from argparse import ArgumentParser\n",
    "\n",
    "import glob\n",
    "import os\n",
    "import pandas as pd\n",
    "\n",
    "import sys\n",
    "!pip install wandb\n",
    "\n",
    "import wandb\n",
    "wandb.login(key='30b44f6f59b06faebb3d1f78df32c6fd9961f07d')\n",
    "!{sys.executable} -m pip install youtokentome\n",
    "!{sys.executable} -m pip install transformers\n",
    "!pip install accelerate -U\n",
    "from transformers import Trainer, TrainingArguments,default_data_collator\n",
    "import youtokentome as yttm\n",
    "\n"
   ]
  },
  {
   "cell_type": "code",
   "execution_count": 2,
   "metadata": {
    "colab": {
     "base_uri": "https://localhost:8080/"
    },
    "id": "O7WRPXEt6VHI",
    "outputId": "83445213-b72b-449e-d56a-119f8f6bd846"
   },
   "outputs": [
    {
     "name": "stdout",
     "output_type": "stream",
     "text": [
      "/content\n"
     ]
    }
   ],
   "source": [
    "ORIGIN = os.path.normpath(os.getcwd())\n",
    "print(ORIGIN)\n",
    "TRAIN_DIR =\"/content/drive/MyDrive/test2/\"\n",
    "VALID_DIR = \"/content/drive/MyDrive/Music_project/valid_path/\"\n",
    "TEST_DIR = \"/content/drive/MyDrive/Music_project/test_path/\"\n",
    "TOKENIZER_DIR = \"/content/drive/MyDrive/Music_project/abc_run5.yttm\"\n",
    "DATASET_DIR =\"/content/drive/MyDrive/Music_project/300,000_new_samples.csv\"\n",
    "# OUTPUT_DIR = \"/content/drive/MyDrive/Music_project/output_GPT2_checkpoints6\"\n",
    "OUTPUT_DIR = \"/content/drive/MyDrive/Music_project/\"\n"
   ]
  },
  {
   "cell_type": "code",
   "execution_count": null,
   "metadata": {
    "id": "1Hci0ZEhgVKt"
   },
   "outputs": [],
   "source": [
    "from transformers import GPT2LMHeadModel, GPT2Tokenizer\n",
    "\n",
    "model_name = \"gpt2\"  # You can also use \"gpt2-medium\", \"gpt2-large\", etc., depending on the model size you want to use.\n",
    "tokenizer = GPT2Tokenizer.from_pretrained(model_name)\n",
    "model = GPT2LMHeadModel.from_pretrained(model_name)\n",
    "tokenizer.pad_token = tokenizer.eos_token\n",
    "\n"
   ]
  },
  {
   "cell_type": "code",
   "execution_count": null,
   "metadata": {
    "colab": {
     "base_uri": "https://localhost:8080/"
    },
    "id": "ArRZgTadTrlR",
    "outputId": "1db0a3e1-fb89-4d70-aad1-c921092bd92c"
   },
   "outputs": [
    {
     "data": {
      "text/plain": [
       "tensor([[   55,    25,    16,   198,    51,    25,  3666, 42587,   198,    44,\n",
       "            25,    19,    14,    19,   198,    42,    25,    34,   198,    91,\n",
       "          6458, 25425,   402,    17,   317,    17,   930,   347,    19,   269,\n",
       "            17]])"
      ]
     },
     "execution_count": 21,
     "metadata": {},
     "output_type": "execute_result"
    }
   ],
   "source": [
    "abc_notation = \"X:1\\nT:My Tune\\nM:4/4\\nK:C\\n| CDEF G2 A2 | B4 c2\"\n",
    "input_ids = tokenizer.encode(abc_notation, add_special_tokens=True, return_tensors=\"pt\")\n",
    "input_ids"
   ]
  },
  {
   "cell_type": "code",
   "execution_count": null,
   "metadata": {
    "colab": {
     "base_uri": "https://localhost:8080/"
    },
    "id": "aWIb2LoRTt9R",
    "outputId": "1553e2b8-a458-4de6-c05d-5884ba761f7c"
   },
   "outputs": [
    {
     "name": "stdout",
     "output_type": "stream",
     "text": [
      "X:1\n",
      "T:My Tune\n",
      "M:4/4\n",
      "K:C\n",
      "| CDEF G2 A2 | B4 c2 | B4 c2 | B4 c2 | B4 c2 | B4 c2 | B4 c2 | B4 c2 | B4 c2 | B4 c2 | B4 c2 | B4 c2 | B4 c2 | B4 c2 | B4 c2 | B4 c\n"
     ]
    }
   ],
   "source": [
    "output = model.generate(input_ids, max_length=100, num_return_sequences=1, pad_token_id=tokenizer.eos_token_id)\n",
    "generated_abc = tokenizer.decode(output[0], skip_special_tokens=True)\n",
    "print(generated_abc)"
   ]
  },
  {
   "cell_type": "code",
   "execution_count": 5,
   "metadata": {
    "id": "wHIagjynTcrQ"
   },
   "outputs": [],
   "source": [
    "USEABLE_PARAMS = [i+\":\" for i in \"BCDFGHIKLMmNOPQRrSsTUVWwXZ\"] # These are the parameters for key\n",
    "\n",
    "def read_abc(path):\n",
    "    keys = []\n",
    "    notes = []\n",
    "    with open(path) as rf:\n",
    "        for line in rf:\n",
    "            line = line.strip()\n",
    "            if line.startswith(\"%\"): # Skip any commments\n",
    "                continue\n",
    "\n",
    "            if any([line.startswith(key) for key in USEABLE_PARAMS]):\n",
    "                if(line.startswith('T')):\n",
    "                    continue # skipping the title for better tokenization\n",
    "#                 if(line.startswith('L')):\n",
    "#                     print(line) ## Checking all L in all files\n",
    "                # After checking the all midi files, they all have the length (L) : 1/8\n",
    "                keys.append(line)\n",
    "            else:\n",
    "                notes.append(line)\n",
    "\n",
    "    keys = \" \".join(keys)\n",
    "\n",
    "    notes = \"\".join(notes).strip()\n",
    "    notes = notes.replace(\" \", \"\")\n",
    "\n",
    "    if notes.endswith(\"|\"):\n",
    "        notes = notes[:-1]\n",
    "    # Remove unneeded character.\n",
    "    notes = notes.replace(\" \\ \", \"\")\n",
    "    notes = notes.replace(\"\\\\\", \"\")\n",
    "    notes = notes.replace(\"\\ \", \"\")\n",
    "    notes = notes.replace(\"x8|\", \"\") # 8 because all of the midi file has a L:1/8 that means one muted bar\n",
    "    notes = notes.replace(\"z8|\", \"\") # 8 because all of the midi file has a L:1/8 that means one muted bar\n",
    "\n",
    "    notes = notes.strip()\n",
    "    notes = \" \".join(notes.split(\" \"))\n",
    "\n",
    "    if not keys or not notes:\n",
    "        return None, None\n",
    "\n",
    "    return keys, notes\n",
    "\n",
    "# from Transformer_model import  get_model\n"
   ]
  },
  {
   "cell_type": "code",
   "execution_count": null,
   "metadata": {
    "colab": {
     "base_uri": "https://localhost:8080/"
    },
    "id": "8lJT3Gr0WmRl",
    "outputId": "204fdecb-ab6b-4864-c7ec-6c668445cc3b"
   },
   "outputs": [
    {
     "name": "stdout",
     "output_type": "stream",
     "text": [
      "Drive already mounted at /content/drive; to attempt to forcibly remount, call drive.mount(\"/content/drive\", force_remount=True).\n"
     ]
    }
   ],
   "source": [
    "from google.colab import drive\n",
    "drive.mount('/content/drive')\n"
   ]
  },
  {
   "cell_type": "code",
   "execution_count": null,
   "metadata": {
    "colab": {
     "base_uri": "https://localhost:8080/",
     "height": 35
    },
    "id": "77IoANOAQS2X",
    "outputId": "dacf1279-ed69-4f21-f1d2-654ac2e8453d"
   },
   "outputs": [
    {
     "data": {
      "application/vnd.google.colaboratory.intrinsic+json": {
       "type": "string"
      },
      "text/plain": [
       "'/content/drive/MyDrive/Music_project/output_BERT_checkpoints6'"
      ]
     },
     "execution_count": 9,
     "metadata": {},
     "output_type": "execute_result"
    }
   ],
   "source": [
    "\n",
    "OUTPUT_DIR"
   ]
  },
  {
   "cell_type": "code",
   "execution_count": null,
   "metadata": {
    "id": "7jLugMQ6XO2n"
   },
   "outputs": [],
   "source": [
    "def load_dataset(path):\n",
    "  data = []\n",
    "  count = 0\n",
    "  counter = 0\n",
    "  directory_files = os.listdir(path)\n",
    "  directory_path = path\n",
    "\n",
    "  for file in directory_files:\n",
    "      filename = os.path.join(directory_path, file)\n",
    "      print(filename)\n",
    "      keys, notes = read_abc(filename)\n",
    "      print(\"======================\")\n",
    "      print(keys)\n",
    "      print(notes)\n",
    "      if keys is None:\n",
    "          continue\n",
    "\n",
    "      keys_tokens = tokenizer.encode(keys)\n",
    "\n",
    "\n",
    "      bars = notes.split(\",\")\n",
    "      input_bars = []\n",
    "      target_bars = []\n",
    "      count = 0\n",
    "      notes_tokens = [tokenizer.encode(i + \" | \") for i in bars]\n",
    "\n",
    "      # To avoid out of memory problems\n",
    "      # Will remove for now because of my dataset\n",
    "      print(\"======total=====\")\n",
    "\n",
    "      print(notes_tokens)\n",
    "\n",
    "      sequence_len = sum(len(i) for i in notes_tokens)\n",
    "\n",
    "      counter = counter+1\n",
    "      if counter == 10:\n",
    "        break\n",
    "      data.append((keys_tokens, notes_tokens))\n",
    "  return data"
   ]
  },
  {
   "cell_type": "code",
   "execution_count": null,
   "metadata": {
    "id": "sII85w9A8l7F"
   },
   "outputs": [],
   "source": [
    "import ast\n",
    "\n",
    "def read_dataset(path):\n",
    "  train_data = []\n",
    "  df=pd.read_csv(path);\n",
    "  for i in range (df.shape[0]):\n",
    "\n",
    "    int_key = ast.literal_eval(df.iloc[i][0])\n",
    "\n",
    "    int_notes = ast.literal_eval(df.iloc[i][1])\n",
    "\n",
    "    train_data.append((int_key, int_notes))\n",
    "  return train_data\n"
   ]
  },
  {
   "cell_type": "code",
   "execution_count": null,
   "metadata": {
    "id": "9p06eXC3-Z2x"
   },
   "outputs": [],
   "source": [
    "train_data = read_dataset(TRAIN_DIR)\n"
   ]
  },
  {
   "cell_type": "code",
   "execution_count": null,
   "metadata": {
    "colab": {
     "base_uri": "https://localhost:8080/"
    },
    "id": "yWR6wMdYQ29w",
    "outputId": "9268b717-e7cc-432a-c36c-ddbc4a00e6b2"
   },
   "outputs": [
    {
     "name": "stdout",
     "output_type": "stream",
     "text": [
      "/content/drive/MyDrive/test2/8352_9782.abc\n",
      "======total=====\n",
      "[[58, 33, 18, 14, 17, 38, 18, 14, 17, 12, 35, 18, 14, 17, 12, 38, 11, 18, 14, 17, 12, 35, 11, 18, 14, 17, 12, 7131, 38, 14, 17, 35, 14, 17, 38, 11, 14, 17, 35, 11, 14, 17, 12, 7131, 33, 14, 17, 38, 14, 17, 35, 14, 17, 35, 11, 14, 17, 12, 60, 35, 11, 14, 17, 49146, 33, 14, 17, 38, 14, 17, 35, 14, 17, 35, 11, 14, 17, 12, 60, 35, 11, 14, 17, 49146, 33, 14, 17, 38, 14, 17, 35, 14, 17, 35, 11, 14, 17, 12, 60, 35, 11, 14, 17, 49146, 33, 14, 17, 38, 14, 17, 35, 14, 17, 35, 11, 14, 17, 12, 60, 35, 11, 14, 17, 49146, 33, 14, 17, 38, 14, 17, 35, 14, 17, 35, 11, 14, 17, 12, 60, 35, 11, 14, 17, 49146, 33, 14, 17, 38, 14, 17, 35, 14, 17, 35, 11, 14, 17, 12, 60, 35, 11, 14, 17, 12, 930, 220], [58, 33, 17, 38, 17, 35, 17, 38, 11, 17, 12, 35, 11, 17, 12, 7131, 33, 21, 38, 21, 35, 21, 38, 11, 21, 35, 11, 21, 12, 60, 930, 220], [58, 28, 32, 17, 37, 17, 35, 17, 35, 11, 17, 7131, 32, 14, 17, 12, 37, 14, 17, 12, 35, 14, 17, 7131, 32, 14, 17, 37, 14, 17, 7131, 32, 14, 17, 12, 37, 14, 17, 12, 35, 14, 17, 7131, 32, 14, 17, 37, 14, 17, 7131, 32, 14, 17, 37, 14, 17, 35, 14, 17, 60, 87, 14, 17, 58, 33, 14, 17, 12, 32, 14, 17, 38, 14, 17, 12, 37, 14, 17, 35, 14, 17, 7131, 33, 14, 17, 38, 14, 17, 7131, 32, 14, 17, 37, 14, 17, 35, 14, 17, 60, 87, 14, 17, 58, 32, 14, 17, 12, 37, 14, 17, 12, 35, 14, 17, 7131, 32, 14, 17, 37, 14, 17, 60, 930, 220], [58, 33, 18, 14, 17, 32, 18, 14, 17, 12, 38, 18, 14, 17, 37, 18, 14, 17, 12, 35, 18, 14, 17, 12, 35, 11, 18, 14, 17, 12, 7131, 32, 14, 17, 12, 37, 14, 17, 12, 35, 14, 17, 12, 35, 11, 14, 17, 12, 7131, 4339, 12, 21713, 12, 35, 12, 35, 12095, 7131, 32, 12, 37, 12, 16458, 12095, 7131, 32, 19, 37, 19, 12, 35, 19, 35, 11, 19, 60, 930, 220], [58, 61, 32, 17, 37, 17, 34, 17, 37, 11, 17, 7131, 61, 32, 14, 17, 37, 14, 17, 34, 14, 17, 60, 87, 14, 17, 58, 61, 32, 14, 17, 37, 14, 17, 34, 14, 17, 60, 87, 14, 17, 58, 61, 32, 14, 17, 37, 14, 17, 34, 14, 17, 60, 87, 14, 17, 58, 61, 32, 14, 17, 37, 14, 17, 34, 14, 17, 60, 87, 14, 17, 58, 61, 32, 14, 17, 37, 14, 17, 34, 14, 17, 60, 87, 14, 17, 58, 61, 32, 14, 17, 37, 14, 17, 34, 14, 17, 60, 87, 14, 17, 930, 220], [58, 61, 32, 19, 37, 19, 34, 19, 37, 11, 19, 12, 7131, 61, 32, 19, 37, 19, 34, 19, 37, 11, 19, 60, 930, 220], [58, 33, 17, 37, 17, 35, 17, 33, 9832, 17, 12, 7131, 33, 14, 17, 37, 14, 17, 35, 14, 17, 33, 9832, 14, 17, 12, 60, 33, 9832, 14, 17, 49146, 33, 14, 17, 37, 14, 17, 35, 14, 17, 33, 9832, 14, 17, 12, 60, 33, 9832, 14, 17, 58, 33, 14, 17, 37, 14, 17, 35, 14, 17, 34, 11, 14, 17, 12, 60, 34, 11, 14, 17, 49146, 33, 14, 17, 37, 14, 17, 35, 14, 17, 34, 11, 14, 17, 12, 60, 34, 11, 14, 17, 49146, 33, 14, 17, 37, 14, 17, 35, 14, 17, 34, 11, 14, 17, 12, 60, 34, 11, 14, 17, 49146, 33, 14, 17, 37, 14, 17, 35, 14, 17, 34, 11, 14, 17, 12, 60, 34, 11, 14, 17, 930, 220], [58, 33, 17, 37, 17, 35, 17, 35, 11, 17, 12, 33, 9832, 17, 12, 7131, 33, 17, 12, 37, 17, 12, 35, 17, 12, 35, 11, 17, 33, 9832, 17, 12, 7131, 33, 17, 12, 37, 17, 12, 35, 17, 12, 36, 11, 17, 33, 9832, 17, 12, 7131, 33, 17, 37, 17, 35, 17, 37, 11, 17, 33, 9832, 17, 60, 930, 220], [58, 33, 17, 38, 17, 35, 17, 38, 11, 17, 12, 7131, 33, 14, 17, 38, 14, 17, 35, 14, 17, 38, 11, 14, 17, 12, 60, 38, 11, 14, 17, 49146, 33, 14, 17, 38, 14, 17, 35, 14, 17, 38, 11, 14, 17, 12, 60, 38, 11, 14, 17, 49146, 33, 14, 17, 38, 14, 17, 35, 14, 17, 38, 11, 14, 17, 12, 60, 38, 11, 14, 17, 49146, 33, 14, 17, 38, 14, 17, 35, 14, 17, 38, 11, 14, 17, 12, 60, 38, 11, 14, 17, 49146, 33, 14, 17, 38, 14, 17, 35, 14, 17, 38, 11, 14, 17, 12, 60, 38, 11, 14, 17, 49146, 33, 14, 17, 38, 14, 17, 35, 14, 17, 38, 11, 14, 17, 12, 60, 38, 11, 14, 17, 12, 930, 220], [58, 33, 17, 38, 17, 35, 17, 38, 11, 17, 12, 7131, 33, 21, 38, 21, 35, 21, 38, 11, 21, 60, 930, 220], [58, 28, 32, 12, 37, 12, 35, 12, 35, 12095, 7131, 33, 12, 4760, 12, 37, 16458, 11, 7131, 33, 14, 17, 32, 14, 17, 38, 14, 17, 37, 14, 17, 35, 14, 17, 60, 87, 14, 17, 58, 33, 14, 17, 12, 32, 14, 17, 38, 14, 17, 12, 37, 14, 17, 35, 14, 17, 7131, 33, 14, 17, 12, 38, 14, 17, 12, 7131, 33, 14, 17, 12, 32, 14, 17, 38, 14, 17, 12, 37, 14, 17, 35, 14, 17, 7131, 33, 14, 17, 12, 38, 14, 17, 12, 7131, 33, 14, 17, 12, 32, 14, 17, 12, 38, 14, 17, 12, 37, 14, 17, 12, 35, 14, 17, 7131, 33, 14, 17, 12, 32, 14, 17, 12, 38, 14, 17, 12, 37, 14, 17, 12, 7131, 33, 14, 17, 32, 14, 17, 38, 14, 17, 37, 14, 17, 35, 14, 17, 60, 87, 14, 17, 58, 32, 14, 17, 37, 14, 17, 35, 14, 17, 12, 60, 35, 14, 17, 930, 220], [58, 32, 12, 37, 12, 35, 12, 32, 11, 35, 12095, 7131, 32, 17, 12, 37, 17, 12, 35, 17, 12, 35, 11, 17, 12, 7131, 33, 12, 32, 12, 38, 12, 37, 12, 16458, 12095, 7131, 33, 14, 17, 32, 14, 17, 12, 38, 14, 17, 37, 14, 17, 12, 35, 14, 17, 12, 35, 11, 14, 17, 12, 7131, 32, 18, 12, 37, 18, 12, 35, 18, 12, 35, 11, 18, 12, 7131, 32, 14, 17, 37, 14, 17, 35, 14, 17, 35, 11, 14, 17, 60, 930, 220], [58, 33, 17, 38, 17, 36, 17, 36, 11, 17, 7131, 33, 14, 17, 38, 14, 17, 36, 14, 17, 60, 87, 14, 17, 58, 33, 14, 17, 38, 14, 17, 36, 14, 17, 60, 87, 14, 17, 58, 33, 14, 17, 38, 14, 17, 36, 14, 17, 60, 87, 14, 17, 58, 33, 14, 17, 38, 14, 17, 36, 14, 17, 60, 87, 14, 17, 58, 33, 14, 17, 38, 14, 17, 36, 14, 17, 60, 87, 14, 17, 58, 33, 14, 17, 38, 14, 17, 36, 14, 17, 60, 87, 14, 17, 930, 220], [58, 33, 19, 38, 19, 36, 19, 36, 11, 19, 12, 7131, 33, 19, 38, 19, 36, 19, 36, 11, 19, 60, 930, 220], [58, 61, 32, 17, 37, 17, 34, 17, 37, 11, 17, 7131, 61, 32, 14, 17, 37, 14, 17, 34, 14, 17, 60, 87, 14, 17, 58, 61, 32, 14, 17, 37, 14, 17, 34, 14, 17, 60, 87, 14, 17, 58, 61, 32, 14, 17, 37, 14, 17, 34, 14, 17, 60, 87, 14, 17, 58, 61, 32, 14, 17, 37, 14, 17, 34, 14, 17, 60, 87, 14, 17, 58, 61, 32, 14, 17, 37, 14, 17, 34, 14, 17, 60, 87, 14, 17, 58, 61, 32, 14, 17, 37, 14, 17, 34, 14, 17, 60, 87, 14, 17, 930, 220], [58, 37, 14, 17, 12, 34, 14, 17, 12, 37, 11, 14, 17, 12, 7131, 61, 32, 18, 12, 37, 18, 12, 34, 18, 12, 37, 11, 18, 12, 7131, 61, 32, 14, 17, 37, 14, 17, 34, 14, 17, 37, 11, 14, 17, 12, 7131, 61, 32, 19, 37, 19, 34, 19, 37, 11, 19, 60, 930, 220]]\n",
      "/content/drive/MyDrive/test2/8425_9782.abc\n",
      "======total=====\n",
      "[[58, 33, 11, 17, 12, 28, 38, 11, 17, 12, 7131, 11012, 12095, 38, 12095, 7131, 33, 12095, 38, 12095, 7131, 4579, 12095, 38, 12095, 7131, 35, 12, 33, 12095, 38, 12095, 7131, 11012, 12095, 38, 12095, 7131, 33, 12095, 38, 12095, 60, 930, 220], [58, 33, 17, 12, 33, 11, 17, 12, 38, 11, 17, 12, 7131, 33, 12, 33, 12095, 38, 12095, 7131, 15199, 12095, 38, 12095, 7131, 33, 11, 17, 12, 32, 11, 17, 38, 11, 17, 12, 7131, 35, 12, 33, 12095, 38, 12095, 7131, 11012, 11, 38, 11, 60, 930, 220], [58, 35, 17, 32, 11, 17, 12, 37, 11, 17, 12, 35, 11, 17, 12, 7131, 3838, 12095, 37, 12095, 35, 12095, 7131, 7708, 12095, 37, 12095, 35, 12095, 7131, 5631, 12095, 37, 12095, 35, 12095, 7131, 67, 32, 12095, 37, 12095, 35, 12095, 7131, 7708, 12095, 37, 12095, 35, 12095, 7131, 5631, 12095, 37, 12095, 35, 11, 60, 930, 220], [58, 32, 11, 17, 12, 37, 11, 17, 12, 7131, 5631, 12095, 37, 12095, 7131, 7708, 11, 37, 12095, 7131, 37, 11, 17, 12, 35, 11, 17, 12, 7131, 8068, 12095, 35, 12095, 7131, 5777, 11, 35, 11, 60, 930, 220], [58, 38, 11, 17, 12, 36, 11, 17, 12, 7131, 33, 11, 38, 12095, 36, 12095, 7131, 35, 38, 12095, 36, 12095, 7131, 33, 11, 38, 12095, 36, 12095, 7131, 11190, 12095, 36, 12095, 7131, 33, 11, 38, 12095, 36, 12095, 7131, 11190, 12095, 36, 12095, 60, 930, 220], [58, 33, 17, 12, 38, 11, 17, 12, 36, 11, 17, 12, 33, 9832, 17, 12, 7131, 33, 12, 33, 12095, 38, 12095, 36, 12095, 33, 9832, 12, 7131, 33, 12, 35, 12, 33, 11, 38, 11, 36, 11, 33, 9832, 7131, 33, 12, 35, 61, 32, 12095, 37, 12095, 33, 9832, 12, 7131, 33, 12, 61, 32, 12095, 37, 12095, 33, 9832, 12, 7131, 33, 12, 33, 11, 61, 32, 12095, 37, 12095, 33, 9832, 12, 7131, 14529, 61, 32, 11, 37, 11, 33, 9832, 60, 930, 220], [58, 61, 32, 11, 17, 12, 37, 11, 17, 12, 7131, 61, 32, 12095, 37, 12095, 7131, 36, 61, 32, 12095, 37, 12095, 7131, 61, 32, 12095, 37, 12095, 7131, 37, 12, 61, 32, 11, 37, 12095, 7131, 15112, 12, 61, 32, 12095, 37, 12095, 7131, 36, 61, 32, 11, 37, 11, 60, 930, 220], [58, 66, 17, 12, 33, 11, 17, 12, 61, 38, 11, 17, 12, 7131, 66, 12, 33, 12095, 61, 38, 12095, 7131, 66, 12, 33, 11, 61, 38, 11, 7131, 66, 17, 12, 34, 17, 12, 61, 32, 11, 17, 12, 7131, 66, 12, 34, 12, 61, 32, 12095, 7131, 66, 34, 61, 32, 11, 60, 930, 220], [58, 37, 21, 12, 35, 21, 12, 33, 11, 21, 12, 7131, 37, 12, 35, 12, 33, 12095, 7131, 69, 14, 17, 66, 14, 17, 61, 32, 14, 17, 37, 14, 17, 35, 14, 17, 12, 33, 11, 14, 17, 12, 7131, 35, 14, 17, 12, 33, 11, 14, 17, 12, 60, 930, 220], [58, 69, 19, 12, 67, 19, 12, 33, 19, 12, 37, 19, 35, 19, 12, 33, 11, 19, 12, 7131, 69, 18, 67, 18, 33, 18, 37, 18, 12, 35, 18, 12, 33, 11, 18, 12, 7131, 37, 11012, 11, 60, 930, 220], [58, 37, 17, 12, 34, 17, 12, 61, 32, 11, 17, 12, 7131, 37, 12, 34, 12, 61, 32, 12095, 7131, 37, 17, 12, 34, 17, 12, 61, 32, 11, 17, 12, 7131, 16072, 61, 8579, 12, 34, 12, 61, 32, 12095, 7131, 37, 12, 34, 12, 61, 32, 12095, 7131, 69, 14, 17, 66, 14, 17, 61, 32, 14, 17, 37, 14, 17, 34, 14, 17, 12, 61, 32, 11, 14, 17, 12, 7131, 34, 14, 17, 12, 61, 32, 11, 14, 17, 12, 60, 930, 220], [58, 69, 17, 12, 66, 17, 12, 61, 32, 17, 12, 37, 17, 12, 34, 17, 12, 61, 32, 11, 17, 12, 7131, 69, 12, 66, 12, 61, 32, 12, 37, 12, 34, 12, 61, 32, 12095, 7131, 69, 12, 66, 12, 61, 32, 12, 4851, 12, 61, 32, 12095, 7131, 69, 17, 12, 66, 17, 12, 61, 32, 17, 12, 34, 17, 12, 61, 32, 11, 17, 12, 7131, 16072, 61, 2246, 12, 61, 32, 12095, 7131, 34, 61, 32, 11, 60, 930, 220], [58, 36, 21, 12, 34, 21, 12, 28, 32, 11, 21, 12, 7131, 36, 12, 34, 12, 32, 12095, 7131, 61, 67, 14, 17, 28, 66, 14, 17, 61, 38, 14, 17, 36, 14, 17, 61, 34, 14, 17, 12, 32, 11, 14, 17, 12, 7131, 34, 14, 17, 12, 32, 11, 14, 17, 12, 60, 930, 220], [58, 68, 19, 12, 66, 19, 12, 32, 19, 12, 36, 19, 34, 19, 12, 32, 11, 19, 12, 7131, 68, 18, 66, 18, 32, 18, 36, 18, 12, 34, 18, 12, 32, 11, 18, 12, 7131, 36600, 11, 60, 930, 220], [58, 33, 11, 17, 12, 61, 38, 11, 17, 12, 36, 11, 17, 12, 7131, 33, 12095, 61, 38, 12095, 36, 12095, 7131, 33, 11, 18, 12, 61, 38, 11, 18, 12, 36, 11, 18, 12, 7131, 33, 12095, 61, 38, 12095, 36, 12095, 7131, 61, 67, 14, 17, 61, 32, 14, 17, 28, 38, 14, 17, 33, 11, 14, 17, 12, 61, 38, 11, 14, 17, 12, 36, 11, 14, 17, 7131, 33, 11, 14, 17, 12, 61, 38, 11, 14, 17, 12, 60, 930, 220], [58, 68, 17, 12, 33, 17, 12, 61, 38, 17, 12, 36, 17, 12, 33, 11, 17, 12, 61, 38, 11, 17, 12, 7131, 68, 12, 33, 12, 61, 38, 12, 36, 12, 33, 12095, 61, 38, 12095, 7131, 68, 12, 33, 12, 61, 38, 12, 30195, 12095, 61, 38, 12095, 7131, 68, 17, 12, 33, 17, 12, 61, 38, 17, 12, 36, 17, 12, 33, 11, 17, 12, 61, 38, 11, 17, 12, 7131, 68, 33, 61, 8264, 12, 33, 12095, 61, 38, 12095, 7131, 30195, 11, 61, 38, 11, 60, 930, 220]]\n",
      "/content/drive/MyDrive/test2/9021_128121.abc\n",
      "======total=====\n",
      "[[58, 38, 12, 38, 12095, 7131, 38, 12, 38, 12095, 7131, 38, 12, 38, 12095, 7131, 11190, 11, 7131, 28, 32, 12, 28, 32, 12095, 7131, 28, 32, 12, 28, 32, 12095, 7131, 28, 32, 12, 28, 32, 12095, 7131, 28, 32, 28, 32, 11, 60, 930, 220], [58, 28, 33, 12, 28, 33, 12095, 7131, 28, 33, 12, 28, 33, 12095, 7131, 28, 33, 12, 28, 33, 12095, 7131, 28, 33, 12, 28, 33, 12095, 7131, 28, 33, 12, 28, 33, 12095, 7131, 28, 33, 12, 28, 33, 12095, 7131, 28, 33, 12, 28, 33, 12095, 7131, 28, 33, 14, 17, 28, 33, 11, 14, 17, 60, 87, 14, 17, 930, 220], [58, 68, 12, 66, 62, 14242, 12, 7131, 68, 14, 17, 12, 36, 14, 17, 12, 7131, 68, 14, 17, 12, 66, 14, 17, 12, 32, 14, 17, 12, 36, 14, 17, 12, 7131, 68, 14, 17, 12, 66, 14, 17, 32, 14, 17, 36, 14, 17, 12, 7131, 68, 14, 17, 12, 36, 14, 17, 12, 7131, 68, 12, 66, 8264, 12, 7131, 68, 12, 36, 12, 7131, 68, 12, 66, 8264, 12, 7131, 68, 14, 17, 12, 36, 14, 17, 12, 7131, 68, 14, 17, 12, 66, 14, 17, 12, 38, 14, 17, 12, 36, 14, 17, 12, 7131, 68, 14, 17, 12, 66, 14, 17, 38, 14, 17, 36, 14, 17, 12, 7131, 68, 14, 17, 36, 14, 17, 60, 930, 220], [58, 68, 12, 66, 62, 33, 15112, 12, 7131, 68, 14, 17, 12, 36, 14, 17, 12, 7131, 68, 14, 17, 12, 66, 14, 17, 12, 33, 14, 17, 12, 37, 14, 17, 12, 36, 14, 17, 12, 7131, 68, 14, 17, 12, 66, 14, 17, 33, 14, 17, 37, 14, 17, 36, 14, 17, 12, 7131, 68, 14, 17, 12, 36, 14, 17, 12, 7131, 68, 12, 66, 8579, 36, 12, 7131, 68, 12, 36, 12, 7131, 68, 12, 66, 8579, 36, 12, 7131, 68, 14, 17, 12, 36, 14, 17, 12, 7131, 68, 14, 17, 12, 66, 14, 17, 12, 32, 14, 17, 12, 37, 14, 17, 12, 36, 14, 17, 12, 7131, 68, 14, 17, 66, 14, 17, 32, 14, 17, 37, 14, 17, 36, 14, 17, 60, 87, 14, 17, 930, 220], [58, 69, 12, 67, 29499, 12, 7131, 69, 14, 17, 12, 37, 14, 17, 12, 7131, 69, 14, 17, 12, 67, 14, 17, 12, 33, 14, 17, 12, 37, 14, 17, 12, 7131, 69, 14, 17, 12, 67, 14, 17, 33, 14, 17, 37, 14, 17, 12, 7131, 69, 14, 17, 12, 37, 14, 17, 12, 7131, 69, 12, 67, 29499, 12, 7131, 69, 12, 37, 12, 7131, 69, 12, 67, 29499, 12, 7131, 69, 14, 17, 12, 37, 14, 17, 12, 7131, 69, 14, 17, 12, 67, 14, 17, 12, 33, 14, 17, 12, 37, 14, 17, 12, 7131, 69, 14, 17, 67, 14, 17, 33, 14, 17, 37, 14, 17, 60, 87, 14, 17, 930, 220], [58, 68, 33, 12, 14242, 33, 12095, 7131, 33, 14, 17, 12, 33, 11, 14, 17, 12, 7131, 68, 14, 17, 12, 33, 14, 17, 12, 32, 14, 17, 12, 36, 14, 17, 12, 33, 11, 14, 17, 12, 7131, 68, 14, 17, 33, 14, 17, 12, 32, 14, 17, 36, 14, 17, 33, 11, 14, 17, 12, 7131, 33, 14, 17, 12, 33, 11, 14, 17, 12, 7131, 68, 33, 12, 8264, 33, 12095, 7131, 33, 12, 33, 12095, 7131, 68, 33, 12, 8264, 33, 12095, 7131, 33, 14, 17, 12, 33, 11, 14, 17, 12, 7131, 68, 14, 17, 12, 33, 14, 17, 12, 38, 14, 17, 12, 36, 14, 17, 12, 33, 11, 14, 17, 12, 7131, 68, 14, 17, 33, 14, 17, 38, 14, 17, 36, 14, 17, 33, 11, 14, 17, 60, 87, 14, 17, 930, 220], [58, 68, 12, 66, 14242, 12, 7131, 68, 14, 17, 12, 36, 14, 17, 12, 7131, 68, 14, 17, 12, 66, 14, 17, 12, 32, 14, 17, 12, 36, 14, 17, 12, 7131, 68, 14, 17, 12, 66, 14, 17, 32, 14, 17, 36, 14, 17, 12, 7131, 68, 14, 17, 12, 36, 14, 17, 12, 7131, 68, 12, 66, 8264, 12, 7131, 68, 12, 36, 12, 7131, 68, 12, 66, 8264, 12, 7131, 68, 14, 17, 12, 36, 14, 17, 12, 7131, 68, 14, 17, 12, 66, 14, 17, 12, 38, 14, 17, 12, 36, 14, 17, 12, 7131, 68, 14, 17, 66, 14, 17, 38, 14, 17, 36, 14, 17, 60, 87, 14, 17, 930, 220], [58, 721, 4339, 12, 7708, 12095, 7131, 32, 14, 17, 12, 32, 11, 14, 17, 12, 7131, 68, 14, 17, 12, 66, 14, 17, 12, 33, 14, 17, 12, 32, 14, 17, 12, 37, 14, 17, 12, 32, 11, 14, 17, 12, 7131, 68, 14, 17, 66, 14, 17, 33, 14, 17, 32, 14, 17, 12, 37, 14, 17, 32, 11, 14, 17, 12, 7131, 32, 14, 17, 12, 32, 11, 14, 17, 12, 7131, 721, 32, 12, 7708, 12095, 7131, 32, 12, 32, 12095, 7131, 721, 32, 12, 7708, 12095, 7131, 32, 14, 17, 12, 32, 11, 14, 17, 12, 7131, 68, 14, 17, 12, 66, 14, 17, 12, 32, 14, 17, 12, 37, 14, 17, 12, 32, 11, 14, 17, 12, 7131, 68, 14, 17, 66, 14, 17, 32, 14, 17, 37, 14, 17, 32, 11, 14, 17, 60, 87, 14, 17, 930, 220], [58, 21287, 12, 66, 45113, 12, 7131, 67, 14, 17, 12, 35, 14, 17, 12, 7131, 70, 14, 17, 12, 67, 14, 17, 12, 66, 14, 17, 12, 38, 14, 17, 12, 35, 14, 17, 12, 7131, 70, 14, 17, 67, 14, 17, 12, 66, 14, 17, 38, 14, 17, 35, 14, 17, 12, 7131, 67, 14, 17, 12, 35, 14, 17, 12, 7131, 69, 12, 17896, 12, 28, 32, 12, 37, 12, 35, 7131, 69, 14, 17, 12, 66, 14, 17, 28, 32, 14, 17, 37, 14, 17, 12, 7131, 69, 14, 17, 12, 37, 14, 17, 12, 7131, 69, 12, 66, 28, 8579, 12, 7131, 69, 14, 17, 12, 37, 14, 17, 12, 7131, 69, 14, 17, 12, 66, 14, 17, 12, 28, 32, 14, 17, 12, 37, 14, 17, 12, 7131, 69, 14, 17, 12, 66, 14, 17, 28, 32, 14, 17, 37, 14, 17, 12, 7131, 69, 14, 17, 37, 14, 17, 60, 930, 220], [58, 70, 12, 67, 28, 40469, 12, 7131, 70, 14, 17, 12, 38, 14, 17, 12, 7131, 70, 14, 17, 12, 67, 14, 17, 12, 28, 33, 14, 17, 12, 38, 14, 17, 12, 7131, 70, 14, 17, 12, 67, 14, 17, 28, 33, 14, 17, 38, 14, 17, 12, 7131, 70, 14, 17, 12, 38, 14, 17, 12, 7131, 70, 12, 68, 12, 28, 33, 12, 38, 12, 7131, 70, 26488, 17, 12, 70, 14, 17, 12, 68, 14, 17, 28, 33, 14, 17, 38, 14, 17, 7131, 70, 26488, 17, 12, 70, 14, 17, 12, 7131, 70, 29001, 70, 12, 68, 28, 40469, 7131, 70, 26488, 17, 12, 70, 14, 17, 12, 7131, 70, 26488, 17, 12, 70, 14, 17, 12, 68, 14, 17, 12, 28, 33, 14, 17, 12, 38, 14, 17, 12, 7131, 70, 26488, 17, 12, 70, 14, 17, 12, 68, 14, 17, 28, 33, 14, 17, 38, 14, 17, 7131, 70, 26488, 17, 70, 14, 17, 60, 930, 220], [58, 70, 12, 16072, 38, 12, 37, 7131, 70, 14, 17, 12, 38, 14, 17, 12, 7131, 70, 14, 17, 12, 69, 14, 17, 12, 66, 14, 17, 12, 38, 14, 17, 12, 37, 14, 17, 12, 7131, 70, 14, 17, 12, 69, 14, 17, 66, 14, 17, 38, 14, 17, 12, 37, 14, 17, 7131, 70, 14, 17, 12, 38, 14, 17, 12, 7131, 70, 12, 68, 12, 66, 12, 38, 12, 36, 12, 7131, 70, 14, 17, 12, 68, 14, 17, 66, 14, 17, 38, 14, 17, 12, 36, 14, 17, 7131, 70, 14, 17, 12, 38, 14, 17, 12, 7131, 70, 12, 721, 38, 12, 36, 7131, 70, 14, 17, 12, 38, 14, 17, 12, 7131, 70, 14, 17, 12, 68, 14, 17, 12, 66, 14, 17, 12, 38, 14, 17, 12, 36, 14, 17, 12, 7131, 70, 14, 17, 68, 14, 17, 66, 14, 17, 38, 14, 17, 36, 14, 17, 60, 87, 14, 17, 930, 220], [58, 69, 12, 17896, 37, 12, 7131, 69, 14, 17, 12, 37, 14, 17, 12, 7131, 69, 14, 17, 12, 67, 14, 17, 12, 66, 14, 17, 12, 37, 14, 17, 12, 7131, 69, 14, 17, 12, 67, 14, 17, 66, 14, 17, 37, 14, 17, 12, 7131, 69, 14, 17, 12, 37, 14, 17, 12, 7131, 69, 12, 67, 12, 62, 33, 12, 37, 12, 7131, 69, 14, 17, 12, 67, 14, 17, 33, 14, 17, 37, 14, 17, 12, 7131, 69, 14, 17, 12, 37, 14, 17, 12, 7131, 69, 12, 67, 29499, 12, 7131, 69, 14, 17, 12, 37, 14, 17, 12, 7131, 69, 14, 17, 12, 67, 14, 17, 12, 33, 14, 17, 12, 37, 14, 17, 12, 7131, 69, 14, 17, 67, 14, 17, 33, 14, 17, 37, 14, 17, 60, 87, 14, 17, 930, 220], [29795, 64, 12, 16072, 32, 12, 7131, 64, 14, 17, 12, 32, 14, 17, 12, 7131, 64, 14, 17, 12, 69, 14, 17, 12, 66, 14, 17, 12, 32, 14, 17, 12, 7131, 64, 14, 17, 12, 69, 14, 17, 66, 14, 17, 32, 14, 17, 12, 7131, 64, 14, 17, 12, 32, 14, 17, 12, 7131, 64, 12, 69, 12, 66, 12, 32, 12, 7131, 64, 14, 17, 12, 69, 14, 17, 66, 14, 17, 32, 14, 17, 12, 7131, 64, 14, 17, 12, 32, 14, 17, 12, 7131, 64, 12, 16072, 32, 12, 7131, 64, 14, 17, 12, 32, 14, 17, 12, 7131, 64, 14, 17, 12, 69, 14, 17, 12, 66, 14, 17, 12, 32, 14, 17, 12, 7131, 64, 14, 17, 69, 14, 17, 66, 14, 17, 32, 14, 17, 60, 87, 14, 17, 930, 220], [58, 469, 12, 66, 8264, 12, 7131, 68, 14, 17, 12, 36, 14, 17, 12, 7131, 70, 14, 17, 12, 68, 14, 17, 12, 66, 14, 17, 12, 38, 14, 17, 12, 36, 14, 17, 12, 7131, 70, 14, 17, 68, 14, 17, 12, 66, 14, 17, 38, 14, 17, 36, 14, 17, 12, 7131, 68, 14, 17, 12, 36, 14, 17, 12, 7131, 70, 12, 68, 12, 66, 12, 38, 12, 36, 12, 7131, 70, 14, 17, 68, 14, 17, 12, 66, 14, 17, 38, 14, 17, 36, 14, 17, 12, 7131, 68, 14, 17, 12, 36, 14, 17, 12, 7131, 469, 12, 66, 8264, 12, 7131, 68, 14, 17, 12, 36, 14, 17, 12, 7131, 70, 14, 17, 12, 68, 14, 17, 12, 66, 14, 17, 12, 38, 14, 17, 12, 36, 14, 17, 12, 7131, 70, 14, 17, 68, 14, 17, 66, 14, 17, 38, 14, 17, 36, 14, 17, 60, 87, 14, 17, 930, 220], [58, 21287, 12, 28, 40469, 35, 12, 7131, 67, 14, 17, 12, 35, 14, 17, 12, 7131, 70, 14, 17, 12, 67, 14, 17, 12, 28, 33, 14, 17, 12, 38, 14, 17, 12, 35, 14, 17, 12, 7131, 70, 14, 17, 67, 14, 17, 12, 28, 33, 14, 17, 38, 14, 17, 35, 14, 17, 12, 7131, 67, 14, 17, 12, 35, 14, 17, 12, 7131, 70, 12, 67, 12, 28, 33, 12, 38, 12, 35, 12, 7131, 70, 14, 17, 67, 14, 17, 12, 28, 33, 14, 17, 38, 14, 17, 35, 14, 17, 12, 7131, 67, 14, 17, 12, 35, 14, 17, 12, 7131, 21287, 12, 28, 40469, 35, 12, 7131, 67, 14, 17, 12, 35, 14, 17, 12, 7131, 70, 14, 17, 12, 67, 14, 17, 12, 28, 33, 14, 17, 12, 38, 14, 17, 12, 35, 14, 17, 12, 7131, 70, 14, 17, 67, 14, 17, 28, 33, 14, 17, 38, 14, 17, 35, 14, 17, 60, 87, 14, 17, 930, 220], [58, 469, 66, 36, 60, 87, 14, 17, 58, 70, 14, 17, 12, 68, 14, 17, 12, 66, 14, 17, 12, 36, 14, 17, 12, 7131, 70, 14, 17, 68, 14, 17, 66, 14, 17, 36, 14, 17, 60, 87, 14, 17, 58, 469, 66, 36, 60, 87, 58, 64, 721, 36, 60, 87, 14, 17, 29795, 65, 14, 17, 12, 68, 14, 17, 12, 66, 14, 17, 12, 36, 14, 17, 12, 7131, 65, 14, 17, 68, 14, 17, 66, 14, 17, 36, 14, 17, 60, 87, 14, 17, 930, 220]]\n",
      "/content/drive/MyDrive/test2/8579_7977.abc\n",
      "======total=====\n",
      "[[58, 36, 12, 34, 12, 32, 11, 32, 9832, 12, 7131, 36, 14, 17, 34, 14, 17, 36, 11, 14, 17, 32, 9832, 14, 17, 12, 60, 32, 9832, 14, 17, 49146, 32, 11, 14, 17, 32, 9832, 14, 17, 12, 60, 32, 9832, 14, 17, 49146, 36, 14, 17, 12, 34, 14, 17, 12, 32, 11, 14, 17, 32, 9832, 14, 17, 12, 7131, 36, 14, 17, 34, 14, 17, 32, 9832, 14, 17, 12, 7131, 36, 11, 32, 9832, 12, 7131, 32, 11, 32, 9832, 60, 34, 14, 17, 87, 14, 17, 36, 930, 220], [34, 12095, 58, 38, 11, 34, 11, 60, 34, 14, 17, 87, 14, 17, 58, 38, 14, 17, 36, 14, 17, 60, 87, 14, 17, 58, 37, 14, 17, 12, 35, 14, 17, 32, 11, 14, 17, 12, 35, 11, 14, 17, 12, 7131, 37, 14, 17, 32, 11, 14, 17, 35, 11, 14, 17, 12, 7131, 35, 12, 35, 12095, 7131, 35, 14, 17, 32, 11, 14, 17, 35, 11, 14, 17, 60, 87, 14, 17, 32, 14, 17, 87, 14, 17, 930, 220], [58, 35, 17, 12, 33, 11, 17, 12, 38, 11, 17, 38, 9832, 17, 12, 7131, 35, 14, 17, 12, 33, 11, 14, 17, 35, 11, 14, 17, 38, 9832, 14, 17, 12, 7131, 35, 14, 17, 38, 9832, 14, 17, 12, 7131, 38, 11, 38, 9832, 12, 7131, 35, 11, 38, 9832, 12, 7131, 35, 12, 32, 12095, 38, 9832, 12, 7131, 35, 14, 17, 32, 11, 14, 17, 35, 11, 14, 17, 12, 38, 9832, 14, 17, 60, 35, 11, 14, 17, 38, 11, 14, 17, 38, 9832, 14, 17, 12, 930, 220], [58, 35, 17, 12, 33, 11, 17, 12, 38, 11, 17, 38, 9832, 17, 12, 7131, 35, 14, 17, 12, 33, 11, 14, 17, 35, 11, 14, 17, 12, 38, 9832, 14, 17, 12, 7131, 35, 14, 17, 12, 35, 11, 14, 17, 38, 9832, 14, 17, 12, 7131, 35, 14, 17, 38, 11, 14, 17, 38, 9832, 14, 17, 12, 60, 38, 9832, 14, 17, 58, 35, 14, 17, 33, 11, 14, 17, 38, 11, 14, 17, 60, 87, 14, 17, 38, 9832, 49146, 35, 11, 14, 17, 38, 9832, 14, 17, 60, 87, 14, 17, 58, 35, 14, 17, 33, 11, 14, 17, 38, 11, 14, 17, 60, 87, 14, 17, 930, 220], [58, 36, 12, 34, 12, 32, 12095, 32, 9832, 12, 7131, 36, 14, 17, 12, 34, 14, 17, 12, 32, 11, 14, 17, 36, 11, 14, 17, 12, 32, 9832, 14, 17, 12, 7131, 36, 14, 17, 12, 34, 14, 17, 36, 11, 14, 17, 12, 32, 9832, 14, 17, 12, 7131, 36, 14, 17, 32, 11, 14, 17, 36, 11, 14, 17, 12, 32, 9832, 14, 17, 12, 7131, 36, 11, 14, 17, 32, 9832, 14, 17, 12, 7131, 36, 12, 32, 9832, 12, 7131, 6500, 11, 32, 9832, 12, 7131, 34, 12, 32, 9832, 12, 7131, 34, 14, 17, 12, 36, 11, 14, 17, 32, 9832, 14, 17, 60, 34, 14, 17, 32, 11, 14, 17, 87, 14, 17, 930, 220], [34, 12095, 58, 36, 12095, 34, 12095, 7131, 38, 11, 36, 11, 34, 11, 60, 34, 14, 17, 87, 14, 17, 35, 12095, 58, 37, 12095, 35, 12095, 7131, 32, 11, 14, 17, 37, 11, 14, 17, 12, 35, 11, 14, 17, 12, 7131, 37, 11, 14, 17, 35, 11, 14, 17, 60, 35, 14, 17, 87, 14, 17, 930, 220], [38, 9832, 49146, 35, 12095, 38, 9832, 12, 7131, 38, 11, 14, 17, 35, 11, 14, 17, 38, 9832, 14, 17, 12, 60, 38, 9832, 14, 17, 49146, 35, 12, 32, 12095, 38, 9832, 12, 7131, 35, 14, 17, 32, 11, 14, 17, 35, 11, 14, 17, 12, 38, 9832, 14, 17, 12, 7131, 35, 11, 14, 17, 38, 9832, 14, 17, 12, 7131, 35, 14, 17, 12, 33, 11, 14, 17, 12, 38, 9832, 14, 17, 7131, 35, 14, 17, 12, 33, 11, 14, 17, 60, 35, 14, 17, 87, 14, 17, 58, 35, 12, 34, 12, 38, 12095, 60, 930, 220], [58, 35, 14, 17, 12, 34, 14, 17, 12, 38, 11, 14, 17, 38, 9832, 14, 17, 12, 7131, 35, 14, 17, 34, 14, 17, 38, 9832, 14, 17, 12, 7131, 35, 12, 33, 12095, 38, 9832, 12, 7131, 35, 14, 17, 33, 11, 14, 17, 35, 11, 14, 17, 12, 38, 9832, 14, 17, 12, 7131, 35, 11, 14, 17, 38, 9832, 14, 17, 12, 7131, 35, 12, 38, 12095, 38, 9832, 12, 7131, 35, 14, 17, 12, 38, 11, 14, 17, 35, 11, 14, 17, 12, 38, 9832, 14, 17, 12, 7131, 35, 14, 17, 12, 35, 11, 14, 17, 38, 9832, 14, 17, 12, 7131, 35, 14, 17, 12, 32, 11, 14, 17, 12, 38, 9832, 14, 17, 7131, 35, 14, 17, 12, 32, 11, 14, 17, 7131, 35, 14, 17, 38, 11, 14, 17, 60, 87, 18, 14, 17, 930, 220], [58, 33, 11, 18, 14, 17, 12, 38, 11, 18, 14, 17, 36, 11, 18, 14, 17, 36, 9832, 18, 14, 17, 12, 7131, 33, 11, 14, 17, 36, 9832, 14, 17, 12, 7131, 33, 9832, 14, 17, 36, 9832, 14, 17, 12, 60, 36, 9832, 14, 17, 49146, 36, 14, 17, 36, 9832, 14, 17, 12, 60, 36, 9832, 14, 17, 49146, 33, 9832, 36, 9832, 12, 7131, 37, 14, 17, 36, 9832, 14, 17, 12, 60, 36, 9832, 14, 17, 49146, 33, 9832, 14, 17, 36, 9832, 14, 17, 12, 60, 36, 9832, 14, 17, 49146, 38, 14, 17, 36, 9832, 14, 17, 12, 60, 36, 9832, 14, 17, 12, 930, 220], [58, 33, 9832, 14, 17, 36, 9832, 14, 17, 12, 60, 36, 9832, 14, 17, 49146, 36, 14, 17, 36, 9832, 14, 17, 60, 87, 14, 17, 36, 9832, 49146, 33, 11, 14, 17, 36, 9832, 14, 17, 12, 60, 36, 9832, 14, 17, 49146, 33, 9832, 14, 17, 36, 9832, 14, 17, 12, 60, 36, 9832, 14, 17, 49146, 36, 11, 36, 9832, 60, 38, 11, 33, 11, 930, 220], [34, 12095, 58, 36, 12095, 34, 12095, 7131, 38, 11, 36, 12095, 34, 12095, 7131, 38, 12, 35, 12, 36, 12095, 34, 12095, 7131, 38, 12, 35, 38, 12095, 36, 12095, 34, 12095, 7131, 38, 14, 17, 12, 34, 14, 17, 12, 38, 11, 14, 17, 36, 11, 14, 17, 34, 11, 14, 17, 7131, 38, 14, 17, 12, 34, 14, 17, 12, 7131, 38, 12, 34, 12, 34, 12095, 7131, 38, 14, 17, 12, 34, 14, 17, 38, 11, 14, 17, 12, 34, 11, 14, 17, 12, 7131, 38, 14, 17, 12, 38, 11, 14, 17, 12, 34, 11, 14, 17, 12, 60, 930, 220], [58, 38, 12, 34, 12, 38, 12095, 34, 12095, 7131, 38, 14, 17, 12, 34, 14, 17, 38, 11, 14, 17, 36, 11, 14, 17, 12, 34, 11, 14, 17, 12, 7131, 38, 14, 17, 36, 11, 14, 17, 12, 34, 11, 14, 17, 12, 7131, 38, 11, 36, 12095, 34, 12095, 7131, 38, 12, 35, 12, 36, 12095, 34, 12095, 7131, 38, 12, 35, 38, 11, 36, 12095, 34, 12095, 7131, 38, 12, 34, 12, 36, 12095, 34, 12095, 7131, 38, 14, 17, 34, 14, 17, 38, 11, 14, 17, 12, 36, 11, 14, 17, 34, 11, 14, 17, 60, 38, 11, 14, 17, 34, 11, 930, 220], [58, 36, 17, 12, 34, 17, 12, 38, 11, 17, 32, 9832, 17, 12, 7131, 2943, 36, 12095, 32, 9832, 12, 7131, 38, 11, 14, 17, 36, 11, 14, 17, 12, 32, 9832, 14, 17, 12, 7131, 36, 11, 32, 9832, 12, 60, 32, 9832, 14, 17, 49146, 36, 14, 17, 12, 34, 14, 17, 12, 32, 9832, 14, 17, 7131, 36, 14, 17, 12, 34, 14, 17, 12, 7131, 36, 14, 17, 34, 14, 17, 32, 9832, 14, 17, 12, 60, 32, 9832, 14, 17, 49146, 32, 12095, 32, 9832, 12, 60, 930, 220], [58, 32, 11, 14, 17, 36, 11, 14, 17, 12, 32, 9832, 14, 17, 12, 7131, 36, 11, 14, 17, 12, 32, 9832, 14, 17, 12, 7131, 38, 11, 14, 17, 12, 36, 11, 14, 17, 32, 9832, 14, 17, 60, 38, 11, 14, 17, 49146, 38, 11, 14, 17, 32, 9832, 14, 17, 12, 60, 32, 9832, 14, 17, 49146, 34, 12, 32, 9832, 12, 7131, 5222, 11, 32, 9832, 12, 7131, 32, 11, 14, 17, 32, 9832, 14, 17, 60, 87, 14, 17, 34, 14, 17, 87, 14, 17, 36, 14, 17, 87, 14, 17, 930, 220], [87, 35, 12095, 58, 35, 14, 17, 35, 11, 14, 17, 12, 60, 35, 11, 14, 17, 49146, 37, 14, 17, 35, 14, 17, 35, 11, 14, 17, 12, 60, 35, 11, 14, 17, 49146, 37, 14, 17, 35, 14, 17, 35, 11, 14, 17, 60, 87, 14, 17, 58, 37, 14, 17, 35, 14, 17, 60, 87, 14, 17, 58, 38, 14, 17, 36, 14, 17, 32, 11, 14, 17, 35, 11, 14, 17, 60, 87, 14, 17, 58, 32, 11, 14, 17, 35, 11, 14, 17, 60, 87, 14, 17, 930, 220], [58, 32, 14, 17, 37, 14, 17, 35, 14, 17, 32, 11, 14, 17, 35, 11, 14, 17, 60, 87, 21, 87, 18, 14, 17, 930, 220]]\n",
      "/content/drive/MyDrive/test2/8750_118784.abc\n",
      "======total=====\n",
      "[[58, 68, 21, 12, 33, 21, 12, 38, 21, 12, 36, 21, 12, 33, 11, 21, 12, 38, 11, 21, 12, 36, 11, 21, 12, 33, 9832, 21, 12, 36, 9832, 21, 12, 7131, 68, 18, 14, 17, 33, 18, 14, 17, 12, 38, 18, 14, 17, 12, 36, 18, 14, 17, 12, 33, 11, 18, 14, 17, 12, 38, 11, 18, 14, 17, 12, 36, 11, 18, 14, 17, 12, 33, 9832, 18, 14, 17, 12, 36, 9832, 18, 14, 17, 7131, 33, 14, 17, 38, 14, 17, 36, 14, 17, 33, 11, 14, 17, 38, 11, 14, 17, 36, 11, 14, 17, 33, 9832, 14, 17, 60, 930, 220], [58, 69, 17, 28, 66, 17, 32, 17, 37, 17, 35, 17, 12, 34, 17, 32, 11, 17, 35, 11, 17, 12, 7131, 69, 14, 17, 66, 14, 17, 32, 14, 17, 37, 14, 17, 35, 14, 17, 12, 34, 14, 17, 32, 11, 14, 17, 35, 11, 14, 17, 12, 7131, 35, 14, 17, 12, 35, 11, 14, 17, 12, 7131, 721, 32, 1961, 12, 8141, 11, 35, 12095, 7131, 721, 1961, 12, 8610, 12095, 7131, 16072, 8579, 35, 8141, 11, 35, 11, 7131, 69, 14, 17, 66, 14, 17, 32, 14, 17, 37, 14, 17, 35, 14, 17, 34, 14, 17, 32, 11, 14, 17, 35, 11, 14, 17, 60, 87, 14, 17, 58, 70, 12, 66, 4760, 12, 8141, 11, 60, 930, 220], [58, 70, 14, 17, 66, 14, 17, 12, 32, 14, 17, 12, 38, 14, 17, 35, 14, 17, 12, 34, 14, 17, 12, 32, 11, 14, 17, 12, 35, 11, 14, 17, 12, 7131, 66, 14, 17, 32, 14, 17, 12, 35, 14, 17, 12, 34, 14, 17, 32, 11, 14, 17, 12, 35, 11, 14, 17, 12, 7131, 16072, 8579, 35, 8141, 11, 35, 11, 7131, 16072, 32, 12, 26009, 12, 8141, 12095, 35, 12095, 7131, 68, 12, 66, 12, 14242, 12, 35, 12, 34, 12, 32, 11, 35, 12095, 7131, 68, 14, 17, 12, 66, 14, 17, 12, 32, 14, 17, 36, 14, 17, 12, 35, 14, 17, 12, 34, 14, 17, 12, 32, 11, 14, 17, 35, 11, 14, 17, 12, 7131, 68, 14, 17, 66, 14, 17, 36, 14, 17, 35, 14, 17, 12, 34, 14, 17, 35, 11, 14, 17, 12, 7131, 16072, 32, 12, 26009, 12, 8141, 12095, 35, 12095, 7131, 69, 14, 17, 66, 14, 17, 32, 14, 17, 37, 14, 17, 35, 14, 17, 12, 34, 14, 17, 32, 11, 14, 17, 35, 11, 14, 17, 12, 7131, 35, 14, 17, 12, 35, 11, 14, 17, 12, 7131, 69, 14, 17, 12, 66, 14, 17, 12, 32, 14, 17, 12, 37, 14, 17, 12, 35, 14, 17, 34, 14, 17, 12, 32, 11, 14, 17, 12, 35, 11, 14, 17, 7131, 69, 14, 17, 66, 14, 17, 32, 14, 17, 37, 14, 17, 34, 14, 17, 32, 11, 14, 17, 60, 930, 220], [58, 70, 12, 67, 38, 12, 35, 12, 33, 12095, 38, 12095, 35, 12095, 33, 9832, 12, 38, 9832, 12, 7131, 70, 38, 12, 11012, 11, 38, 12095, 35, 11, 33, 9832, 38, 9832, 12, 7131, 21287, 38, 12, 35, 12, 33, 12095, 38, 12095, 35, 12095, 33, 9832, 12, 38, 9832, 12, 7131, 70, 14, 17, 12, 67, 14, 17, 12, 38, 14, 17, 12, 35, 14, 17, 12, 33, 11, 14, 17, 38, 11, 14, 17, 12, 35, 11, 14, 17, 12, 33, 9832, 14, 17, 38, 9832, 14, 17, 12, 7131, 70, 14, 17, 67, 14, 17, 38, 14, 17, 12, 35, 14, 17, 38, 11, 14, 17, 35, 11, 14, 17, 38, 9832, 14, 17, 7131, 21287, 45113, 38, 11, 35, 11, 7131, 21287, 38, 12, 35, 38, 11, 7131, 21287, 38, 11012, 11, 38, 11, 33, 9832, 7131, 21287, 45113, 38, 11, 60, 930, 220], [58, 721, 14242, 12, 8141, 11, 36, 12095, 32, 9832, 12, 7131, 68, 14, 17, 12, 66, 14, 17, 12, 32, 14, 17, 12, 36, 14, 17, 12, 34, 14, 17, 12, 32, 11, 14, 17, 12, 36, 11, 14, 17, 12, 32, 9832, 14, 17, 7131, 68, 14, 17, 66, 14, 17, 32, 14, 17, 36, 14, 17, 12, 34, 14, 17, 32, 11, 14, 17, 36, 11, 14, 17, 7131, 68, 14, 17, 66, 14, 17, 32, 14, 17, 36, 14, 17, 34, 14, 17, 32, 11, 14, 17, 36, 11, 14, 17, 60, 87, 14, 17, 58, 68, 17, 66, 17, 32, 17, 36, 17, 34, 17, 32, 11, 17, 7131, 721, 14242, 12, 8141, 11, 7131, 68, 14, 17, 66, 14, 17, 32, 14, 17, 36, 14, 17, 34, 14, 17, 32, 11, 14, 17, 36, 11, 14, 17, 60, 87, 14, 17, 58, 68, 14, 17, 66, 14, 17, 32, 14, 17, 36, 14, 17, 34, 14, 17, 32, 11, 14, 17, 60, 87, 14, 17, 930, 220], [58, 36484, 38, 12, 36, 12, 34, 12, 38, 11, 36, 12095, 34, 12095, 7131, 36484, 38, 12, 2943, 38, 11, 36, 11, 34, 11, 7131, 70, 14, 17, 12, 66, 14, 17, 12, 38, 14, 17, 12, 36, 14, 17, 12, 34, 14, 17, 12, 36, 11, 14, 17, 12, 34, 11, 14, 17, 7131, 70, 14, 17, 66, 14, 17, 38, 14, 17, 36, 14, 17, 12, 34, 14, 17, 36, 11, 14, 17, 12, 7131, 70, 14, 17, 12, 66, 14, 17, 12, 38, 14, 17, 12, 36, 14, 17, 34, 14, 17, 12, 38, 11, 14, 17, 12, 36, 11, 14, 17, 7131, 70, 14, 17, 66, 14, 17, 38, 14, 17, 12, 34, 14, 17, 38, 11, 14, 17, 7131, 70, 17, 66, 17, 38, 17, 12, 34, 17, 38, 11, 17, 34, 11, 17, 7131, 36484, 15916, 12, 38, 11, 34, 12095, 7131, 36484, 15916, 38, 11, 34, 11, 60, 930, 220], [58, 721, 32, 36600, 11, 36, 12095, 32, 9832, 12, 7131, 68, 14, 17, 12, 66, 14, 17, 12, 32, 14, 17, 12, 36, 14, 17, 12, 34, 14, 17, 12, 32, 11, 14, 17, 12, 36, 11, 14, 17, 12, 32, 9832, 14, 17, 7131, 68, 14, 17, 66, 14, 17, 32, 14, 17, 36, 14, 17, 12, 34, 14, 17, 32, 11, 14, 17, 36, 11, 14, 17, 7131, 68, 14, 17, 66, 14, 17, 32, 14, 17, 36, 14, 17, 34, 14, 17, 32, 11, 14, 17, 36, 11, 14, 17, 60, 87, 14, 17, 58, 68, 18, 14, 17, 66, 18, 14, 17, 12, 32, 18, 14, 17, 12, 36, 18, 14, 17, 12, 34, 18, 14, 17, 12, 32, 11, 18, 14, 17, 12, 36, 11, 18, 14, 17, 12, 7131, 66, 14, 17, 32, 14, 17, 36, 14, 17, 34, 14, 17, 32, 11, 14, 17, 36, 11, 14, 17, 7131, 721, 14242, 12, 8141, 11, 7131, 68, 14, 17, 66, 14, 17, 32, 14, 17, 36, 14, 17, 34, 14, 17, 32, 11, 14, 17, 36, 11, 14, 17, 60, 87, 14, 17, 58, 721, 32, 36600, 11, 60, 930, 220], [58, 68, 12, 40469, 12, 37, 12, 36, 12, 33, 12095, 38, 12095, 37, 12095, 36, 12095, 33, 9832, 12, 36, 9832, 12, 7131, 68, 38, 15112, 33, 11, 38, 11, 37, 11, 36, 12095, 33, 9832, 36, 9832, 12, 7131, 68, 33, 21713, 12, 30195, 12095, 38, 11, 37, 12095, 36, 12095, 33, 9832, 12, 36, 9832, 12, 7131, 68, 14, 17, 12, 33, 14, 17, 12, 38, 14, 17, 12, 37, 14, 17, 12, 36, 14, 17, 12, 33, 11, 14, 17, 12, 38, 11, 14, 17, 12, 37, 11, 14, 17, 12, 36, 11, 14, 17, 12, 33, 9832, 14, 17, 36, 9832, 14, 17, 12, 7131, 68, 14, 17, 33, 14, 17, 38, 14, 17, 37, 14, 17, 36, 14, 17, 12, 33, 11, 14, 17, 38, 11, 14, 17, 37, 11, 14, 17, 36, 11, 14, 17, 36, 9832, 14, 17, 7131, 68, 33, 8264, 33, 11, 38, 11, 36, 11, 7131, 68, 33, 8264, 33, 11, 38, 11, 7131, 68, 33, 8264, 33, 12095, 38, 11, 33, 9832, 12, 7131, 68, 33, 8264, 33, 11, 38, 11, 33, 9832, 60, 930, 220], [58, 16344, 8579, 35, 12, 32, 11, 35, 12095, 7131, 69, 14, 17, 12, 67, 14, 17, 12, 32, 14, 17, 12, 37, 14, 17, 12, 35, 14, 17, 12, 32, 11, 14, 17, 12, 35, 11, 14, 17, 7131, 69, 14, 17, 67, 14, 17, 32, 14, 17, 37, 14, 17, 35, 14, 17, 32, 11, 14, 17, 7131, 69, 14, 17, 67, 14, 17, 32, 14, 17, 37, 14, 17, 35, 14, 17, 32, 11, 14, 17, 60, 87, 14, 17, 58, 16344, 8579, 5631, 11, 7131, 16344, 8579, 5631, 11, 7131, 16344, 8579, 5631, 11, 7131, 69, 14, 17, 67, 14, 17, 32, 14, 17, 37, 14, 17, 35, 14, 17, 32, 11, 14, 17, 60, 87, 14, 17, 58, 69, 14, 17, 67, 14, 17, 32, 14, 17, 37, 14, 17, 35, 14, 17, 32, 11, 14, 17, 60, 87, 14, 17, 930, 220], [58, 36484, 4760, 8141, 11, 35, 12095, 7131, 69, 12, 66, 8579, 12, 8141, 11, 35, 11, 7131, 69, 14, 17, 12, 66, 14, 17, 12, 37, 14, 17, 12, 35, 14, 17, 34, 14, 17, 12, 35, 11, 14, 17, 7131, 69, 14, 17, 66, 14, 17, 37, 14, 17, 34, 14, 17, 7131, 68, 18, 14, 17, 66, 18, 14, 17, 12, 32, 18, 14, 17, 12, 36, 18, 14, 17, 34, 18, 14, 17, 12, 32, 11, 18, 14, 17, 12, 7131, 66, 14, 17, 32, 14, 17, 34, 14, 17, 32, 11, 14, 17, 7131, 16344, 8579, 5631, 11, 7131, 69, 14, 17, 66, 14, 17, 32, 14, 17, 37, 14, 17, 35, 14, 17, 34, 14, 17, 32, 11, 14, 17, 35, 11, 14, 17, 60, 87, 14, 17, 58, 16344, 8579, 35, 12, 32, 11, 60, 930, 220], [58, 21287, 38, 12, 35, 12, 38, 12095, 35, 12095, 38, 9832, 12, 7131, 21287, 38, 12, 35, 38, 12095, 35, 11, 38, 9832, 12, 7131, 70, 14, 17, 67, 14, 17, 38, 14, 17, 36, 14, 17, 35, 14, 17, 38, 11, 14, 17, 36, 11, 14, 17, 38, 9832, 14, 17, 12, 60, 38, 9832, 14, 17, 49146, 69, 14, 17, 12, 67, 14, 17, 12, 32, 14, 17, 12, 37, 14, 17, 12, 35, 14, 17, 12, 32, 11, 14, 17, 12, 35, 11, 14, 17, 12, 38, 9832, 14, 17, 7131, 16344, 12, 32, 12, 26009, 12, 32, 12095, 35, 12095, 7131, 67, 14, 17, 32, 14, 17, 35, 14, 17, 32, 11, 14, 17, 35, 11, 14, 17, 7131, 16344, 8579, 5631, 11, 7131, 69, 14, 17, 67, 14, 17, 32, 14, 17, 37, 14, 17, 35, 14, 17, 32, 11, 14, 17, 35, 11, 14, 17, 60, 87, 14, 17, 58, 16344, 8579, 5631, 11, 60, 930, 220], [58, 68, 33, 8264, 12, 33, 11, 38, 11, 36, 12095, 36, 9832, 12, 7131, 68, 14, 17, 12, 33, 14, 17, 12, 38, 14, 17, 12, 36, 14, 17, 12, 33, 11, 14, 17, 12, 38, 11, 14, 17, 12, 36, 11, 14, 17, 12, 36, 9832, 14, 17, 7131, 68, 14, 17, 33, 14, 17, 38, 14, 17, 36, 14, 17, 12, 33, 11, 14, 17, 38, 11, 14, 17, 36, 11, 14, 17, 12, 7131, 68, 14, 17, 33, 14, 17, 38, 14, 17, 36, 14, 17, 33, 11, 14, 17, 38, 11, 14, 17, 36, 11, 14, 17, 60, 87, 14, 17, 58, 68, 18, 14, 17, 33, 18, 14, 17, 12, 38, 18, 14, 17, 12, 36, 18, 14, 17, 12, 33, 11, 18, 14, 17, 12, 38, 11, 18, 14, 17, 12, 36, 11, 18, 14, 17, 12, 7131, 33, 14, 17, 38, 14, 17, 36, 14, 17, 33, 11, 14, 17, 38, 11, 14, 17, 36, 11, 14, 17, 7131, 68, 33, 8264, 12, 33, 11, 38, 11, 7131, 68, 14, 17, 33, 14, 17, 38, 14, 17, 36, 14, 17, 33, 11, 14, 17, 38, 11, 14, 17, 36, 11, 14, 17, 60, 87, 14, 17, 58, 68, 33, 8264, 33, 11, 38, 11, 60, 930, 220], [58, 68, 12, 66, 32, 12, 36, 12, 8141, 12095, 36, 12095, 32, 9832, 12, 7131, 68, 14242, 12, 32, 12095, 36, 11, 32, 9832, 12, 7131, 721, 14242, 12, 8141, 11, 36, 12095, 32, 9832, 12, 7131, 721, 14242, 12, 8141, 11, 36, 11, 32, 9832, 7131, 721, 14242, 12, 8141, 11, 36, 12095, 7131, 721, 32, 36600, 11, 36, 11, 7131, 21287, 38, 11012, 12095, 38, 11, 33, 9832, 12, 7131, 21287, 38, 11012, 11, 38, 11, 33, 9832, 60, 930, 220], [58, 68, 17, 67, 17, 36, 17, 35, 17, 34, 17, 38, 11, 17, 34, 11, 17, 7131, 68, 33, 12, 8264, 33, 12095, 38, 11, 7131, 68, 33, 8264, 33, 11, 38, 11, 7131, 68, 11879, 32, 11, 38, 11, 7131, 68, 14, 17, 12, 66, 14, 17, 12, 38, 14, 17, 36, 14, 17, 12, 34, 14, 17, 12, 38, 11, 14, 17, 7131, 68, 14, 17, 66, 14, 17, 36, 14, 17, 34, 14, 17, 7131, 68, 14, 17, 66, 14, 17, 38, 14, 17, 36, 14, 17, 34, 14, 17, 38, 11, 14, 17, 60, 87, 14, 17, 58, 721, 38, 2943, 38, 11, 60, 930, 220], [58, 68, 33, 8264, 12, 33, 11, 38, 11, 36, 12095, 36, 9832, 12, 7131, 68, 33, 8264, 12, 33, 11, 38, 11, 36, 11, 36, 9832, 12, 7131, 68, 14, 17, 33, 14, 17, 38, 14, 17, 36, 14, 17, 33, 11, 14, 17, 38, 11, 14, 17, 36, 9832, 14, 17, 12, 60, 36, 9832, 14, 17, 49146, 68, 14, 17, 12, 33, 14, 17, 12, 38, 14, 17, 12, 36, 14, 17, 12, 33, 11, 14, 17, 12, 38, 11, 14, 17, 12, 36, 11, 14, 17, 12, 36, 9832, 14, 17, 7131, 68, 18, 14, 17, 33, 18, 14, 17, 38, 18, 14, 17, 36, 18, 14, 17, 12, 33, 11, 18, 14, 17, 38, 11, 18, 14, 17, 36, 11, 18, 14, 17, 7131, 68, 33, 8264, 12, 33, 11, 38, 11, 7131, 68, 14, 17, 33, 14, 17, 38, 14, 17, 36, 14, 17, 33, 11, 14, 17, 38, 11, 14, 17, 36, 11, 14, 17, 60, 87, 14, 17, 58, 68, 33, 8264, 33, 11, 38, 11, 60, 930, 220], [58, 68, 61, 66, 8264, 12, 61, 8141, 12095, 38, 11, 36, 12095, 32, 9832, 12, 7131, 68, 14, 17, 12, 61, 66, 14, 17, 12, 38, 14, 17, 12, 36, 14, 17, 12, 61, 34, 14, 17, 12, 32, 11, 14, 17, 38, 11, 14, 17, 12, 36, 11, 14, 17, 12, 32, 9832, 14, 17, 7131, 68, 14, 17, 61, 66, 14, 17, 38, 14, 17, 36, 14, 17, 12, 61, 34, 14, 17, 38, 11, 14, 17, 36, 11, 14, 17, 7131, 68, 14, 17, 61, 66, 14, 17, 38, 14, 17, 36, 14, 17, 61, 34, 14, 17, 38, 11, 14, 17, 36, 11, 14, 17, 60, 87, 14, 17, 58, 68, 17, 61, 66, 17, 38, 17, 36, 17, 61, 34, 17, 38, 11, 17, 36, 11, 17, 7131, 68, 61, 66, 8264, 12, 61, 39816, 11, 7131, 68, 14, 17, 61, 66, 14, 17, 38, 14, 17, 36, 14, 17, 61, 34, 14, 17, 38, 11, 14, 17, 36, 11, 14, 17, 60, 87, 14, 17, 58, 68, 61, 66, 8264, 61, 39816, 11, 60, 930, 220]]\n",
      "/content/drive/MyDrive/test2/8269_150924.abc\n",
      "======total=====\n",
      "[[58, 32, 14, 17, 32, 9832, 14, 17, 12, 7131, 38, 14, 17, 32, 9832, 14, 17, 7131, 37, 14, 17, 32, 11, 14, 17, 12, 37, 11, 14, 17, 12, 7131, 38, 14, 17, 32, 11, 14, 17, 37, 11, 14, 17, 7131, 32, 12, 35, 11, 7131, 32, 12, 32, 11, 37, 11, 7131, 3838, 9832, 7131, 32, 7708, 11, 37, 11, 7131, 33, 11190, 9832, 7131, 33, 4579, 11, 38, 11, 60, 930, 220], [58, 67, 12, 33, 12, 35, 11, 7131, 67, 14, 17, 33, 14, 17, 33, 11, 14, 17, 12, 38, 11, 14, 17, 12, 7131, 33, 14, 17, 38, 14, 17, 33, 11, 14, 17, 38, 11, 14, 17, 7131, 2885, 11, 7131, 3838, 11, 37, 11, 7131, 32, 14, 17, 32, 9832, 14, 17, 12, 7131, 38, 14, 17, 32, 9832, 14, 17, 7131, 7708, 11, 37, 11, 7131, 38, 61, 32, 9832, 7131, 21713, 11, 36, 11, 60, 930, 220], [58, 22495, 9832, 7131, 21713, 11, 36, 11, 7131, 26001, 9832, 7131, 5777, 11, 35, 11, 7131, 37, 14, 17, 33, 9832, 14, 17, 12, 7131, 36, 14, 17, 33, 9832, 14, 17, 7131, 8068, 11, 35, 11, 7131, 40469, 28, 32, 9832, 7131, 33, 4579, 11, 38, 11, 60, 930, 220], [58, 67, 12, 33, 12, 35, 11, 7131, 67, 14, 17, 33, 14, 17, 33, 11, 14, 17, 12, 38, 11, 14, 17, 12, 7131, 33, 14, 17, 38, 14, 17, 33, 11, 14, 17, 38, 11, 14, 17, 7131, 8579, 35, 11, 7131, 32, 7708, 11, 37, 11, 7131, 32, 14, 17, 32, 9832, 14, 17, 12, 7131, 38, 14, 17, 32, 9832, 14, 17, 7131, 7708, 11, 37, 11, 7131, 38, 2943, 11, 7131, 8264, 32, 11, 38, 11, 60, 930, 220], [58, 8141, 9832, 7131, 36600, 11, 38, 11, 7131, 5631, 11, 37, 11, 35, 11, 7131, 5631, 11, 37, 11, 35, 11, 7131, 5631, 11, 37, 11, 35, 11, 60, 37, 14, 17, 37, 14, 17, 37, 49146, 37, 12, 34, 61, 32, 11, 37, 11, 37, 9832, 60, 930, 220], [58, 37, 12, 11012, 11, 37, 11, 37, 9832, 7131, 37, 12, 2943, 37, 11, 37, 9832, 7131, 37, 11012, 11, 33, 9832, 33, 9832, 11, 60, 35, 14, 17, 34, 14, 17, 35, 14, 17, 36, 14, 17, 37, 14, 17, 38, 14, 17, 28, 32, 49146, 32, 12, 36600, 11, 32, 9832, 60, 930, 220], [58, 32, 12, 37, 5631, 11, 32, 9832, 7131, 32, 12, 8264, 32, 11, 32, 9832, 7131, 8579, 16458, 11, 35, 9832, 60, 37, 14, 17, 28, 37, 14, 17, 61, 37, 14, 17, 61, 38, 14, 17, 32, 14, 17, 33, 14, 17, 66, 49146, 66, 12, 61, 38, 28, 37, 4093, 11, 60, 930, 220], [58, 66, 12, 32, 61, 37, 4093, 11, 7131, 66, 12, 33, 61, 38, 4093, 11, 7131, 66, 32, 5777, 11, 37, 9832, 60, 32, 14, 17, 61, 38, 14, 17, 32, 14, 17, 33, 14, 17, 66, 14, 17, 67, 14, 17, 68, 49146, 68, 12, 33, 61, 38, 6500, 11, 60, 930, 220], [58, 68, 12, 66, 32, 6500, 11, 7131, 68, 12, 36077, 6500, 11, 7131, 721, 3838, 11, 32, 9832, 60, 87, 17, 7, 18, 32, 14, 17, 33, 14, 17, 66, 14, 17, 58, 67, 35, 11, 7131, 67, 26853, 11, 37, 11, 60, 930, 220], [58, 67, 14, 17, 32, 14, 17, 32, 9832, 14, 17, 12, 7131, 66, 14, 17, 32, 9832, 14, 17, 7131, 67, 14, 17, 35, 14, 17, 12, 32, 11, 14, 17, 12, 37, 11, 14, 17, 12, 7131, 68, 14, 17, 35, 14, 17, 32, 11, 14, 17, 37, 11, 14, 17, 7131, 69, 35, 11, 7131, 16344, 5631, 11, 37, 11, 7131, 69, 14, 17, 67, 14, 17, 32, 9832, 14, 17, 12, 7131, 28, 69, 14, 17, 32, 9832, 14, 17, 7131, 61, 69, 14, 17, 35, 14, 17, 12, 32, 11, 14, 17, 12, 37, 11, 14, 17, 12, 7131, 28, 70, 14, 17, 35, 14, 17, 32, 11, 14, 17, 37, 11, 14, 17, 7131, 64, 35, 11, 7131, 1878, 5631, 11, 37, 11, 60, 930, 220], [58, 64, 14, 17, 69, 14, 17, 32, 9832, 14, 17, 12, 7131, 61, 70, 14, 17, 32, 9832, 14, 17, 7131, 64, 14, 17, 35, 14, 17, 12, 32, 11, 14, 17, 12, 37, 11, 14, 17, 12, 7131, 67, 26488, 17, 35, 14, 17, 32, 11, 14, 17, 37, 11, 14, 17, 7131, 64, 12, 69, 12, 35, 11, 7131, 64, 12, 69, 12, 5631, 11, 37, 11, 7131, 1878, 32, 9832, 7131, 69, 26853, 11, 37, 11, 7131, 28, 70, 14242, 11, 7131, 70, 14, 17, 32, 14, 17, 12, 34, 14, 17, 12, 32, 11, 14, 17, 12, 38, 11, 14, 17, 12, 7131, 69, 14, 17, 32, 14, 17, 34, 14, 17, 32, 11, 14, 17, 38, 11, 14, 17, 60, 930, 220], [58, 68, 3838, 9832, 7131, 70, 26576, 11, 38, 11, 7131, 69, 2885, 11, 7131, 69, 14, 17, 32, 14, 17, 12, 35, 14, 17, 12, 32, 11, 14, 17, 12, 37, 11, 14, 17, 12, 7131, 68, 14, 17, 32, 14, 17, 35, 14, 17, 32, 11, 14, 17, 37, 11, 14, 17, 7131, 67, 3838, 9832, 7131, 69, 26853, 11, 37, 11, 7131, 68, 61, 8264, 11, 7131, 33, 61, 38, 11012, 11, 61, 38, 11, 60, 930, 220], [58, 66, 61, 8264, 11, 7131, 67, 61, 38, 11012, 11, 61, 38, 11, 7131, 68, 12, 66, 12, 32, 12, 28, 38, 12, 7131, 68, 12, 66, 12, 32, 12, 38, 12, 32, 9832, 32, 9832, 11, 7131, 721, 32, 4579, 9832, 33, 9832, 11, 7131, 32, 14, 17, 34, 11, 14, 17, 12, 34, 9832, 14, 17, 12, 7131, 66, 14, 17, 33, 14, 17, 34, 11, 14, 17, 34, 9832, 14, 17, 7131, 67, 35, 11, 35, 9832, 7131, 67, 26853, 11, 37, 11, 60, 930, 220], [58, 67, 14, 17, 32, 14, 17, 32, 9832, 14, 17, 12, 7131, 66, 14, 17, 32, 9832, 14, 17, 7131, 67, 14, 17, 35, 14, 17, 12, 32, 11, 14, 17, 12, 37, 11, 14, 17, 12, 7131, 68, 14, 17, 35, 14, 17, 32, 11, 14, 17, 37, 11, 14, 17, 7131, 69, 35, 11, 7131, 16344, 5631, 11, 37, 11, 7131, 69, 14, 17, 67, 14, 17, 32, 9832, 14, 17, 12, 7131, 28, 69, 14, 17, 32, 9832, 14, 17, 7131, 61, 69, 14, 17, 35, 14, 17, 12, 32, 11, 14, 17, 12, 37, 11, 14, 17, 12, 7131, 70, 14, 17, 35, 14, 17, 32, 11, 14, 17, 37, 11, 14, 17, 7131, 64, 35, 11, 7131, 1878, 5631, 11, 37, 11, 60, 930, 220], [58, 64, 14, 17, 69, 14, 17, 32, 9832, 14, 17, 12, 7131, 61, 70, 14, 17, 32, 9832, 14, 17, 7131, 64, 14, 17, 35, 14, 17, 12, 32, 11, 14, 17, 12, 37, 11, 14, 17, 12, 7131, 67, 26488, 17, 35, 14, 17, 32, 11, 14, 17, 37, 11, 14, 17, 7131, 64, 12, 69, 12, 35, 11, 7131, 64, 12, 69, 12, 5631, 11, 37, 11, 7131, 1878, 5631, 11, 37, 11, 60, 67, 58, 17457, 33, 28, 11190, 11, 7131, 324, 32, 5777, 11, 60, 930, 220], [58, 36484, 32, 6500, 11, 7131, 16344, 29266, 11, 7131, 68, 32, 2943, 34, 11, 7131, 67, 61, 8264, 33, 11, 33, 9832, 7131, 66, 14242, 32, 11, 32, 9832, 7131, 67, 2885, 37, 11, 37, 9832, 7131, 68, 12473, 28, 38, 12095, 38, 9832, 12, 7131, 69, 14, 17, 38, 11, 14, 17, 12, 38, 9832, 14, 17, 12, 7131, 70, 14, 17, 38, 11, 14, 17, 38, 9832, 14, 17, 60, 930, 220]]\n",
      "/content/drive/MyDrive/test2/9184_127212.abc\n",
      "======total=====\n",
      "[[58, 11012, 11, 38, 11, 7131, 11012, 11, 38, 11, 7131, 11012, 11, 38, 11, 7131, 35, 17, 33, 11, 17, 38, 11, 17, 7131, 11012, 11, 38, 11, 7131, 11012, 11, 38, 11, 7131, 11012, 11, 38, 11, 60, 930, 220], [58, 11012, 11, 38, 11, 7131, 11012, 11, 38, 11, 7131, 11012, 11, 38, 11, 7131, 36, 17, 34, 17, 38, 11, 17, 7131, 2943, 38, 11, 7131, 2943, 38, 11, 7131, 2943, 38, 11, 60, 930, 220], [58, 38, 11012, 11, 7131, 38, 11012, 11, 7131, 38, 11012, 11, 7131, 38, 17, 35, 17, 33, 11, 17, 7131, 38, 11012, 11, 7131, 38, 11012, 11, 7131, 38, 11012, 11, 60, 930, 220], [58, 38, 11012, 11, 7131, 38, 11012, 11, 7131, 38, 11012, 11, 7131, 38, 17, 35, 17, 33, 11, 17, 7131, 38, 11012, 11, 7131, 38, 11012, 11, 7131, 38, 11012, 11, 60, 930, 220], [58, 38, 11012, 11, 7131, 38, 11012, 11, 7131, 38, 11012, 11, 7131, 38, 17, 35, 17, 33, 11, 17, 7131, 38, 11012, 11, 7131, 38, 11012, 11, 7131, 38, 11012, 11, 60, 930, 220], [58, 38, 11012, 11, 7131, 38, 11012, 11, 7131, 38, 11012, 11, 7131, 38, 17, 35, 17, 33, 11, 17, 7131, 38, 11012, 11, 7131, 38, 11012, 11, 7131, 38, 11012, 11, 60, 930, 220], [58, 37, 5631, 11, 7131, 37, 5631, 11, 7131, 37, 5631, 11, 7131, 37, 17, 35, 17, 32, 11, 17, 7131, 37, 5631, 11, 7131, 37, 5631, 11, 7131, 37, 5631, 11, 60, 930, 220], [58, 37, 5631, 11, 7131, 37, 5631, 11, 7131, 37, 5631, 11, 7131, 37, 17, 35, 17, 32, 11, 17, 7131, 37, 5631, 11, 7131, 37, 5631, 11, 7131, 37, 5631, 11, 60, 930, 220], [58, 38, 2943, 7131, 38, 2943, 7131, 38, 2943, 7131, 38, 17, 36, 17, 34, 17, 7131, 38, 2943, 7131, 38, 2943, 7131, 38, 2943, 60, 930, 220], [58, 37, 5631, 11, 7131, 37, 5631, 11, 7131, 37, 5631, 11, 7131, 37, 17, 35, 17, 32, 11, 17, 7131, 37, 5631, 11, 7131, 37, 5631, 11, 7131, 37, 5631, 11, 60, 930, 220], [58, 38, 11012, 11, 7131, 38, 11012, 11, 7131, 38, 11012, 11, 7131, 38, 17, 35, 17, 33, 11, 17, 7131, 38, 11012, 11, 7131, 38, 11012, 11, 7131, 38, 11012, 11, 60, 930, 220], [58, 38, 2943, 7131, 38, 2943, 7131, 38, 2943, 7131, 38, 17, 36, 17, 34, 17, 7131, 38, 2943, 7131, 38, 2943, 7131, 38, 2943, 60, 930, 220], [58, 38, 11012, 11, 7131, 38, 11012, 11, 7131, 38, 11012, 11, 7131, 38, 17, 35, 17, 33, 11, 17, 7131, 38, 11012, 11, 7131, 38, 11012, 11, 7131, 38, 11012, 11, 60, 930, 220], [58, 37, 5631, 11, 7131, 37, 5631, 11, 7131, 37, 5631, 11, 7131, 37, 17, 35, 17, 32, 11, 17, 7131, 37, 5631, 11, 7131, 37, 5631, 11, 7131, 37, 5631, 11, 60, 930, 220], [58, 38, 11012, 11, 7131, 38, 11012, 11, 7131, 38, 11012, 11, 7131, 38, 17, 35, 17, 33, 11, 17, 7131, 38, 11012, 11, 7131, 38, 11012, 11, 7131, 38, 11012, 11, 60, 930, 220], [58, 38, 11012, 11, 7131, 38, 11012, 11, 7131, 38, 11012, 11, 7131, 38, 17, 35, 17, 33, 11, 17, 7131, 38, 11012, 11, 7131, 38, 11012, 11, 7131, 38, 11012, 11, 60, 930, 220]]\n",
      "/content/drive/MyDrive/test2/8856_151384.abc\n",
      "======total=====\n",
      "[[36, 9832, 87, 19, 87, 14, 17, 36, 9832, 14, 17, 38, 9832, 14, 17, 87, 14, 17, 37, 9832, 930, 220], [36, 9832, 87, 19, 87, 14, 17, 36, 9832, 14, 17, 38, 9832, 37, 9832, 930, 220], [36, 9832, 87, 19, 87, 14, 17, 36, 9832, 14, 17, 38, 9832, 14, 17, 87, 14, 17, 37, 9832, 930, 220], [36, 9832, 87, 19, 37, 9832, 36, 9832, 14, 17, 37, 9832, 18, 14, 17, 930, 220], [36, 9832, 87, 19, 87, 14, 17, 36, 9832, 14, 17, 38, 9832, 14, 17, 87, 14, 17, 37, 9832, 930, 220], [36, 9832, 87, 19, 87, 14, 17, 36, 9832, 14, 17, 38, 9832, 37, 9832, 930, 220], [36, 9832, 87, 19, 87, 14, 17, 36, 9832, 14, 17, 38, 9832, 14, 17, 87, 14, 17, 37, 9832, 930, 220], [36, 9832, 87, 19, 37, 9832, 36, 9832, 27, 37, 9832, 930, 220], [36, 9832, 87, 19, 87, 14, 17, 36, 9832, 14, 17, 38, 9832, 14, 17, 87, 14, 17, 32, 9832, 14, 17, 87, 14, 17, 930, 220], [33, 9832, 87, 21, 87, 930, 220], [36, 9832, 87, 19, 87, 14, 17, 36, 9832, 14, 17, 32, 9832, 14, 17, 87, 14, 17, 38, 9832, 14, 17, 87, 14, 17, 930, 220], [37, 9832, 87, 21, 37, 9832, 14, 17, 87, 14, 17, 930, 220], [36, 9832, 87, 19, 87, 14, 17, 36, 9832, 14, 17, 38, 9832, 14, 17, 87, 14, 17, 32, 9832, 14, 17, 87, 14, 17, 930, 220], [33, 9832, 87, 21, 87, 930, 220], [36, 9832, 87, 19, 87, 14, 17, 36, 9832, 14, 17, 32, 9832, 14, 17, 87, 14, 17, 34, 11, 14, 17, 87, 14, 17, 930, 220], [33, 9832, 87, 18, 35, 9832, 19, 930, 220]]\n",
      "/content/drive/MyDrive/test2/9260_177425.abc\n",
      "======total=====\n",
      "[[58, 37, 11, 14, 17, 34, 11, 14, 17, 60, 87, 14, 17, 58, 37, 11, 14, 17, 34, 11, 14, 17, 60, 87, 14, 17, 58, 37, 11, 14, 17, 34, 11, 14, 17, 60, 34, 11, 14, 17, 58, 37, 11, 14, 17, 34, 11, 14, 17, 7131, 37, 11, 14, 17, 34, 11, 14, 17, 60, 87, 14, 17, 58, 37, 11, 14, 17, 34, 11, 14, 17, 60, 87, 14, 17, 58, 37, 11, 14, 17, 34, 11, 14, 17, 7131, 37, 11, 14, 17, 34, 11, 14, 17, 60, 37, 11, 14, 17, 58, 37, 11, 14, 17, 34, 11, 14, 17, 7131, 37, 11, 14, 17, 34, 11, 14, 17, 60, 930, 220], [58, 37, 11, 14, 17, 34, 11, 14, 17, 33, 9832, 14, 17, 60, 87, 14, 17, 58, 37, 11, 14, 17, 34, 11, 14, 17, 33, 9832, 14, 17, 60, 87, 14, 17, 58, 37, 11, 14, 17, 34, 11, 14, 17, 33, 9832, 14, 17, 7131, 37, 11, 14, 17, 34, 11, 14, 17, 33, 9832, 14, 17, 7131, 37, 11, 14, 17, 34, 11, 14, 17, 33, 9832, 14, 17, 7131, 37, 11, 14, 17, 34, 11, 14, 17, 33, 9832, 14, 17, 60, 87, 14, 17, 58, 37, 11, 14, 17, 34, 11, 14, 17, 33, 9832, 14, 17, 60, 87, 14, 17, 58, 37, 11, 14, 17, 34, 11, 14, 17, 33, 9832, 14, 17, 7131, 37, 11, 14, 17, 34, 11, 14, 17, 33, 9832, 14, 17, 7131, 37, 11, 14, 17, 34, 11, 14, 17, 33, 9832, 14, 17, 7131, 37, 11, 14, 17, 34, 11, 14, 17, 33, 9832, 14, 17, 7131, 37, 11, 14, 17, 34, 11, 14, 17, 33, 9832, 14, 17, 60, 930, 220], [58, 36, 11, 14, 17, 34, 11, 14, 17, 60, 87, 14, 17, 58, 36, 11, 14, 17, 34, 11, 14, 17, 60, 87, 14, 17, 58, 36, 11, 14, 17, 34, 11, 14, 17, 60, 34, 11, 14, 17, 58, 36, 11, 14, 17, 34, 11, 14, 17, 7131, 36, 11, 14, 17, 34, 11, 14, 17, 60, 87, 14, 17, 58, 36, 11, 14, 17, 34, 11, 14, 17, 60, 87, 14, 17, 58, 36, 11, 14, 17, 34, 11, 14, 17, 7131, 36, 11, 14, 17, 34, 11, 14, 17, 7131, 36, 11, 14, 17, 34, 11, 14, 17, 7131, 36, 11, 14, 17, 34, 11, 14, 17, 7131, 36, 11, 14, 17, 34, 11, 14, 17, 60, 930, 220], [58, 38, 11, 14, 17, 34, 11, 14, 17, 60, 87, 14, 17, 58, 38, 11, 14, 17, 34, 11, 14, 17, 60, 87, 14, 17, 58, 38, 11, 14, 17, 34, 11, 14, 17, 60, 34, 11, 14, 17, 58, 38, 11, 14, 17, 34, 11, 14, 17, 7131, 38, 11, 14, 17, 34, 11, 14, 17, 60, 87, 14, 17, 58, 38, 11, 14, 17, 34, 11, 14, 17, 60, 87, 14, 17, 58, 38, 11, 14, 17, 34, 11, 14, 17, 7131, 38, 11, 14, 17, 34, 11, 14, 17, 60, 38, 11, 14, 17, 58, 38, 11, 14, 17, 34, 11, 14, 17, 7131, 38, 11, 14, 17, 34, 11, 14, 17, 60, 930, 220], [58, 37, 11, 14, 17, 34, 11, 14, 17, 60, 87, 14, 17, 58, 37, 11, 14, 17, 34, 11, 14, 17, 60, 87, 14, 17, 58, 37, 11, 14, 17, 34, 11, 14, 17, 60, 34, 11, 14, 17, 58, 37, 11, 14, 17, 34, 11, 14, 17, 7131, 37, 11, 14, 17, 34, 11, 14, 17, 60, 87, 14, 17, 58, 37, 11, 14, 17, 34, 11, 14, 17, 60, 87, 14, 17, 58, 37, 11, 14, 17, 34, 11, 14, 17, 7131, 37, 11, 14, 17, 34, 11, 14, 17, 60, 37, 11, 14, 17, 58, 37, 11, 14, 17, 34, 11, 14, 17, 7131, 37, 11, 14, 17, 34, 11, 14, 17, 60, 930, 220], [58, 37, 11, 14, 17, 34, 11, 14, 17, 33, 9832, 14, 17, 60, 87, 14, 17, 58, 37, 11, 14, 17, 34, 11, 14, 17, 33, 9832, 14, 17, 60, 87, 14, 17, 58, 37, 11, 14, 17, 34, 11, 14, 17, 33, 9832, 14, 17, 7131, 37, 11, 14, 17, 34, 11, 14, 17, 33, 9832, 14, 17, 7131, 37, 11, 14, 17, 34, 11, 14, 17, 33, 9832, 14, 17, 7131, 37, 11, 14, 17, 34, 11, 14, 17, 33, 9832, 14, 17, 60, 87, 14, 17, 58, 37, 11, 14, 17, 34, 11, 14, 17, 33, 9832, 14, 17, 60, 87, 14, 17, 58, 37, 11, 14, 17, 34, 11, 14, 17, 33, 9832, 14, 17, 7131, 37, 11, 14, 17, 34, 11, 14, 17, 33, 9832, 14, 17, 7131, 37, 11, 14, 17, 34, 11, 14, 17, 33, 9832, 14, 17, 7131, 37, 11, 14, 17, 34, 11, 14, 17, 33, 9832, 14, 17, 7131, 37, 11, 14, 17, 34, 11, 14, 17, 33, 9832, 14, 17, 60, 930, 220], [58, 36, 11, 14, 17, 34, 11, 14, 17, 60, 87, 14, 17, 58, 36, 11, 14, 17, 34, 11, 14, 17, 60, 87, 14, 17, 58, 36, 11, 14, 17, 34, 11, 14, 17, 60, 34, 11, 14, 17, 58, 36, 11, 14, 17, 34, 11, 14, 17, 7131, 36, 11, 14, 17, 34, 11, 14, 17, 60, 87, 14, 17, 58, 36, 11, 14, 17, 34, 11, 14, 17, 60, 87, 14, 17, 58, 36, 11, 14, 17, 34, 11, 14, 17, 7131, 36, 11, 14, 17, 34, 11, 14, 17, 7131, 36, 11, 14, 17, 34, 11, 14, 17, 7131, 36, 11, 14, 17, 34, 11, 14, 17, 7131, 36, 11, 14, 17, 34, 11, 14, 17, 60, 930, 220], [58, 38, 11, 14, 17, 34, 11, 14, 17, 60, 87, 14, 17, 58, 38, 11, 14, 17, 34, 11, 14, 17, 60, 87, 14, 17, 58, 38, 11, 14, 17, 34, 11, 14, 17, 60, 34, 11, 14, 17, 34, 11, 14, 17, 58, 38, 11, 14, 17, 34, 11, 14, 17, 60, 87, 14, 17, 58, 38, 11, 14, 17, 34, 11, 14, 17, 60, 87, 14, 17, 38, 11, 14, 17, 58, 38, 11, 14, 17, 34, 11, 14, 17, 60, 38, 11, 14, 17, 58, 38, 11, 14, 17, 34, 11, 14, 17, 7131, 38, 11, 14, 17, 34, 11, 14, 17, 60, 930, 220], [58, 37, 11, 14, 17, 34, 11, 14, 17, 60, 87, 14, 17, 58, 37, 11, 14, 17, 34, 11, 14, 17, 60, 87, 14, 17, 58, 37, 11, 14, 17, 34, 11, 14, 17, 60, 34, 11, 14, 17, 58, 37, 11, 14, 17, 34, 11, 14, 17, 7131, 37, 11, 14, 17, 34, 11, 14, 17, 60, 87, 14, 17, 58, 37, 11, 14, 17, 34, 11, 14, 17, 60, 87, 14, 17, 58, 37, 11, 14, 17, 34, 11, 14, 17, 7131, 37, 11, 14, 17, 34, 11, 14, 17, 60, 87, 14, 17, 58, 37, 11, 14, 17, 34, 11, 14, 17, 7131, 37, 11, 14, 17, 34, 11, 14, 17, 60, 930, 220], [58, 34, 11, 14, 17, 33, 9832, 14, 17, 60, 87, 14, 17, 58, 37, 11, 14, 17, 34, 11, 14, 17, 33, 9832, 14, 17, 60, 87, 14, 17, 58, 37, 11, 14, 17, 34, 11, 14, 17, 33, 9832, 14, 17, 60, 87, 14, 17, 58, 37, 11, 14, 17, 34, 11, 14, 17, 33, 9832, 14, 17, 7131, 37, 11, 14, 17, 34, 11, 14, 17, 33, 9832, 14, 17, 60, 87, 14, 17, 58, 37, 11, 14, 17, 34, 11, 14, 17, 33, 9832, 14, 17, 60, 87, 14, 17, 58, 37, 11, 14, 17, 34, 11, 14, 17, 33, 9832, 14, 17, 7131, 37, 11, 14, 17, 34, 11, 14, 17, 33, 9832, 14, 17, 7131, 37, 11, 14, 17, 34, 11, 14, 17, 33, 9832, 14, 17, 7131, 37, 11, 14, 17, 34, 11, 14, 17, 33, 9832, 14, 17, 7131, 34, 11, 14, 17, 33, 9832, 14, 17, 60, 930, 220], [58, 36, 11, 14, 17, 34, 11, 14, 17, 60, 87, 14, 17, 87, 58, 36, 11, 14, 17, 34, 11, 14, 17, 60, 34, 11, 14, 17, 58, 36, 11, 14, 17, 34, 11, 14, 17, 60, 87, 58, 36, 11, 14, 17, 34, 11, 14, 17, 60, 87, 14, 17, 58, 36, 11, 14, 17, 34, 11, 14, 17, 60, 34, 11, 14, 17, 58, 36, 11, 14, 17, 34, 11, 14, 17, 7131, 36, 11, 14, 17, 34, 11, 14, 17, 7131, 36, 11, 14, 17, 34, 11, 14, 17, 60, 930, 220], [58, 38, 11, 14, 17, 34, 11, 14, 17, 60, 87, 14, 17, 58, 38, 11, 14, 17, 34, 11, 14, 17, 60, 87, 14, 17, 34, 11, 14, 17, 34, 11, 14, 17, 58, 38, 11, 14, 17, 34, 11, 14, 17, 7131, 38, 11, 14, 17, 34, 11, 14, 17, 60, 87, 14, 17, 87, 58, 38, 11, 14, 17, 34, 11, 14, 17, 7131, 38, 11, 14, 17, 34, 11, 14, 17, 60, 38, 11, 14, 17, 58, 38, 11, 14, 17, 34, 11, 14, 17, 7131, 38, 11, 14, 17, 34, 11, 14, 17, 60, 930, 220], [58, 37, 11, 14, 17, 34, 11, 14, 17, 60, 87, 14, 17, 58, 37, 11, 14, 17, 34, 11, 14, 17, 60, 87, 14, 17, 58, 37, 11, 14, 17, 34, 11, 14, 17, 60, 34, 11, 14, 17, 87, 14, 17, 58, 37, 11, 14, 17, 34, 11, 14, 17, 60, 87, 14, 17, 58, 37, 11, 14, 17, 34, 11, 14, 17, 60, 87, 14, 17, 87, 14, 17, 58, 37, 11, 14, 17, 34, 11, 14, 17, 60, 37, 11, 14, 17, 58, 37, 11, 14, 17, 34, 11, 14, 17, 7131, 37, 11, 14, 17, 34, 11, 14, 17, 60, 930, 220], [58, 34, 11, 14, 17, 33, 9832, 14, 17, 60, 87, 14, 17, 58, 37, 11, 14, 17, 34, 11, 14, 17, 33, 9832, 14, 17, 60, 87, 14, 17, 58, 37, 11, 14, 17, 34, 11, 14, 17, 33, 9832, 14, 17, 60, 87, 14, 17, 58, 37, 11, 14, 17, 34, 11, 14, 17, 33, 9832, 14, 17, 7131, 37, 11, 14, 17, 34, 11, 14, 17, 33, 9832, 14, 17, 60, 87, 14, 17, 58, 37, 11, 14, 17, 34, 11, 14, 17, 33, 9832, 14, 17, 60, 87, 14, 17, 58, 37, 11, 14, 17, 34, 11, 14, 17, 33, 9832, 14, 17, 7131, 37, 11, 14, 17, 34, 11, 14, 17, 33, 9832, 14, 17, 60, 33, 9832, 14, 17, 58, 37, 11, 14, 17, 34, 11, 14, 17, 33, 9832, 14, 17, 7131, 37, 11, 14, 17, 34, 11, 14, 17, 33, 9832, 14, 17, 60, 930, 220], [58, 38, 11, 14, 17, 36, 11, 14, 17, 34, 11, 14, 17, 7131, 38, 11, 14, 17, 36, 11, 14, 17, 34, 11, 14, 17, 60, 34, 11, 14, 17, 87, 14, 17, 58, 38, 11, 14, 17, 36, 11, 14, 17, 34, 11, 14, 17, 60, 87, 14, 17, 58, 38, 11, 14, 17, 36, 11, 14, 17, 34, 11, 14, 17, 7131, 38, 11, 14, 17, 36, 11, 14, 17, 34, 11, 14, 17, 60, 87, 14, 17, 58, 38, 11, 14, 17, 36, 11, 14, 17, 34, 11, 14, 17, 60, 87, 14, 17, 58, 38, 11, 14, 17, 36, 11, 14, 17, 34, 11, 14, 17, 7131, 38, 11, 14, 17, 36, 11, 14, 17, 34, 11, 14, 17, 7131, 38, 11, 14, 17, 36, 11, 14, 17, 34, 11, 14, 17, 7131, 38, 11, 14, 17, 36, 11, 14, 17, 34, 11, 14, 17, 7131, 38, 11, 14, 17, 36, 11, 14, 17, 34, 11, 14, 17, 60, 930, 220], [58, 32, 11, 14, 17, 37, 11, 14, 17, 34, 11, 14, 17, 7131, 32, 11, 14, 17, 37, 11, 14, 17, 34, 11, 14, 17, 7131, 32, 11, 14, 17, 37, 11, 14, 17, 34, 11, 14, 17, 60, 87, 14, 17, 58, 32, 11, 14, 17, 37, 11, 14, 17, 34, 11, 14, 17, 60, 87, 14, 17, 58, 32, 11, 14, 17, 37, 11, 14, 17, 34, 11, 14, 17, 7131, 32, 11, 14, 17, 37, 11, 14, 17, 34, 11, 14, 17, 60, 87, 14, 17, 58, 32, 11, 14, 17, 37, 11, 14, 17, 34, 11, 14, 17, 60, 87, 14, 17, 58, 32, 11, 14, 17, 37, 11, 14, 17, 34, 11, 14, 17, 7131, 32, 11, 14, 17, 37, 11, 14, 17, 34, 11, 14, 17, 7131, 32, 11, 14, 17, 37, 11, 14, 17, 34, 11, 14, 17, 7131, 32, 11, 14, 17, 37, 11, 14, 17, 34, 11, 14, 17, 7131, 32, 11, 14, 17, 37, 11, 14, 17, 34, 11, 14, 17, 60, 930, 220]]\n",
      "/content/drive/MyDrive/test2/8943_166528.abc\n",
      "======total=====\n",
      "[[87, 18, 14, 17, 58, 32, 14, 17, 37, 14, 17, 34, 14, 17, 60, 87, 18, 14, 17, 58, 32, 14, 17, 37, 14, 17, 34, 14, 17, 60, 87, 18, 14, 17, 58, 32, 14, 17, 37, 14, 17, 34, 14, 17, 60, 87, 18, 14, 17, 58, 32, 14, 17, 37, 14, 17, 34, 14, 17, 60, 930, 220], [87, 18, 14, 17, 58, 61, 32, 14, 17, 37, 14, 17, 35, 14, 17, 60, 87, 18, 14, 17, 58, 61, 32, 14, 17, 37, 14, 17, 35, 14, 17, 60, 87, 18, 14, 17, 58, 61, 32, 14, 17, 37, 14, 17, 35, 14, 17, 60, 87, 18, 14, 17, 58, 61, 32, 14, 17, 37, 14, 17, 35, 14, 17, 60, 930, 220], [87, 18, 14, 17, 58, 61, 32, 14, 17, 37, 14, 17, 35, 14, 17, 60, 87, 18, 14, 17, 58, 61, 32, 14, 17, 37, 14, 17, 35, 14, 17, 60, 87, 18, 14, 17, 58, 61, 32, 14, 17, 37, 14, 17, 35, 14, 17, 60, 87, 18, 14, 17, 58, 61, 32, 14, 17, 37, 14, 17, 35, 14, 17, 60, 930, 220], [87, 18, 14, 17, 58, 38, 14, 17, 61, 35, 14, 17, 34, 14, 17, 60, 87, 18, 14, 17, 58, 38, 14, 17, 61, 35, 14, 17, 34, 14, 17, 60, 87, 18, 14, 17, 58, 38, 14, 17, 61, 35, 14, 17, 34, 14, 17, 60, 87, 18, 14, 17, 58, 38, 14, 17, 61, 35, 14, 17, 34, 14, 17, 60, 930, 220], [87, 18, 14, 17, 58, 28, 32, 14, 17, 61, 37, 14, 17, 28, 35, 14, 17, 60, 87, 18, 14, 17, 58, 32, 14, 17, 61, 37, 14, 17, 35, 14, 17, 60, 87, 18, 14, 17, 58, 32, 14, 17, 61, 37, 14, 17, 35, 14, 17, 60, 87, 18, 14, 17, 58, 32, 14, 17, 61, 37, 14, 17, 35, 14, 17, 60, 930, 220], [87, 18, 14, 17, 58, 61, 32, 14, 17, 38, 14, 17, 35, 14, 17, 60, 87, 18, 14, 17, 58, 61, 32, 14, 17, 38, 14, 17, 35, 14, 17, 60, 87, 18, 14, 17, 58, 61, 32, 14, 17, 38, 14, 17, 35, 14, 17, 60, 87, 18, 14, 17, 58, 61, 32, 14, 17, 38, 14, 17, 35, 14, 17, 60, 930, 220], [87, 18, 14, 17, 58, 61, 32, 14, 17, 38, 14, 17, 61, 35, 14, 17, 60, 87, 18, 14, 17, 58, 61, 32, 14, 17, 38, 14, 17, 61, 35, 14, 17, 60, 87, 18, 14, 17, 58, 28, 32, 14, 17, 36, 14, 17, 61, 34, 14, 17, 60, 87, 18, 14, 17, 58, 32, 14, 17, 36, 14, 17, 61, 34, 14, 17, 60, 930, 220], [87, 18, 14, 17, 58, 61, 32, 14, 17, 28, 37, 14, 17, 28, 35, 14, 17, 60, 87, 18, 14, 17, 58, 28, 32, 14, 17, 61, 37, 14, 17, 35, 14, 17, 60, 87, 18, 14, 17, 58, 38, 14, 17, 35, 14, 17, 33, 11, 14, 17, 60, 87, 18, 14, 17, 58, 38, 14, 17, 35, 14, 17, 33, 11, 14, 17, 60, 930, 220], [87, 18, 14, 17, 58, 61, 32, 14, 17, 38, 14, 17, 36, 14, 17, 60, 87, 18, 14, 17, 58, 61, 32, 14, 17, 38, 14, 17, 36, 14, 17, 60, 87, 18, 14, 17, 58, 28, 32, 14, 17, 28, 37, 14, 17, 61, 35, 14, 17, 60, 87, 18, 14, 17, 58, 32, 14, 17, 37, 14, 17, 61, 35, 14, 17, 60, 930, 220], [87, 18, 14, 17, 58, 61, 32, 14, 17, 37, 14, 17, 28, 35, 14, 17, 60, 87, 18, 14, 17, 58, 61, 32, 14, 17, 37, 14, 17, 35, 14, 17, 60, 87, 18, 14, 17, 58, 33, 14, 17, 38, 14, 17, 35, 14, 17, 60, 87, 18, 14, 17, 58, 33, 14, 17, 38, 14, 17, 35, 14, 17, 60, 930, 220], [87, 18, 14, 17, 58, 28, 66, 14, 17, 38, 14, 17, 36, 14, 17, 60, 87, 18, 14, 17, 58, 66, 14, 17, 38, 14, 17, 36, 14, 17, 60, 87, 18, 14, 17, 58, 66, 14, 17, 38, 14, 17, 36, 14, 17, 60, 87, 18, 14, 17, 58, 66, 14, 17, 38, 14, 17, 36, 14, 17, 60, 930, 220], [87, 18, 14, 17, 58, 33, 14, 17, 38, 14, 17, 35, 14, 17, 60, 87, 18, 14, 17, 58, 33, 14, 17, 38, 14, 17, 35, 14, 17, 60, 87, 18, 14, 17, 58, 33, 14, 17, 38, 14, 17, 35, 14, 17, 60, 87, 18, 14, 17, 58, 33, 14, 17, 38, 14, 17, 35, 14, 17, 60, 930, 220], [87, 18, 14, 17, 58, 33, 14, 17, 38, 14, 17, 35, 14, 17, 60, 87, 18, 14, 17, 58, 33, 14, 17, 38, 14, 17, 35, 14, 17, 60, 87, 18, 14, 17, 58, 33, 14, 17, 38, 14, 17, 35, 14, 17, 60, 87, 18, 14, 17, 58, 33, 14, 17, 38, 14, 17, 35, 14, 17, 60, 930, 220], [87, 18, 14, 17, 58, 66, 14, 17, 38, 14, 17, 36, 14, 17, 60, 87, 18, 14, 17, 58, 66, 14, 17, 38, 14, 17, 36, 14, 17, 60, 87, 18, 14, 17, 58, 66, 14, 17, 38, 14, 17, 36, 14, 17, 60, 87, 18, 14, 17, 58, 66, 14, 17, 38, 14, 17, 36, 14, 17, 60, 930, 220], [87, 18, 14, 17, 58, 66, 14, 17, 38, 14, 17, 36, 14, 17, 60, 87, 18, 14, 17, 58, 66, 14, 17, 38, 14, 17, 36, 14, 17, 60, 87, 18, 14, 17, 58, 66, 14, 17, 38, 14, 17, 36, 14, 17, 60, 87, 18, 14, 17, 58, 66, 14, 17, 38, 14, 17, 36, 14, 17, 60, 930, 220], [87, 18, 14, 17, 58, 33, 14, 17, 38, 14, 17, 35, 14, 17, 60, 87, 18, 14, 17, 58, 33, 14, 17, 38, 14, 17, 35, 14, 17, 60, 87, 18, 14, 17, 58, 33, 14, 17, 38, 14, 17, 35, 14, 17, 60, 87, 18, 14, 17, 58, 33, 14, 17, 38, 14, 17, 35, 14, 17, 60, 930, 220]]\n"
     ]
    }
   ],
   "source": [
    "train_data = []\n",
    "valid_data = []\n",
    "test_data = []\n",
    "\n",
    "train_data = load_dataset(TRAIN_DIR)\n",
    "# valid_data = load_dataset(VALID_DIR)\n",
    "# test_data = load_dataset(TEST_DIR)"
   ]
  },
  {
   "cell_type": "code",
   "execution_count": null,
   "metadata": {
    "id": "-bCet2XIgyKA"
   },
   "outputs": [],
   "source": [
    "def tokonize_abc_input(dataset):\n",
    "  tokens = []\n",
    "  for i in range(len(dataset)):\n",
    "    if (len(dataset['abc_input'][i]) >1024):\n",
    "      continue\n",
    "    token = tokenizer.encode(dataset['abc_input'][i], padding=\"max_length\",  # Pad to the model's maximum input length\n",
    "    max_length=512,  # Adjust the maximum length as needed\n",
    "    truncation=True,  # Truncate if the input is longer than max_length\n",
    "    add_special_tokens=True,\n",
    "    return_tensors=\"pt\")\n",
    "    tokens.append(token[0])\n",
    "  return tokens"
   ]
  },
  {
   "cell_type": "code",
   "execution_count": null,
   "metadata": {
    "id": "1G3vnOjBhWNV"
   },
   "outputs": [],
   "source": [
    "df = pd.read_csv(DATASET_DIR)\n",
    "train_list = tokonize_abc_input(df)\n"
   ]
  },
  {
   "cell_type": "code",
   "execution_count": null,
   "metadata": {
    "id": "l9s1QcZai8Q6"
   },
   "outputs": [],
   "source": [
    "from torch.utils.data import Dataset\n",
    "\n",
    "class ABCDataset(Dataset):\n",
    "    def __init__(self, tokenized_data):\n",
    "        self.tokenized_data = tokenized_data\n",
    "\n",
    "    def __len__(self):\n",
    "        return len(self.tokenized_data)\n",
    "\n",
    "    def __getitem__(self, idx):\n",
    "        return self.tokenized_data[idx]\n"
   ]
  },
  {
   "cell_type": "code",
   "execution_count": null,
   "metadata": {
    "colab": {
     "base_uri": "https://localhost:8080/"
    },
    "id": "Hzj4GuMUjDp6",
    "outputId": "e40b2923-a8e2-48d9-9f9a-cb3366fdccb1"
   },
   "outputs": [
    {
     "data": {
      "text/plain": [
       "<__main__.ABCDataset at 0x7c3f1f486e00>"
      ]
     },
     "execution_count": 27,
     "metadata": {},
     "output_type": "execute_result"
    }
   ],
   "source": [
    "abc_dataset = ABCDataset(train_list)\n",
    "abc_dataset"
   ]
  },
  {
   "cell_type": "code",
   "execution_count": null,
   "metadata": {
    "colab": {
     "base_uri": "https://localhost:8080/",
     "height": 193
    },
    "id": "9H1UxuxrYjMP",
    "outputId": "505b1165-41fe-4f6a-f670-e7b55c21da96"
   },
   "outputs": [
    {
     "ename": "NameError",
     "evalue": "ignored",
     "output_type": "error",
     "traceback": [
      "\u001b[0;31m---------------------------------------------------------------------------\u001b[0m",
      "\u001b[0;31mNameError\u001b[0m                                 Traceback (most recent call last)",
      "\u001b[0;32m<ipython-input-11-b958c8e230c8>\u001b[0m in \u001b[0;36m<cell line: 1>\u001b[0;34m()\u001b[0m\n\u001b[0;32m----> 1\u001b[0;31m \u001b[0mtrain_dataset_2\u001b[0m \u001b[0;34m=\u001b[0m \u001b[0mABCD\u001b[0m\u001b[0;34m(\u001b[0m\u001b[0mtrain_data\u001b[0m\u001b[0;34m)\u001b[0m\u001b[0;34m\u001b[0m\u001b[0;34m\u001b[0m\u001b[0m\n\u001b[0m\u001b[1;32m      2\u001b[0m \u001b[0;31m# valid_dataset = ABCD(valid_data)\u001b[0m\u001b[0;34m\u001b[0m\u001b[0;34m\u001b[0m\u001b[0m\n",
      "\u001b[0;31mNameError\u001b[0m: name 'ABCD' is not defined"
     ]
    }
   ],
   "source": [
    "train_dataset_2 = ABCD(train_data)\n",
    "# valid_dataset = ABCD(valid_data)"
   ]
  },
  {
   "cell_type": "code",
   "execution_count": null,
   "metadata": {
    "colab": {
     "base_uri": "https://localhost:8080/"
    },
    "id": "_V7jq4wrhF8j",
    "outputId": "436e124c-7350-4dc8-eb00-6e9e5df13d6c"
   },
   "outputs": [
    {
     "data": {
      "text/plain": [
       "tensor([58])"
      ]
     },
     "execution_count": 28,
     "metadata": {},
     "output_type": "execute_result"
    }
   ],
   "source": [
    "train_dataset_2[0]['labels']\n"
   ]
  },
  {
   "cell_type": "code",
   "execution_count": null,
   "metadata": {
    "colab": {
     "base_uri": "https://localhost:8080/"
    },
    "id": "cScTMldh3FeN",
    "outputId": "430a5c0c-d4fd-4e88-9583-7333e43de8e5"
   },
   "outputs": [
    {
     "name": "stdout",
     "output_type": "stream",
     "text": [
      "351\n"
     ]
    }
   ],
   "source": [
    "len(train_dataset_2[1]['input_ids'])\n",
    "max_length = 0\n",
    "for data in train_dataset_2:\n",
    "  # print(data)\n",
    "  # print(data['input_ids'])\n",
    "  # print(len(data['input_ids']))\n",
    "  if max_length < len(data['input_ids']):\n",
    "    max_length = len(data['input_ids'])\n",
    "print(max_length)"
   ]
  },
  {
   "cell_type": "code",
   "execution_count": null,
   "metadata": {
    "id": "3cuSlUidwNdx"
   },
   "outputs": [],
   "source": [
    "import torch\n",
    "from torch.nn.utils.rnn import pad_sequence\n",
    "\n",
    "\n",
    "\n",
    "def collate_function(samples):\n",
    "    input_ids = [sample[\"input_ids\"] for sample in samples]\n",
    "    labels_id = [sample[\"labels\"] for sample in samples]\n",
    "\n",
    "    print(labels_id)\n",
    "    print(labels_id[0])\n",
    "\n",
    "    max_seq_len = 2048  # Set the maximum sequence length\n",
    "\n",
    "    # Manually pad sequences to the same length\n",
    "    input_ids_padded = torch.stack([torch.cat([seq, torch.zeros(max_seq_len - len(seq), dtype=torch.long)]) for seq in input_ids])\n",
    "\n",
    "\n",
    "  # Concatenate the original tensor with the zeros tensor\n",
    "    labels_padded = torch.stack([torch.cat([seq, torch.zeros(2047, dtype=torch.long)]) for seq in labels_id])  # Pad labels\n",
    "\n",
    "    attention_mask = (input_ids_padded != 0).long()\n",
    " \n",
    "    batch = {\n",
    "        \"input_ids\": input_ids_padded,\n",
    "        \"attention_mask\": attention_mask,\n",
    "        \"labels\": input_ids_padded,  # Add the labels tensor\n",
    "    }\n",
    "\n",
    "\n",
    "    return batch\n",
    "\n"
   ]
  },
  {
   "cell_type": "code",
   "execution_count": null,
   "metadata": {
    "colab": {
     "base_uri": "https://localhost:8080/",
     "height": 35
    },
    "id": "mAuIinF0ZtfV",
    "outputId": "7a6667d8-3379-4d19-a18d-dda2f17a3605"
   },
   "outputs": [
    {
     "data": {
      "application/vnd.google.colaboratory.intrinsic+json": {
       "type": "string"
      },
      "text/plain": [
       "'/content/drive/MyDrive/Music_project/output_BERT_checkpoints'"
      ]
     },
     "execution_count": 30,
     "metadata": {},
     "output_type": "execute_result"
    }
   ],
   "source": [
    "OUTPUT_DIR"
   ]
  },
  {
   "cell_type": "code",
   "execution_count": null,
   "metadata": {
    "id": "XWe9_HNPZRB_"
   },
   "outputs": [],
   "source": [
    "from transformers import Trainer, TrainingArguments,TrainerCallback\n",
    "from transformers import get_cosine_schedule_with_warmup\n",
    "from transformers import DataCollatorForLanguageModeling\n",
    "\n",
    "\n",
    "training_args = TrainingArguments(\n",
    "    output_dir=OUTPUT_DIR + 'run9_withGPT2_300,000_new_samples',\n",
    "    overwrite_output_dir=True,\n",
    "    # evaluation_strategy=\"steps\",\n",
    "    gradient_accumulation_steps=2,\n",
    "\n",
    "    num_train_epochs=10,\n",
    "    per_device_train_batch_size=4,\n",
    "    # per_device_eval_batch_size=8,\n",
    "    save_strategy='steps',\n",
    "    save_steps=50000,\n",
    "    # eval_steps=200,\n",
    "    logging_strategy='epoch',\n",
    "    fp16=True,\n",
    "    report_to=\"wandb\",\n",
    "    run_name=\"Run_9_GPT2_toknizer-music_project_300,000_new_samples_DS\",\n",
    "\n",
    "    learning_rate=2e-3,  # Set your initial learning rate\n",
    "    warmup_ratio=0.1,\n",
    "    warmup_steps=200,  # Adjust warmup steps as per your preference\n",
    "    # weight_decay=0.01,  # Set weight decay if necessary\n",
    "    seed=42,\n",
    ")\n",
    "\n",
    "# # Create the learning rate scheduler\n",
    "# total_steps = len(train_dataset) * training_args.num_train_epochs // training_args.gradient_accumulation_steps\n",
    "# training_args.learning_rate_scheduler = get_cosine_schedule_with_warmup(\n",
    "#     optimizer, num_warmup_steps=training_args.warmup_steps, num_training_steps=total_steps\n",
    "\n",
    "class PrinterCallback(TrainerCallback):\n",
    "    def on_log(self, args, state, control, logs=None, **kwargs):\n",
    "        _ = logs.pop(\"flos\", None)\n",
    "        if state.is_local_process_zero:\n",
    "            print(logs)\n",
    "\n",
    "trainer = Trainer(\n",
    "    model=model,\n",
    "    args=training_args,\n",
    "    train_dataset=abc_dataset,\n",
    "    # eval_dataset=valid_dataset,\n",
    "    data_collator= DataCollatorForLanguageModeling(tokenizer=tokenizer, mlm=False),\n",
    "    callbacks=[PrinterCallback], \n",
    "\n",
    ")\n",
    "\n",
    "# Start training\n"
   ]
  },
  {
   "cell_type": "code",
   "execution_count": null,
   "metadata": {
    "colab": {
     "base_uri": "https://localhost:8080/",
     "height": 835
    },
    "id": "HrWg0XoQtKwH",
    "outputId": "9f69134d-8064-48ba-ded8-6def51bc7542"
   },
   "outputs": [
    {
     "data": {
      "text/html": [
       "\n",
       "    <div>\n",
       "      \n",
       "      <progress value='149220' max='351060' style='width:300px; height:20px; vertical-align: middle;'></progress>\n",
       "      [149220/351060 7:47:18 < 10:32:06, 5.32 it/s, Epoch 4.25/10]\n",
       "    </div>\n",
       "    <table border=\"1\" class=\"dataframe\">\n",
       "  <thead>\n",
       " <tr style=\"text-align: left;\">\n",
       "      <th>Step</th>\n",
       "      <th>Training Loss</th>\n",
       "    </tr>\n",
       "  </thead>\n",
       "  <tbody>\n",
       "    <tr>\n",
       "      <td>35106</td>\n",
       "      <td>0.453000</td>\n",
       "    </tr>\n",
       "    <tr>\n",
       "      <td>70213</td>\n",
       "      <td>0.308600</td>\n",
       "    </tr>\n",
       "    <tr>\n",
       "      <td>105319</td>\n",
       "      <td>0.232200</td>\n",
       "    </tr>\n",
       "    <tr>\n",
       "      <td>140426</td>\n",
       "      <td>0.177700</td>\n",
       "    </tr>\n",
       "  </tbody>\n",
       "</table><p>"
      ],
      "text/plain": [
       "<IPython.core.display.HTML object>"
      ]
     },
     "metadata": {},
     "output_type": "display_data"
    },
    {
     "metadata": {
      "tags": null
     },
     "name": "stdout",
     "output_type": "stream",
     "text": [
      "{'loss': 0.453, 'learning_rate': 0.001801094453628228, 'epoch': 1.0}\n",
      "{'loss': 0.3086, 'learning_rate': 0.0016010488513937182, 'epoch': 2.0}\n",
      "{'loss': 0.2322, 'learning_rate': 0.001401003249159209, 'epoch': 3.0}\n",
      "{'loss': 0.1777, 'learning_rate': 0.0012009519466453856, 'epoch': 4.0}\n"
     ]
    },
    {
     "data": {
      "text/html": [
       "\n",
       "    <div>\n",
       "      \n",
       "      <progress value='351060' max='351060' style='width:300px; height:20px; vertical-align: middle;'></progress>\n",
       "      [351060/351060 18:11:15, Epoch 9/10]\n",
       "    </div>\n",
       "    <table border=\"1\" class=\"dataframe\">\n",
       "  <thead>\n",
       " <tr style=\"text-align: left;\">\n",
       "      <th>Step</th>\n",
       "      <th>Training Loss</th>\n",
       "    </tr>\n",
       "  </thead>\n",
       "  <tbody>\n",
       "    <tr>\n",
       "      <td>35106</td>\n",
       "      <td>0.453000</td>\n",
       "    </tr>\n",
       "    <tr>\n",
       "      <td>70213</td>\n",
       "      <td>0.308600</td>\n",
       "    </tr>\n",
       "    <tr>\n",
       "      <td>105319</td>\n",
       "      <td>0.232200</td>\n",
       "    </tr>\n",
       "    <tr>\n",
       "      <td>140426</td>\n",
       "      <td>0.177700</td>\n",
       "    </tr>\n",
       "    <tr>\n",
       "      <td>175532</td>\n",
       "      <td>0.138700</td>\n",
       "    </tr>\n",
       "    <tr>\n",
       "      <td>210639</td>\n",
       "      <td>0.110000</td>\n",
       "    </tr>\n",
       "    <tr>\n",
       "      <td>245745</td>\n",
       "      <td>0.088500</td>\n",
       "    </tr>\n",
       "    <tr>\n",
       "      <td>280852</td>\n",
       "      <td>0.071800</td>\n",
       "    </tr>\n",
       "    <tr>\n",
       "      <td>315958</td>\n",
       "      <td>0.332100</td>\n",
       "    </tr>\n",
       "    <tr>\n",
       "      <td>351060</td>\n",
       "      <td>0.000000</td>\n",
       "    </tr>\n",
       "  </tbody>\n",
       "</table><p>"
      ],
      "text/plain": [
       "<IPython.core.display.HTML object>"
      ]
     },
     "metadata": {},
     "output_type": "display_data"
    },
    {
     "name": "stdout",
     "output_type": "stream",
     "text": [
      "{'loss': 0.1387, 'learning_rate': 0.0010009234452488171, 'epoch': 5.0}\n",
      "{'loss': 0.11, 'learning_rate': 0.0008008835432936214, 'epoch': 6.0}\n",
      "{'loss': 0.0885, 'learning_rate': 0.0006008379410591119, 'epoch': 7.0}\n",
      "{'loss': 0.0718, 'learning_rate': 0.0004008265405004845, 'epoch': 8.0}\n",
      "{'loss': 0.3321, 'learning_rate': 0.0003597332269281195, 'epoch': 9.0}\n",
      "{'loss': 0.0, 'learning_rate': 0.0003597332269281195, 'epoch': 10.0}\n",
      "{'train_runtime': 65475.672, 'train_samples_per_second': 42.894, 'train_steps_per_second': 5.362, 'total_flos': 7.3383344603136e+17, 'train_loss': 0.19128658034105636, 'epoch': 10.0}\n"
     ]
    },
    {
     "data": {
      "text/plain": [
       "TrainOutput(global_step=351060, training_loss=0.19128658034105636, metrics={'train_runtime': 65475.672, 'train_samples_per_second': 42.894, 'train_steps_per_second': 5.362, 'total_flos': 7.3383344603136e+17, 'train_loss': 0.19128658034105636, 'epoch': 10.0})"
      ]
     },
     "execution_count": 29,
     "metadata": {},
     "output_type": "execute_result"
    }
   ],
   "source": [
    "#9th Run\n",
    "\n",
    "trainer.train()"
   ]
  },
  {
   "cell_type": "code",
   "execution_count": null,
   "metadata": {
    "colab": {
     "base_uri": "https://localhost:8080/",
     "height": 1000
    },
    "id": "5t_4mTSq1MgO",
    "outputId": "01edd029-5dd8-4a46-8076-0856425e5d16"
   },
   "outputs": [
    {
     "data": {
      "text/html": [
       "Tracking run with wandb version 0.15.10"
      ],
      "text/plain": [
       "<IPython.core.display.HTML object>"
      ]
     },
     "metadata": {},
     "output_type": "display_data"
    },
    {
     "data": {
      "text/html": [
       "Run data is saved locally in <code>/content/wandb/run-20230911_201426-wzvt3c9z</code>"
      ],
      "text/plain": [
       "<IPython.core.display.HTML object>"
      ]
     },
     "metadata": {},
     "output_type": "display_data"
    },
    {
     "data": {
      "text/html": [
       "Syncing run <strong><a href='https://wandb.ai/music_project/huggingface/runs/wzvt3c9z' target=\"_blank\">Run_8_GPT2_toknizer-music_project_300,000_samples_DS</a></strong> to <a href='https://wandb.ai/music_project/huggingface' target=\"_blank\">Weights & Biases</a> (<a href='https://wandb.me/run' target=\"_blank\">docs</a>)<br/>"
      ],
      "text/plain": [
       "<IPython.core.display.HTML object>"
      ]
     },
     "metadata": {},
     "output_type": "display_data"
    },
    {
     "data": {
      "text/html": [
       " View project at <a href='https://wandb.ai/music_project/huggingface' target=\"_blank\">https://wandb.ai/music_project/huggingface</a>"
      ],
      "text/plain": [
       "<IPython.core.display.HTML object>"
      ]
     },
     "metadata": {},
     "output_type": "display_data"
    },
    {
     "data": {
      "text/html": [
       " View run at <a href='https://wandb.ai/music_project/huggingface/runs/wzvt3c9z' target=\"_blank\">https://wandb.ai/music_project/huggingface/runs/wzvt3c9z</a>"
      ],
      "text/plain": [
       "<IPython.core.display.HTML object>"
      ]
     },
     "metadata": {},
     "output_type": "display_data"
    },
    {
     "data": {
      "text/html": [
       "\n",
       "    <div>\n",
       "      \n",
       "      <progress value='333849' max='353310' style='width:300px; height:20px; vertical-align: middle;'></progress>\n",
       "      [333849/353310 17:25:34 < 1:00:57, 5.32 it/s, Epoch 9.45/10]\n",
       "    </div>\n",
       "    <table border=\"1\" class=\"dataframe\">\n",
       "  <thead>\n",
       " <tr style=\"text-align: left;\">\n",
       "      <th>Step</th>\n",
       "      <th>Training Loss</th>\n",
       "    </tr>\n",
       "  </thead>\n",
       "  <tbody>\n",
       "    <tr>\n",
       "      <td>35331</td>\n",
       "      <td>0.542200</td>\n",
       "    </tr>\n",
       "    <tr>\n",
       "      <td>70663</td>\n",
       "      <td>0.448800</td>\n",
       "    </tr>\n",
       "    <tr>\n",
       "      <td>105994</td>\n",
       "      <td>0.411100</td>\n",
       "    </tr>\n",
       "    <tr>\n",
       "      <td>141326</td>\n",
       "      <td>0.383500</td>\n",
       "    </tr>\n",
       "    <tr>\n",
       "      <td>176657</td>\n",
       "      <td>0.362200</td>\n",
       "    </tr>\n",
       "    <tr>\n",
       "      <td>211989</td>\n",
       "      <td>0.344900</td>\n",
       "    </tr>\n",
       "    <tr>\n",
       "      <td>247320</td>\n",
       "      <td>0.331800</td>\n",
       "    </tr>\n",
       "    <tr>\n",
       "      <td>282652</td>\n",
       "      <td>0.321400</td>\n",
       "    </tr>\n",
       "    <tr>\n",
       "      <td>317983</td>\n",
       "      <td>0.314300</td>\n",
       "    </tr>\n",
       "  </tbody>\n",
       "</table><p>"
      ],
      "text/plain": [
       "<IPython.core.display.HTML object>"
      ]
     },
     "metadata": {},
     "output_type": "display_data"
    },
    {
     "metadata": {
      "tags": null
     },
     "name": "stdout",
     "output_type": "stream",
     "text": [
      "{'loss': 0.5422, 'learning_rate': 1.801104471694373e-05, 'epoch': 1.0}\n",
      "{'loss': 0.4488, 'learning_rate': 1.6010704879499307e-05, 'epoch': 2.0}\n",
      "{'loss': 0.4111, 'learning_rate': 1.4010534960777096e-05, 'epoch': 3.0}\n",
      "{'loss': 0.3835, 'learning_rate': 1.2010195123332673e-05, 'epoch': 4.0}\n",
      "{'loss': 0.3622, 'learning_rate': 1.0009968565036392e-05, 'epoch': 5.0}\n",
      "{'loss': 0.3449, 'learning_rate': 8.009572088017898e-06, 'epoch': 6.0}\n",
      "{'loss': 0.3318, 'learning_rate': 6.009232250573476e-06, 'epoch': 7.0}\n",
      "{'loss': 0.3214, 'learning_rate': 4.008835773554983e-06, 'epoch': 8.0}\n",
      "{'loss': 0.3143, 'learning_rate': 2.008552575684631e-06, 'epoch': 9.0}\n"
     ]
    },
    {
     "data": {
      "text/html": [
       "\n",
       "    <div>\n",
       "      \n",
       "      <progress value='353310' max='353310' style='width:300px; height:20px; vertical-align: middle;'></progress>\n",
       "      [353310/353310 18:26:16, Epoch 9/10]\n",
       "    </div>\n",
       "    <table border=\"1\" class=\"dataframe\">\n",
       "  <thead>\n",
       " <tr style=\"text-align: left;\">\n",
       "      <th>Step</th>\n",
       "      <th>Training Loss</th>\n",
       "    </tr>\n",
       "  </thead>\n",
       "  <tbody>\n",
       "    <tr>\n",
       "      <td>35331</td>\n",
       "      <td>0.542200</td>\n",
       "    </tr>\n",
       "    <tr>\n",
       "      <td>70663</td>\n",
       "      <td>0.448800</td>\n",
       "    </tr>\n",
       "    <tr>\n",
       "      <td>105994</td>\n",
       "      <td>0.411100</td>\n",
       "    </tr>\n",
       "    <tr>\n",
       "      <td>141326</td>\n",
       "      <td>0.383500</td>\n",
       "    </tr>\n",
       "    <tr>\n",
       "      <td>176657</td>\n",
       "      <td>0.362200</td>\n",
       "    </tr>\n",
       "    <tr>\n",
       "      <td>211989</td>\n",
       "      <td>0.344900</td>\n",
       "    </tr>\n",
       "    <tr>\n",
       "      <td>247320</td>\n",
       "      <td>0.331800</td>\n",
       "    </tr>\n",
       "    <tr>\n",
       "      <td>282652</td>\n",
       "      <td>0.321400</td>\n",
       "    </tr>\n",
       "    <tr>\n",
       "      <td>317983</td>\n",
       "      <td>0.314300</td>\n",
       "    </tr>\n",
       "    <tr>\n",
       "      <td>353310</td>\n",
       "      <td>0.309800</td>\n",
       "    </tr>\n",
       "  </tbody>\n",
       "</table><p>"
      ],
      "text/plain": [
       "<IPython.core.display.HTML object>"
      ]
     },
     "metadata": {},
     "output_type": "display_data"
    },
    {
     "name": "stdout",
     "output_type": "stream",
     "text": [
      "{'loss': 0.3098, 'learning_rate': 8.439296536490046e-09, 'epoch': 10.0}\n",
      "{'train_runtime': 66380.1332, 'train_samples_per_second': 42.581, 'train_steps_per_second': 5.323, 'total_flos': 7.3853670260736e+17, 'train_loss': 0.37699885325563953, 'epoch': 10.0}\n"
     ]
    },
    {
     "data": {
      "text/plain": [
       "TrainOutput(global_step=353310, training_loss=0.37699885325563953, metrics={'train_runtime': 66380.1332, 'train_samples_per_second': 42.581, 'train_steps_per_second': 5.323, 'total_flos': 7.3853670260736e+17, 'train_loss': 0.37699885325563953, 'epoch': 10.0})"
      ]
     },
     "execution_count": 10,
     "metadata": {},
     "output_type": "execute_result"
    }
   ],
   "source": [
    "#8th Run\n",
    "\n",
    "trainer.train()"
   ]
  },
  {
   "cell_type": "code",
   "execution_count": null,
   "metadata": {
    "colab": {
     "base_uri": "https://localhost:8080/",
     "height": 634
    },
    "id": "tCI7igdKjrGx",
    "outputId": "fa76a509-3848-4886-efc1-eb145b092df2"
   },
   "outputs": [
    {
     "data": {
      "text/html": [
       "\n",
       "    <div>\n",
       "      \n",
       "      <progress value='240' max='240' style='width:300px; height:20px; vertical-align: middle;'></progress>\n",
       "      [240/240 01:23, Epoch 9/10]\n",
       "    </div>\n",
       "    <table border=\"1\" class=\"dataframe\">\n",
       "  <thead>\n",
       " <tr style=\"text-align: left;\">\n",
       "      <th>Step</th>\n",
       "      <th>Training Loss</th>\n",
       "    </tr>\n",
       "  </thead>\n",
       "  <tbody>\n",
       "    <tr>\n",
       "      <td>24</td>\n",
       "      <td>2.016500</td>\n",
       "    </tr>\n",
       "    <tr>\n",
       "      <td>49</td>\n",
       "      <td>1.708200</td>\n",
       "    </tr>\n",
       "    <tr>\n",
       "      <td>73</td>\n",
       "      <td>1.568700</td>\n",
       "    </tr>\n",
       "    <tr>\n",
       "      <td>98</td>\n",
       "      <td>1.330200</td>\n",
       "    </tr>\n",
       "    <tr>\n",
       "      <td>122</td>\n",
       "      <td>1.256800</td>\n",
       "    </tr>\n",
       "    <tr>\n",
       "      <td>147</td>\n",
       "      <td>1.102400</td>\n",
       "    </tr>\n",
       "    <tr>\n",
       "      <td>171</td>\n",
       "      <td>1.076100</td>\n",
       "    </tr>\n",
       "    <tr>\n",
       "      <td>196</td>\n",
       "      <td>0.992800</td>\n",
       "    </tr>\n",
       "    <tr>\n",
       "      <td>220</td>\n",
       "      <td>0.975900</td>\n",
       "    </tr>\n",
       "    <tr>\n",
       "      <td>240</td>\n",
       "      <td>0.919400</td>\n",
       "    </tr>\n",
       "  </tbody>\n",
       "</table><p>"
      ],
      "text/plain": [
       "<IPython.core.display.HTML object>"
      ]
     },
     "metadata": {},
     "output_type": "display_data"
    },
    {
     "name": "stdout",
     "output_type": "stream",
     "text": [
      "{'loss': 2.0165, 'learning_rate': 2.2e-06, 'epoch': 0.98}\n",
      "{'loss': 1.7082, 'learning_rate': 4.7e-06, 'epoch': 2.0}\n",
      "{'loss': 1.5687, 'learning_rate': 7.100000000000001e-06, 'epoch': 2.98}\n",
      "{'loss': 1.3302, 'learning_rate': 9.600000000000001e-06, 'epoch': 4.0}\n",
      "{'loss': 1.2568, 'learning_rate': 1.2e-05, 'epoch': 4.98}\n",
      "{'loss': 1.1024, 'learning_rate': 1.45e-05, 'epoch': 6.0}\n",
      "{'loss': 1.0761, 'learning_rate': 1.69e-05, 'epoch': 6.98}\n",
      "{'loss': 0.9928, 'learning_rate': 1.94e-05, 'epoch': 8.0}\n",
      "{'loss': 0.9759, 'learning_rate': 1.1000000000000001e-05, 'epoch': 8.98}\n",
      "{'loss': 0.9194, 'learning_rate': 1.0000000000000002e-06, 'epoch': 9.8}\n",
      "{'train_runtime': 84.2824, 'train_samples_per_second': 23.018, 'train_steps_per_second': 2.848, 'total_flos': 496977444864000.0, 'train_loss': 1.3007516781489055, 'epoch': 9.8}\n"
     ]
    },
    {
     "data": {
      "text/plain": [
       "TrainOutput(global_step=240, training_loss=1.3007516781489055, metrics={'train_runtime': 84.2824, 'train_samples_per_second': 23.018, 'train_steps_per_second': 2.848, 'total_flos': 496977444864000.0, 'train_loss': 1.3007516781489055, 'epoch': 9.8})"
      ]
     },
     "execution_count": 18,
     "metadata": {},
     "output_type": "execute_result"
    }
   ],
   "source": [
    "#check Run\n",
    "\n",
    "trainer.train()\n"
   ]
  },
  {
   "cell_type": "code",
   "execution_count": null,
   "metadata": {
    "colab": {
     "base_uri": "https://localhost:8080/"
    },
    "id": "Eee-AligaKHx",
    "outputId": "0d2d0d96-a740-4bd8-9a2c-e55fc27f2ca2"
   },
   "outputs": [
    {
     "name": "stdout",
     "output_type": "stream",
     "text": [
      "Thu Jun 15 13:12:18 2023       \n",
      "+-----------------------------------------------------------------------------+\n",
      "| NVIDIA-SMI 525.85.12    Driver Version: 525.85.12    CUDA Version: 12.0     |\n",
      "|-------------------------------+----------------------+----------------------+\n",
      "| GPU  Name        Persistence-M| Bus-Id        Disp.A | Volatile Uncorr. ECC |\n",
      "| Fan  Temp  Perf  Pwr:Usage/Cap|         Memory-Usage | GPU-Util  Compute M. |\n",
      "|                               |                      |               MIG M. |\n",
      "|===============================+======================+======================|\n",
      "|   0  Tesla V100-SXM2...  Off  | 00000000:00:04.0 Off |                    0 |\n",
      "| N/A   33C    P0    23W / 300W |      0MiB / 16384MiB |      0%      Default |\n",
      "|                               |                      |                  N/A |\n",
      "+-------------------------------+----------------------+----------------------+\n",
      "                                                                               \n",
      "+-----------------------------------------------------------------------------+\n",
      "| Processes:                                                                  |\n",
      "|  GPU   GI   CI        PID   Type   Process name                  GPU Memory |\n",
      "|        ID   ID                                                   Usage      |\n",
      "|=============================================================================|\n",
      "|  No running processes found                                                 |\n",
      "+-----------------------------------------------------------------------------+\n"
     ]
    }
   ],
   "source": [
    "gpu_info = !nvidia-smi\n",
    "gpu_info = '\\n'.join(gpu_info)\n",
    "if gpu_info.find('failed') >= 0:\n",
    "  print('Not connected to a GPU')\n",
    "else:\n",
    "  print(gpu_info)"
   ]
  }
 ],
 "metadata": {
  "colab": {
   "machine_shape": "hm",
   "provenance": []
  },
  "kernelspec": {
   "display_name": "Python 3 (ipykernel)",
   "language": "python",
   "name": "python3"
  },
  "language_info": {
   "codemirror_mode": {
    "name": "ipython",
    "version": 3
   },
   "file_extension": ".py",
   "mimetype": "text/x-python",
   "name": "python",
   "nbconvert_exporter": "python",
   "pygments_lexer": "ipython3",
   "version": "3.9.13"
  },
  "widgets": {
   "application/vnd.jupyter.widget-state+json": {
    "0e7f6005b0884dab98668f33a40b6424": {
     "model_module": "@jupyter-widgets/controls",
     "model_module_version": "1.5.0",
     "model_name": "HBoxModel",
     "state": {
      "_dom_classes": [],
      "_model_module": "@jupyter-widgets/controls",
      "_model_module_version": "1.5.0",
      "_model_name": "HBoxModel",
      "_view_count": null,
      "_view_module": "@jupyter-widgets/controls",
      "_view_module_version": "1.5.0",
      "_view_name": "HBoxView",
      "box_style": "",
      "children": [
       "IPY_MODEL_ab006f19113f4bd29863a2c5aa9c3142",
       "IPY_MODEL_cb32a5cd024f47f79bea73278badaf47",
       "IPY_MODEL_6ea1ae76f2df4194b313b29d0200edd2"
      ],
      "layout": "IPY_MODEL_7306b2f2693441dd98f6a7fa706493ea"
     }
    },
    "1510121315844ecca315061ed797ca55": {
     "model_module": "@jupyter-widgets/controls",
     "model_module_version": "1.5.0",
     "model_name": "FloatProgressModel",
     "state": {
      "_dom_classes": [],
      "_model_module": "@jupyter-widgets/controls",
      "_model_module_version": "1.5.0",
      "_model_name": "FloatProgressModel",
      "_view_count": null,
      "_view_module": "@jupyter-widgets/controls",
      "_view_module_version": "1.5.0",
      "_view_name": "ProgressView",
      "bar_style": "success",
      "description": "",
      "description_tooltip": null,
      "layout": "IPY_MODEL_c1ffb6c52e354ce3888a67004091a066",
      "max": 1042301,
      "min": 0,
      "orientation": "horizontal",
      "style": "IPY_MODEL_92a8c88c88ca4d4bb9f8d3e820da7886",
      "value": 1042301
     }
    },
    "1919a8349edf4e379a91e37f60fd2e5e": {
     "model_module": "@jupyter-widgets/base",
     "model_module_version": "1.2.0",
     "model_name": "LayoutModel",
     "state": {
      "_model_module": "@jupyter-widgets/base",
      "_model_module_version": "1.2.0",
      "_model_name": "LayoutModel",
      "_view_count": null,
      "_view_module": "@jupyter-widgets/base",
      "_view_module_version": "1.2.0",
      "_view_name": "LayoutView",
      "align_content": null,
      "align_items": null,
      "align_self": null,
      "border": null,
      "bottom": null,
      "display": null,
      "flex": null,
      "flex_flow": null,
      "grid_area": null,
      "grid_auto_columns": null,
      "grid_auto_flow": null,
      "grid_auto_rows": null,
      "grid_column": null,
      "grid_gap": null,
      "grid_row": null,
      "grid_template_areas": null,
      "grid_template_columns": null,
      "grid_template_rows": null,
      "height": null,
      "justify_content": null,
      "justify_items": null,
      "left": null,
      "margin": null,
      "max_height": null,
      "max_width": null,
      "min_height": null,
      "min_width": null,
      "object_fit": null,
      "object_position": null,
      "order": null,
      "overflow": null,
      "overflow_x": null,
      "overflow_y": null,
      "padding": null,
      "right": null,
      "top": null,
      "visibility": null,
      "width": null
     }
    },
    "1da0cb6f46a84960918724301fabeb71": {
     "model_module": "@jupyter-widgets/controls",
     "model_module_version": "1.5.0",
     "model_name": "ProgressStyleModel",
     "state": {
      "_model_module": "@jupyter-widgets/controls",
      "_model_module_version": "1.5.0",
      "_model_name": "ProgressStyleModel",
      "_view_count": null,
      "_view_module": "@jupyter-widgets/base",
      "_view_module_version": "1.2.0",
      "_view_name": "StyleView",
      "bar_color": null,
      "description_width": ""
     }
    },
    "1e3173bf62c74f539c7dd776a287bf6b": {
     "model_module": "@jupyter-widgets/controls",
     "model_module_version": "1.5.0",
     "model_name": "ProgressStyleModel",
     "state": {
      "_model_module": "@jupyter-widgets/controls",
      "_model_module_version": "1.5.0",
      "_model_name": "ProgressStyleModel",
      "_view_count": null,
      "_view_module": "@jupyter-widgets/base",
      "_view_module_version": "1.2.0",
      "_view_name": "StyleView",
      "bar_color": null,
      "description_width": ""
     }
    },
    "27b8a763070c4cbf8eff025dd1766704": {
     "model_module": "@jupyter-widgets/base",
     "model_module_version": "1.2.0",
     "model_name": "LayoutModel",
     "state": {
      "_model_module": "@jupyter-widgets/base",
      "_model_module_version": "1.2.0",
      "_model_name": "LayoutModel",
      "_view_count": null,
      "_view_module": "@jupyter-widgets/base",
      "_view_module_version": "1.2.0",
      "_view_name": "LayoutView",
      "align_content": null,
      "align_items": null,
      "align_self": null,
      "border": null,
      "bottom": null,
      "display": null,
      "flex": null,
      "flex_flow": null,
      "grid_area": null,
      "grid_auto_columns": null,
      "grid_auto_flow": null,
      "grid_auto_rows": null,
      "grid_column": null,
      "grid_gap": null,
      "grid_row": null,
      "grid_template_areas": null,
      "grid_template_columns": null,
      "grid_template_rows": null,
      "height": null,
      "justify_content": null,
      "justify_items": null,
      "left": null,
      "margin": null,
      "max_height": null,
      "max_width": null,
      "min_height": null,
      "min_width": null,
      "object_fit": null,
      "object_position": null,
      "order": null,
      "overflow": null,
      "overflow_x": null,
      "overflow_y": null,
      "padding": null,
      "right": null,
      "top": null,
      "visibility": null,
      "width": null
     }
    },
    "2d12da8b2b364a06a70615fdb9e0a8e6": {
     "model_module": "@jupyter-widgets/base",
     "model_module_version": "1.2.0",
     "model_name": "LayoutModel",
     "state": {
      "_model_module": "@jupyter-widgets/base",
      "_model_module_version": "1.2.0",
      "_model_name": "LayoutModel",
      "_view_count": null,
      "_view_module": "@jupyter-widgets/base",
      "_view_module_version": "1.2.0",
      "_view_name": "LayoutView",
      "align_content": null,
      "align_items": null,
      "align_self": null,
      "border": null,
      "bottom": null,
      "display": null,
      "flex": null,
      "flex_flow": null,
      "grid_area": null,
      "grid_auto_columns": null,
      "grid_auto_flow": null,
      "grid_auto_rows": null,
      "grid_column": null,
      "grid_gap": null,
      "grid_row": null,
      "grid_template_areas": null,
      "grid_template_columns": null,
      "grid_template_rows": null,
      "height": null,
      "justify_content": null,
      "justify_items": null,
      "left": null,
      "margin": null,
      "max_height": null,
      "max_width": null,
      "min_height": null,
      "min_width": null,
      "object_fit": null,
      "object_position": null,
      "order": null,
      "overflow": null,
      "overflow_x": null,
      "overflow_y": null,
      "padding": null,
      "right": null,
      "top": null,
      "visibility": null,
      "width": null
     }
    },
    "2eda110549e9406a831faf14c2b1d3ca": {
     "model_module": "@jupyter-widgets/controls",
     "model_module_version": "1.5.0",
     "model_name": "DescriptionStyleModel",
     "state": {
      "_model_module": "@jupyter-widgets/controls",
      "_model_module_version": "1.5.0",
      "_model_name": "DescriptionStyleModel",
      "_view_count": null,
      "_view_module": "@jupyter-widgets/base",
      "_view_module_version": "1.2.0",
      "_view_name": "StyleView",
      "description_width": ""
     }
    },
    "2f33084d07f64b6b8741ad8fd0e036ff": {
     "model_module": "@jupyter-widgets/controls",
     "model_module_version": "1.5.0",
     "model_name": "HTMLModel",
     "state": {
      "_dom_classes": [],
      "_model_module": "@jupyter-widgets/controls",
      "_model_module_version": "1.5.0",
      "_model_name": "HTMLModel",
      "_view_count": null,
      "_view_module": "@jupyter-widgets/controls",
      "_view_module_version": "1.5.0",
      "_view_name": "HTMLView",
      "description": "",
      "description_tooltip": null,
      "layout": "IPY_MODEL_f43b6d5c769e4416b9969afbf9c77569",
      "placeholder": "​",
      "style": "IPY_MODEL_eb616ed9d31a4f7d816a2dd0b33e9339",
      "value": "Downloading (…)olve/main/vocab.json: 100%"
     }
    },
    "35ae5044ae744e808d0a6c6046694603": {
     "model_module": "@jupyter-widgets/controls",
     "model_module_version": "1.5.0",
     "model_name": "HBoxModel",
     "state": {
      "_dom_classes": [],
      "_model_module": "@jupyter-widgets/controls",
      "_model_module_version": "1.5.0",
      "_model_name": "HBoxModel",
      "_view_count": null,
      "_view_module": "@jupyter-widgets/controls",
      "_view_module_version": "1.5.0",
      "_view_name": "HBoxView",
      "box_style": "",
      "children": [
       "IPY_MODEL_9d8200500e584c27a764ef0dd9dbd904",
       "IPY_MODEL_7c0635408d43442b828818e88dd4b43b",
       "IPY_MODEL_76390fe0464f4eeab83b4dc1130c025e"
      ],
      "layout": "IPY_MODEL_a76e6264d2a045caabc1831d136cc980"
     }
    },
    "3d00e43236d34dc58bade00be5feb1ca": {
     "model_module": "@jupyter-widgets/controls",
     "model_module_version": "1.5.0",
     "model_name": "DescriptionStyleModel",
     "state": {
      "_model_module": "@jupyter-widgets/controls",
      "_model_module_version": "1.5.0",
      "_model_name": "DescriptionStyleModel",
      "_view_count": null,
      "_view_module": "@jupyter-widgets/base",
      "_view_module_version": "1.2.0",
      "_view_name": "StyleView",
      "description_width": ""
     }
    },
    "42e07609569d4f8db4b3d5b52ab7d402": {
     "model_module": "@jupyter-widgets/base",
     "model_module_version": "1.2.0",
     "model_name": "LayoutModel",
     "state": {
      "_model_module": "@jupyter-widgets/base",
      "_model_module_version": "1.2.0",
      "_model_name": "LayoutModel",
      "_view_count": null,
      "_view_module": "@jupyter-widgets/base",
      "_view_module_version": "1.2.0",
      "_view_name": "LayoutView",
      "align_content": null,
      "align_items": null,
      "align_self": null,
      "border": null,
      "bottom": null,
      "display": null,
      "flex": null,
      "flex_flow": null,
      "grid_area": null,
      "grid_auto_columns": null,
      "grid_auto_flow": null,
      "grid_auto_rows": null,
      "grid_column": null,
      "grid_gap": null,
      "grid_row": null,
      "grid_template_areas": null,
      "grid_template_columns": null,
      "grid_template_rows": null,
      "height": null,
      "justify_content": null,
      "justify_items": null,
      "left": null,
      "margin": null,
      "max_height": null,
      "max_width": null,
      "min_height": null,
      "min_width": null,
      "object_fit": null,
      "object_position": null,
      "order": null,
      "overflow": null,
      "overflow_x": null,
      "overflow_y": null,
      "padding": null,
      "right": null,
      "top": null,
      "visibility": null,
      "width": null
     }
    },
    "482fc7efcdc64746afe7309010ac23ce": {
     "model_module": "@jupyter-widgets/base",
     "model_module_version": "1.2.0",
     "model_name": "LayoutModel",
     "state": {
      "_model_module": "@jupyter-widgets/base",
      "_model_module_version": "1.2.0",
      "_model_name": "LayoutModel",
      "_view_count": null,
      "_view_module": "@jupyter-widgets/base",
      "_view_module_version": "1.2.0",
      "_view_name": "LayoutView",
      "align_content": null,
      "align_items": null,
      "align_self": null,
      "border": null,
      "bottom": null,
      "display": null,
      "flex": null,
      "flex_flow": null,
      "grid_area": null,
      "grid_auto_columns": null,
      "grid_auto_flow": null,
      "grid_auto_rows": null,
      "grid_column": null,
      "grid_gap": null,
      "grid_row": null,
      "grid_template_areas": null,
      "grid_template_columns": null,
      "grid_template_rows": null,
      "height": null,
      "justify_content": null,
      "justify_items": null,
      "left": null,
      "margin": null,
      "max_height": null,
      "max_width": null,
      "min_height": null,
      "min_width": null,
      "object_fit": null,
      "object_position": null,
      "order": null,
      "overflow": null,
      "overflow_x": null,
      "overflow_y": null,
      "padding": null,
      "right": null,
      "top": null,
      "visibility": null,
      "width": null
     }
    },
    "5f9075bd71c748abbc8b0aab6ea9d638": {
     "model_module": "@jupyter-widgets/base",
     "model_module_version": "1.2.0",
     "model_name": "LayoutModel",
     "state": {
      "_model_module": "@jupyter-widgets/base",
      "_model_module_version": "1.2.0",
      "_model_name": "LayoutModel",
      "_view_count": null,
      "_view_module": "@jupyter-widgets/base",
      "_view_module_version": "1.2.0",
      "_view_name": "LayoutView",
      "align_content": null,
      "align_items": null,
      "align_self": null,
      "border": null,
      "bottom": null,
      "display": null,
      "flex": null,
      "flex_flow": null,
      "grid_area": null,
      "grid_auto_columns": null,
      "grid_auto_flow": null,
      "grid_auto_rows": null,
      "grid_column": null,
      "grid_gap": null,
      "grid_row": null,
      "grid_template_areas": null,
      "grid_template_columns": null,
      "grid_template_rows": null,
      "height": null,
      "justify_content": null,
      "justify_items": null,
      "left": null,
      "margin": null,
      "max_height": null,
      "max_width": null,
      "min_height": null,
      "min_width": null,
      "object_fit": null,
      "object_position": null,
      "order": null,
      "overflow": null,
      "overflow_x": null,
      "overflow_y": null,
      "padding": null,
      "right": null,
      "top": null,
      "visibility": null,
      "width": null
     }
    },
    "6ea1ae76f2df4194b313b29d0200edd2": {
     "model_module": "@jupyter-widgets/controls",
     "model_module_version": "1.5.0",
     "model_name": "HTMLModel",
     "state": {
      "_dom_classes": [],
      "_model_module": "@jupyter-widgets/controls",
      "_model_module_version": "1.5.0",
      "_model_name": "HTMLModel",
      "_view_count": null,
      "_view_module": "@jupyter-widgets/controls",
      "_view_module_version": "1.5.0",
      "_view_name": "HTMLView",
      "description": "",
      "description_tooltip": null,
      "layout": "IPY_MODEL_42e07609569d4f8db4b3d5b52ab7d402",
      "placeholder": "​",
      "style": "IPY_MODEL_d924e4dcc3684991be8a7905c493e1aa",
      "value": " 456k/456k [00:00&lt;00:00, 760kB/s]"
     }
    },
    "7306b2f2693441dd98f6a7fa706493ea": {
     "model_module": "@jupyter-widgets/base",
     "model_module_version": "1.2.0",
     "model_name": "LayoutModel",
     "state": {
      "_model_module": "@jupyter-widgets/base",
      "_model_module_version": "1.2.0",
      "_model_name": "LayoutModel",
      "_view_count": null,
      "_view_module": "@jupyter-widgets/base",
      "_view_module_version": "1.2.0",
      "_view_name": "LayoutView",
      "align_content": null,
      "align_items": null,
      "align_self": null,
      "border": null,
      "bottom": null,
      "display": null,
      "flex": null,
      "flex_flow": null,
      "grid_area": null,
      "grid_auto_columns": null,
      "grid_auto_flow": null,
      "grid_auto_rows": null,
      "grid_column": null,
      "grid_gap": null,
      "grid_row": null,
      "grid_template_areas": null,
      "grid_template_columns": null,
      "grid_template_rows": null,
      "height": null,
      "justify_content": null,
      "justify_items": null,
      "left": null,
      "margin": null,
      "max_height": null,
      "max_width": null,
      "min_height": null,
      "min_width": null,
      "object_fit": null,
      "object_position": null,
      "order": null,
      "overflow": null,
      "overflow_x": null,
      "overflow_y": null,
      "padding": null,
      "right": null,
      "top": null,
      "visibility": null,
      "width": null
     }
    },
    "76390fe0464f4eeab83b4dc1130c025e": {
     "model_module": "@jupyter-widgets/controls",
     "model_module_version": "1.5.0",
     "model_name": "HTMLModel",
     "state": {
      "_dom_classes": [],
      "_model_module": "@jupyter-widgets/controls",
      "_model_module_version": "1.5.0",
      "_model_name": "HTMLModel",
      "_view_count": null,
      "_view_module": "@jupyter-widgets/controls",
      "_view_module_version": "1.5.0",
      "_view_name": "HTMLView",
      "description": "",
      "description_tooltip": null,
      "layout": "IPY_MODEL_482fc7efcdc64746afe7309010ac23ce",
      "placeholder": "​",
      "style": "IPY_MODEL_2eda110549e9406a831faf14c2b1d3ca",
      "value": " 665/665 [00:00&lt;00:00, 31.9kB/s]"
     }
    },
    "7791af86f6a44a5ca47721216b78c52b": {
     "model_module": "@jupyter-widgets/base",
     "model_module_version": "1.2.0",
     "model_name": "LayoutModel",
     "state": {
      "_model_module": "@jupyter-widgets/base",
      "_model_module_version": "1.2.0",
      "_model_name": "LayoutModel",
      "_view_count": null,
      "_view_module": "@jupyter-widgets/base",
      "_view_module_version": "1.2.0",
      "_view_name": "LayoutView",
      "align_content": null,
      "align_items": null,
      "align_self": null,
      "border": null,
      "bottom": null,
      "display": null,
      "flex": null,
      "flex_flow": null,
      "grid_area": null,
      "grid_auto_columns": null,
      "grid_auto_flow": null,
      "grid_auto_rows": null,
      "grid_column": null,
      "grid_gap": null,
      "grid_row": null,
      "grid_template_areas": null,
      "grid_template_columns": null,
      "grid_template_rows": null,
      "height": null,
      "justify_content": null,
      "justify_items": null,
      "left": null,
      "margin": null,
      "max_height": null,
      "max_width": null,
      "min_height": null,
      "min_width": null,
      "object_fit": null,
      "object_position": null,
      "order": null,
      "overflow": null,
      "overflow_x": null,
      "overflow_y": null,
      "padding": null,
      "right": null,
      "top": null,
      "visibility": null,
      "width": null
     }
    },
    "7c0635408d43442b828818e88dd4b43b": {
     "model_module": "@jupyter-widgets/controls",
     "model_module_version": "1.5.0",
     "model_name": "FloatProgressModel",
     "state": {
      "_dom_classes": [],
      "_model_module": "@jupyter-widgets/controls",
      "_model_module_version": "1.5.0",
      "_model_name": "FloatProgressModel",
      "_view_count": null,
      "_view_module": "@jupyter-widgets/controls",
      "_view_module_version": "1.5.0",
      "_view_name": "ProgressView",
      "bar_style": "success",
      "description": "",
      "description_tooltip": null,
      "layout": "IPY_MODEL_7791af86f6a44a5ca47721216b78c52b",
      "max": 665,
      "min": 0,
      "orientation": "horizontal",
      "style": "IPY_MODEL_1e3173bf62c74f539c7dd776a287bf6b",
      "value": 665
     }
    },
    "7f3c65c0bb9544faa7f682c38a15249a": {
     "model_module": "@jupyter-widgets/controls",
     "model_module_version": "1.5.0",
     "model_name": "DescriptionStyleModel",
     "state": {
      "_model_module": "@jupyter-widgets/controls",
      "_model_module_version": "1.5.0",
      "_model_name": "DescriptionStyleModel",
      "_view_count": null,
      "_view_module": "@jupyter-widgets/base",
      "_view_module_version": "1.2.0",
      "_view_name": "StyleView",
      "description_width": ""
     }
    },
    "92a8c88c88ca4d4bb9f8d3e820da7886": {
     "model_module": "@jupyter-widgets/controls",
     "model_module_version": "1.5.0",
     "model_name": "ProgressStyleModel",
     "state": {
      "_model_module": "@jupyter-widgets/controls",
      "_model_module_version": "1.5.0",
      "_model_name": "ProgressStyleModel",
      "_view_count": null,
      "_view_module": "@jupyter-widgets/base",
      "_view_module_version": "1.2.0",
      "_view_name": "StyleView",
      "bar_color": null,
      "description_width": ""
     }
    },
    "9d8200500e584c27a764ef0dd9dbd904": {
     "model_module": "@jupyter-widgets/controls",
     "model_module_version": "1.5.0",
     "model_name": "HTMLModel",
     "state": {
      "_dom_classes": [],
      "_model_module": "@jupyter-widgets/controls",
      "_model_module_version": "1.5.0",
      "_model_name": "HTMLModel",
      "_view_count": null,
      "_view_module": "@jupyter-widgets/controls",
      "_view_module_version": "1.5.0",
      "_view_name": "HTMLView",
      "description": "",
      "description_tooltip": null,
      "layout": "IPY_MODEL_27b8a763070c4cbf8eff025dd1766704",
      "placeholder": "​",
      "style": "IPY_MODEL_f07be588da5e4346a0b495af794feb60",
      "value": "Downloading (…)lve/main/config.json: 100%"
     }
    },
    "a76e6264d2a045caabc1831d136cc980": {
     "model_module": "@jupyter-widgets/base",
     "model_module_version": "1.2.0",
     "model_name": "LayoutModel",
     "state": {
      "_model_module": "@jupyter-widgets/base",
      "_model_module_version": "1.2.0",
      "_model_name": "LayoutModel",
      "_view_count": null,
      "_view_module": "@jupyter-widgets/base",
      "_view_module_version": "1.2.0",
      "_view_name": "LayoutView",
      "align_content": null,
      "align_items": null,
      "align_self": null,
      "border": null,
      "bottom": null,
      "display": null,
      "flex": null,
      "flex_flow": null,
      "grid_area": null,
      "grid_auto_columns": null,
      "grid_auto_flow": null,
      "grid_auto_rows": null,
      "grid_column": null,
      "grid_gap": null,
      "grid_row": null,
      "grid_template_areas": null,
      "grid_template_columns": null,
      "grid_template_rows": null,
      "height": null,
      "justify_content": null,
      "justify_items": null,
      "left": null,
      "margin": null,
      "max_height": null,
      "max_width": null,
      "min_height": null,
      "min_width": null,
      "object_fit": null,
      "object_position": null,
      "order": null,
      "overflow": null,
      "overflow_x": null,
      "overflow_y": null,
      "padding": null,
      "right": null,
      "top": null,
      "visibility": null,
      "width": null
     }
    },
    "ab006f19113f4bd29863a2c5aa9c3142": {
     "model_module": "@jupyter-widgets/controls",
     "model_module_version": "1.5.0",
     "model_name": "HTMLModel",
     "state": {
      "_dom_classes": [],
      "_model_module": "@jupyter-widgets/controls",
      "_model_module_version": "1.5.0",
      "_model_name": "HTMLModel",
      "_view_count": null,
      "_view_module": "@jupyter-widgets/controls",
      "_view_module_version": "1.5.0",
      "_view_name": "HTMLView",
      "description": "",
      "description_tooltip": null,
      "layout": "IPY_MODEL_1919a8349edf4e379a91e37f60fd2e5e",
      "placeholder": "​",
      "style": "IPY_MODEL_7f3c65c0bb9544faa7f682c38a15249a",
      "value": "Downloading (…)olve/main/merges.txt: 100%"
     }
    },
    "c1ffb6c52e354ce3888a67004091a066": {
     "model_module": "@jupyter-widgets/base",
     "model_module_version": "1.2.0",
     "model_name": "LayoutModel",
     "state": {
      "_model_module": "@jupyter-widgets/base",
      "_model_module_version": "1.2.0",
      "_model_name": "LayoutModel",
      "_view_count": null,
      "_view_module": "@jupyter-widgets/base",
      "_view_module_version": "1.2.0",
      "_view_name": "LayoutView",
      "align_content": null,
      "align_items": null,
      "align_self": null,
      "border": null,
      "bottom": null,
      "display": null,
      "flex": null,
      "flex_flow": null,
      "grid_area": null,
      "grid_auto_columns": null,
      "grid_auto_flow": null,
      "grid_auto_rows": null,
      "grid_column": null,
      "grid_gap": null,
      "grid_row": null,
      "grid_template_areas": null,
      "grid_template_columns": null,
      "grid_template_rows": null,
      "height": null,
      "justify_content": null,
      "justify_items": null,
      "left": null,
      "margin": null,
      "max_height": null,
      "max_width": null,
      "min_height": null,
      "min_width": null,
      "object_fit": null,
      "object_position": null,
      "order": null,
      "overflow": null,
      "overflow_x": null,
      "overflow_y": null,
      "padding": null,
      "right": null,
      "top": null,
      "visibility": null,
      "width": null
     }
    },
    "cb32a5cd024f47f79bea73278badaf47": {
     "model_module": "@jupyter-widgets/controls",
     "model_module_version": "1.5.0",
     "model_name": "FloatProgressModel",
     "state": {
      "_dom_classes": [],
      "_model_module": "@jupyter-widgets/controls",
      "_model_module_version": "1.5.0",
      "_model_name": "FloatProgressModel",
      "_view_count": null,
      "_view_module": "@jupyter-widgets/controls",
      "_view_module_version": "1.5.0",
      "_view_name": "ProgressView",
      "bar_style": "success",
      "description": "",
      "description_tooltip": null,
      "layout": "IPY_MODEL_5f9075bd71c748abbc8b0aab6ea9d638",
      "max": 456318,
      "min": 0,
      "orientation": "horizontal",
      "style": "IPY_MODEL_1da0cb6f46a84960918724301fabeb71",
      "value": 456318
     }
    },
    "d924e4dcc3684991be8a7905c493e1aa": {
     "model_module": "@jupyter-widgets/controls",
     "model_module_version": "1.5.0",
     "model_name": "DescriptionStyleModel",
     "state": {
      "_model_module": "@jupyter-widgets/controls",
      "_model_module_version": "1.5.0",
      "_model_name": "DescriptionStyleModel",
      "_view_count": null,
      "_view_module": "@jupyter-widgets/base",
      "_view_module_version": "1.2.0",
      "_view_name": "StyleView",
      "description_width": ""
     }
    },
    "e4a5d9c62c514530901bb74dadcc6008": {
     "model_module": "@jupyter-widgets/base",
     "model_module_version": "1.2.0",
     "model_name": "LayoutModel",
     "state": {
      "_model_module": "@jupyter-widgets/base",
      "_model_module_version": "1.2.0",
      "_model_name": "LayoutModel",
      "_view_count": null,
      "_view_module": "@jupyter-widgets/base",
      "_view_module_version": "1.2.0",
      "_view_name": "LayoutView",
      "align_content": null,
      "align_items": null,
      "align_self": null,
      "border": null,
      "bottom": null,
      "display": null,
      "flex": null,
      "flex_flow": null,
      "grid_area": null,
      "grid_auto_columns": null,
      "grid_auto_flow": null,
      "grid_auto_rows": null,
      "grid_column": null,
      "grid_gap": null,
      "grid_row": null,
      "grid_template_areas": null,
      "grid_template_columns": null,
      "grid_template_rows": null,
      "height": null,
      "justify_content": null,
      "justify_items": null,
      "left": null,
      "margin": null,
      "max_height": null,
      "max_width": null,
      "min_height": null,
      "min_width": null,
      "object_fit": null,
      "object_position": null,
      "order": null,
      "overflow": null,
      "overflow_x": null,
      "overflow_y": null,
      "padding": null,
      "right": null,
      "top": null,
      "visibility": null,
      "width": null
     }
    },
    "eb616ed9d31a4f7d816a2dd0b33e9339": {
     "model_module": "@jupyter-widgets/controls",
     "model_module_version": "1.5.0",
     "model_name": "DescriptionStyleModel",
     "state": {
      "_model_module": "@jupyter-widgets/controls",
      "_model_module_version": "1.5.0",
      "_model_name": "DescriptionStyleModel",
      "_view_count": null,
      "_view_module": "@jupyter-widgets/base",
      "_view_module_version": "1.2.0",
      "_view_name": "StyleView",
      "description_width": ""
     }
    },
    "ed4093c5330942958fe107f272b3f843": {
     "model_module": "@jupyter-widgets/controls",
     "model_module_version": "1.5.0",
     "model_name": "HBoxModel",
     "state": {
      "_dom_classes": [],
      "_model_module": "@jupyter-widgets/controls",
      "_model_module_version": "1.5.0",
      "_model_name": "HBoxModel",
      "_view_count": null,
      "_view_module": "@jupyter-widgets/controls",
      "_view_module_version": "1.5.0",
      "_view_name": "HBoxView",
      "box_style": "",
      "children": [
       "IPY_MODEL_2f33084d07f64b6b8741ad8fd0e036ff",
       "IPY_MODEL_1510121315844ecca315061ed797ca55",
       "IPY_MODEL_edcef9a9db234e4391a1496589e57348"
      ],
      "layout": "IPY_MODEL_2d12da8b2b364a06a70615fdb9e0a8e6"
     }
    },
    "edcef9a9db234e4391a1496589e57348": {
     "model_module": "@jupyter-widgets/controls",
     "model_module_version": "1.5.0",
     "model_name": "HTMLModel",
     "state": {
      "_dom_classes": [],
      "_model_module": "@jupyter-widgets/controls",
      "_model_module_version": "1.5.0",
      "_model_name": "HTMLModel",
      "_view_count": null,
      "_view_module": "@jupyter-widgets/controls",
      "_view_module_version": "1.5.0",
      "_view_name": "HTMLView",
      "description": "",
      "description_tooltip": null,
      "layout": "IPY_MODEL_e4a5d9c62c514530901bb74dadcc6008",
      "placeholder": "​",
      "style": "IPY_MODEL_3d00e43236d34dc58bade00be5feb1ca",
      "value": " 1.04M/1.04M [00:00&lt;00:00, 1.29MB/s]"
     }
    },
    "f07be588da5e4346a0b495af794feb60": {
     "model_module": "@jupyter-widgets/controls",
     "model_module_version": "1.5.0",
     "model_name": "DescriptionStyleModel",
     "state": {
      "_model_module": "@jupyter-widgets/controls",
      "_model_module_version": "1.5.0",
      "_model_name": "DescriptionStyleModel",
      "_view_count": null,
      "_view_module": "@jupyter-widgets/base",
      "_view_module_version": "1.2.0",
      "_view_name": "StyleView",
      "description_width": ""
     }
    },
    "f43b6d5c769e4416b9969afbf9c77569": {
     "model_module": "@jupyter-widgets/base",
     "model_module_version": "1.2.0",
     "model_name": "LayoutModel",
     "state": {
      "_model_module": "@jupyter-widgets/base",
      "_model_module_version": "1.2.0",
      "_model_name": "LayoutModel",
      "_view_count": null,
      "_view_module": "@jupyter-widgets/base",
      "_view_module_version": "1.2.0",
      "_view_name": "LayoutView",
      "align_content": null,
      "align_items": null,
      "align_self": null,
      "border": null,
      "bottom": null,
      "display": null,
      "flex": null,
      "flex_flow": null,
      "grid_area": null,
      "grid_auto_columns": null,
      "grid_auto_flow": null,
      "grid_auto_rows": null,
      "grid_column": null,
      "grid_gap": null,
      "grid_row": null,
      "grid_template_areas": null,
      "grid_template_columns": null,
      "grid_template_rows": null,
      "height": null,
      "justify_content": null,
      "justify_items": null,
      "left": null,
      "margin": null,
      "max_height": null,
      "max_width": null,
      "min_height": null,
      "min_width": null,
      "object_fit": null,
      "object_position": null,
      "order": null,
      "overflow": null,
      "overflow_x": null,
      "overflow_y": null,
      "padding": null,
      "right": null,
      "top": null,
      "visibility": null,
      "width": null
     }
    }
   }
  }
 },
 "nbformat": 4,
 "nbformat_minor": 1
}
